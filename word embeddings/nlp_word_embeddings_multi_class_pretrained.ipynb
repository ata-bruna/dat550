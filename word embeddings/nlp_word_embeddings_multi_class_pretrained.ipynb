{
 "cells": [
  {
   "cell_type": "markdown",
   "metadata": {},
   "source": [
    "# Detect claims to fact check in political debates\n",
    "\n",
    "In this project you will implement various classifiers using both neural and feature based technqiues to detect which sentences in political debates should be fact checked.\n",
    "Dataset from ClaimBuster: https://zenodo.org/record/3609356 \n",
    "Evaluate your classifiers using the same metrics as http://ranger.uta.edu/~cli/pubs/2017/claimbuster-kdd17-hassan.pdf (Table 2)\n",
    "\n",
    "Classification report from sklearn provides everything"
   ]
  },
  {
   "cell_type": "code",
   "execution_count": 1,
   "metadata": {},
   "outputs": [],
   "source": [
    "import numpy as np\n",
    "import pandas as pd\n",
    "import matplotlib.pyplot as plt\n",
    "\n",
    "from sklearn.metrics import *"
   ]
  },
  {
   "cell_type": "markdown",
   "metadata": {},
   "source": [
    "# Loading the data"
   ]
  },
  {
   "cell_type": "code",
   "execution_count": 2,
   "metadata": {},
   "outputs": [
    {
     "name": "stdout",
     "output_type": "stream",
     "text": [
      "<class 'pandas.core.frame.DataFrame'>\n",
      "RangeIndex: 23533 entries, 0 to 23532\n",
      "Data columns (total 5 columns):\n",
      " #   Column      Non-Null Count  Dtype         \n",
      "---  ------      --------------  -----         \n",
      " 0   index       23533 non-null  int64         \n",
      " 1   date        23533 non-null  datetime64[ns]\n",
      " 2   Text        23533 non-null  object        \n",
      " 3   Clean_text  23533 non-null  object        \n",
      " 4   Verdict     23533 non-null  int64         \n",
      "dtypes: datetime64[ns](1), int64(2), object(2)\n",
      "memory usage: 919.4+ KB\n"
     ]
    }
   ],
   "source": [
    "df = pd.read_csv(\"../data_preprocessing/data_with_stop_words.csv\")\n",
    "df['date'] = pd.to_datetime(df['date'])\n",
    "df.dropna(inplace=True)\n",
    "df.reset_index(inplace=True)\n",
    "df.info()\n"
   ]
  },
  {
   "cell_type": "markdown",
   "metadata": {},
   "source": [
    "# Train-test split"
   ]
  },
  {
   "cell_type": "code",
   "execution_count": 3,
   "metadata": {},
   "outputs": [],
   "source": [
    "mask = df[\"date\"].dt.year < 2012\n",
    "\n",
    "X_train = df.loc[mask, \"Clean_text\"].values\n",
    "y_train = df.loc[mask, \"Verdict\"].values\n",
    "\n",
    "X_test = df.loc[~mask, \"Clean_text\"].values\n",
    "y_test = df.loc[~mask, \"Verdict\"].values"
   ]
  },
  {
   "cell_type": "markdown",
   "metadata": {},
   "source": [
    "# Data Preprocessing"
   ]
  },
  {
   "cell_type": "code",
   "execution_count": 4,
   "metadata": {},
   "outputs": [],
   "source": [
    "from tensorflow.keras.preprocessing.text import one_hot\n",
    "from tensorflow.keras.preprocessing.text import Tokenizer\n",
    "from tensorflow.keras.layers import Embedding\n",
    "from tensorflow.keras.preprocessing.sequence import pad_sequences\n",
    "from tensorflow.keras.models import Sequential"
   ]
  },
  {
   "cell_type": "code",
   "execution_count": 5,
   "metadata": {},
   "outputs": [],
   "source": [
    "# defining vocabulary\n",
    "vocabulary = {}\n",
    "sentences_len = []\n",
    "for sentence in X_train:\n",
    "    for term in sentence.split():\n",
    "        vocabulary.setdefault(term, len(vocabulary))"
   ]
  },
  {
   "cell_type": "code",
   "execution_count": 6,
   "metadata": {},
   "outputs": [
    {
     "name": "stdout",
     "output_type": "stream",
     "text": [
      "vocabulary is composed of 10352 unique words\n"
     ]
    }
   ],
   "source": [
    "# Defining vocabulary size\n",
    "vocabulary_size = list(vocabulary.values())[-1] + 1\n",
    "\n",
    "print(f\"vocabulary is composed of {vocabulary_size} unique words\")"
   ]
  },
  {
   "cell_type": "markdown",
   "metadata": {},
   "source": [
    "## One hot encoding representation"
   ]
  },
  {
   "cell_type": "markdown",
   "metadata": {},
   "source": [
    "Encoding train data"
   ]
  },
  {
   "cell_type": "code",
   "execution_count": 7,
   "metadata": {},
   "outputs": [],
   "source": [
    "tokenizer = Tokenizer()\n",
    "tokenizer.fit_on_texts(X_train)\n",
    "X_train_encoded = tokenizer.texts_to_sequences(X_train)"
   ]
  },
  {
   "cell_type": "markdown",
   "metadata": {},
   "source": [
    "Encodding Test data"
   ]
  },
  {
   "cell_type": "code",
   "execution_count": 8,
   "metadata": {},
   "outputs": [],
   "source": [
    "X_test_encoded = tokenizer.texts_to_sequences(X_test)"
   ]
  },
  {
   "cell_type": "code",
   "execution_count": 22,
   "metadata": {},
   "outputs": [],
   "source": [
    "word_index = tokenizer.word_index # same as vocabulary"
   ]
  },
  {
   "cell_type": "markdown",
   "metadata": {},
   "source": [
    "## Padding sequences"
   ]
  },
  {
   "cell_type": "code",
   "execution_count": 16,
   "metadata": {},
   "outputs": [],
   "source": [
    "# finding max sentence length\n",
    "# vec_lengths = []\n",
    "# for i in X_train_encoded:\n",
    "#     vec_lengths.append(len(i))\n",
    "\n",
    "\n",
    "# max_length = np.unique(vec_lengths)[-1]\n",
    "max_length = 200"
   ]
  },
  {
   "cell_type": "code",
   "execution_count": 17,
   "metadata": {},
   "outputs": [
    {
     "name": "stdout",
     "output_type": "stream",
     "text": [
      "[[  45   16   13 ...    0    0    0]\n",
      " [  44   93   22 ...    0    0    0]\n",
      " [   1  583 2982 ...    0    0    0]\n",
      " ...\n",
      " [   3    4   27 ...    0    0    0]\n",
      " [ 389 1378    5 ...    0    0    0]\n",
      " [   3  389   46 ...    0    0    0]]\n"
     ]
    }
   ],
   "source": [
    "X_train_embedded=pad_sequences(X_train_encoded,padding='post',maxlen=max_length)\n",
    "print(X_train_embedded)"
   ]
  },
  {
   "cell_type": "markdown",
   "metadata": {},
   "source": [
    "### For training"
   ]
  },
  {
   "cell_type": "code",
   "execution_count": 18,
   "metadata": {},
   "outputs": [
    {
     "data": {
      "text/plain": [
       "(18170, 200)"
      ]
     },
     "execution_count": 18,
     "metadata": {},
     "output_type": "execute_result"
    }
   ],
   "source": [
    "X_train_embedded.shape"
   ]
  },
  {
   "cell_type": "markdown",
   "metadata": {},
   "source": [
    "### For testing"
   ]
  },
  {
   "cell_type": "code",
   "execution_count": 19,
   "metadata": {},
   "outputs": [
    {
     "name": "stdout",
     "output_type": "stream",
     "text": [
      "(5363, 200)\n"
     ]
    }
   ],
   "source": [
    "X_test_embedded=pad_sequences(X_test_encoded,padding='post',maxlen=max_length)\n",
    "print(X_test_embedded.shape)"
   ]
  },
  {
   "cell_type": "markdown",
   "metadata": {},
   "source": [
    "### For the labels"
   ]
  },
  {
   "cell_type": "code",
   "execution_count": 20,
   "metadata": {},
   "outputs": [
    {
     "data": {
      "text/plain": [
       "(18170, 3)"
      ]
     },
     "execution_count": 20,
     "metadata": {},
     "output_type": "execute_result"
    }
   ],
   "source": [
    "from sklearn.preprocessing import OneHotEncoder\n",
    "one_hot_encoder = OneHotEncoder(sparse=False)\n",
    "one_hot_encoder.fit(y_train.reshape(-1, 1))\n",
    "y_encoded = one_hot_encoder.transform(y_train.reshape(-1, 1))\n",
    "\n",
    "y_encoded.shape"
   ]
  },
  {
   "cell_type": "code",
   "execution_count": 21,
   "metadata": {},
   "outputs": [
    {
     "data": {
      "text/plain": [
       "(5363, 3)"
      ]
     },
     "execution_count": 21,
     "metadata": {},
     "output_type": "execute_result"
    }
   ],
   "source": [
    "y_encoded_test = one_hot_encoder.transform(y_test.reshape(-1,1))\n",
    "y_encoded_test.shape"
   ]
  },
  {
   "cell_type": "markdown",
   "metadata": {},
   "source": [
    "# Creating the model"
   ]
  },
  {
   "cell_type": "code",
   "execution_count": 11,
   "metadata": {},
   "outputs": [],
   "source": [
    "# import os\n",
    "# import zipfile\n",
    "# with zipfile.ZipFile('../data/glove.zip', 'r') as zip_ref:\n",
    "#     zip_ref.extractall('../data/glove')"
   ]
  },
  {
   "cell_type": "code",
   "execution_count": 15,
   "metadata": {},
   "outputs": [
    {
     "name": "stdout",
     "output_type": "stream",
     "text": [
      "Found 400001 word vectors.\n"
     ]
    }
   ],
   "source": [
    "embeddings_index = {}\n",
    "f = open('../data/glove/glove.6B.200d.txt', encoding=\"utf8\")\n",
    "for line in f:\n",
    "    values = line.split()\n",
    "    word = values[0]\n",
    "    coefs = np.asarray(values[1:], dtype='float32')\n",
    "    embeddings_index[word] = coefs\n",
    "f.close()\n",
    "\n",
    "print('Found %s word vectors.' % len(embeddings_index))"
   ]
  },
  {
   "cell_type": "code",
   "execution_count": 28,
   "metadata": {},
   "outputs": [],
   "source": [
    "embedding_matrix = np.zeros((len(vocabulary) + 1, max_length))\n",
    "for word, i in vocabulary.items():\n",
    "    embedding_vector = embeddings_index.get(word)\n",
    "    if embedding_vector is not None:\n",
    "        # words not found in embedding index will be all-zeros.\n",
    "        embedding_matrix[i] = embedding_vector"
   ]
  },
  {
   "cell_type": "code",
   "execution_count": 31,
   "metadata": {},
   "outputs": [],
   "source": [
    "from tensorflow.keras.layers import LSTM\n",
    "from tensorflow.keras.layers import Dense\n",
    "from tensorflow.keras.layers import Bidirectional\n",
    "from tensorflow.keras.layers import Dropout\n",
    "from tensorflow.keras.layers import Flatten\n",
    "from tensorflow.keras.layers import GlobalMaxPool1D\n",
    "from tensorflow.keras.layers import MaxPooling1D\n",
    "from tensorflow.keras.layers import GlobalMaxPooling1D\n",
    "from tensorflow.keras.layers import Conv1D\n",
    "from tensorflow.keras.layers import SpatialDropout1D\n",
    "from tensorflow.keras.backend import clear_session"
   ]
  },
  {
   "cell_type": "code",
   "execution_count": 32,
   "metadata": {},
   "outputs": [],
   "source": [
    "clear_session()\n"
   ]
  },
  {
   "cell_type": "markdown",
   "metadata": {},
   "source": [
    "### Defining plotting functions\n",
    "\n",
    "- model history\n",
    "- confusuion matrix"
   ]
  },
  {
   "cell_type": "code",
   "execution_count": 33,
   "metadata": {},
   "outputs": [],
   "source": [
    "def plot_model_history(model_history):\n",
    "    # plot loss during training\n",
    "    plt.subplot(211)\n",
    "    plt.title('Loss')\n",
    "    plt.plot(model_history.history['loss'], label='train')\n",
    "    plt.plot(model_history.history['val_loss'], label='test')\n",
    "    plt.legend()\n",
    "    # plot accuracy during training\n",
    "    plt.subplot(212)\n",
    "    plt.title('Accuracy')\n",
    "    plt.plot(model_history.history['accuracy'], label='train')\n",
    "    plt.plot(model_history.history['val_accuracy'], label='test')\n",
    "    plt.legend()\n",
    "    plt.subplots_adjust(hspace=0.5)\n",
    "    plt.show()"
   ]
  },
  {
   "cell_type": "code",
   "execution_count": 34,
   "metadata": {},
   "outputs": [],
   "source": [
    "import itertools\n",
    "\n",
    "def plot_confusion_matrix(cm, classes,\n",
    "                          normalize=False,\n",
    "                          title='Confusion matrix'):\n",
    "    \"\"\"\n",
    "    Plot the confusion matrix.\n",
    "    Normalization is applied by setting `normalize=True`.\n",
    "\n",
    "    Code soure: \n",
    "    http://scikit-learn.org/stable/auto_examples/model_selection/plot_confusion_matrix.html\n",
    "    \n",
    "    \"\"\"\n",
    "    plt.imshow(cm, interpolation='nearest', cmap=plt.cm.binary)\n",
    "    plt.title(title)\n",
    "    plt.colorbar()\n",
    "    tick_marks = np.arange(len(classes))\n",
    "    plt.xticks(tick_marks, classes)\n",
    "    plt.yticks(tick_marks, classes)\n",
    "\n",
    "    if normalize:\n",
    "        cm = cm.astype('float') / cm.sum(axis=1)[:, np.newaxis]\n",
    "        print(\"Normalized confusion matrix\")\n",
    "    else:\n",
    "        print('Confusion matrix, without normalization')\n",
    "\n",
    "    thresh = cm.max() / 2.\n",
    "    for i, j in itertools.product(range(cm.shape[0]), range(cm.shape[1])):\n",
    "        plt.text(j, i, cm[i, j],\n",
    "                 horizontalalignment=\"center\",\n",
    "                 color=\"white\" if cm[i, j] > thresh else \"black\")\n",
    "\n",
    "    plt.tight_layout()\n",
    "    plt.ylabel('True label')\n",
    "    plt.xlabel('Predicted label')"
   ]
  },
  {
   "cell_type": "markdown",
   "metadata": {},
   "source": [
    "## LSTM"
   ]
  },
  {
   "cell_type": "code",
   "execution_count": 35,
   "metadata": {},
   "outputs": [
    {
     "name": "stdout",
     "output_type": "stream",
     "text": [
      "Model: \"sequential\"\n",
      "_________________________________________________________________\n",
      " Layer (type)                Output Shape              Param #   \n",
      "=================================================================\n",
      " embedding (Embedding)       (None, 200, 200)          2070600   \n",
      "                                                                 \n",
      " lstm (LSTM)                 (None, 100)               120400    \n",
      "                                                                 \n",
      " dense (Dense)               (None, 81)                8181      \n",
      "                                                                 \n",
      " dense_1 (Dense)             (None, 3)                 246       \n",
      "                                                                 \n",
      "=================================================================\n",
      "Total params: 2,199,427\n",
      "Trainable params: 128,827\n",
      "Non-trainable params: 2,070,600\n",
      "_________________________________________________________________\n",
      "None\n"
     ]
    }
   ],
   "source": [
    "model_lstm = Sequential()\n",
    "model_lstm.add(Embedding(vocabulary_size+1, \n",
    "                         output_dim=max_length, \n",
    "                         input_length=max_length,\n",
    "                         weights=[embedding_matrix],\n",
    "                         trainable = False\n",
    "                         ))\n",
    "model_lstm.add(LSTM(100))\n",
    "model_lstm.add(Dense(81, activation = \"relu\"))\n",
    "model_lstm.add(Dense(3, activation='softmax'))\n",
    "model_lstm.compile(loss='categorical_crossentropy', optimizer='adam', metrics=['accuracy'])\n",
    "model_lstm.summary()"
   ]
  },
  {
   "cell_type": "code",
   "execution_count": 36,
   "metadata": {},
   "outputs": [
    {
     "name": "stdout",
     "output_type": "stream",
     "text": [
      "Epoch 1/10\n",
      "455/455 [==============================] - 42s 90ms/step - loss: 0.8358 - accuracy: 0.6734 - val_loss: 0.8918 - val_accuracy: 0.6368\n",
      "Epoch 2/10\n",
      "455/455 [==============================] - 44s 96ms/step - loss: 0.8327 - accuracy: 0.6734 - val_loss: 0.8879 - val_accuracy: 0.6368\n",
      "Epoch 3/10\n",
      "455/455 [==============================] - 44s 96ms/step - loss: 0.8316 - accuracy: 0.6734 - val_loss: 0.8872 - val_accuracy: 0.6368\n",
      "Epoch 4/10\n",
      "455/455 [==============================] - 44s 97ms/step - loss: 0.8322 - accuracy: 0.6734 - val_loss: 0.8897 - val_accuracy: 0.6368\n",
      "Epoch 5/10\n",
      "455/455 [==============================] - 43s 94ms/step - loss: 0.8323 - accuracy: 0.6734 - val_loss: 0.8867 - val_accuracy: 0.6368\n",
      "Epoch 6/10\n",
      "455/455 [==============================] - 44s 96ms/step - loss: 0.8321 - accuracy: 0.6734 - val_loss: 0.8962 - val_accuracy: 0.6368\n",
      "Epoch 7/10\n",
      "455/455 [==============================] - 44s 96ms/step - loss: 0.8315 - accuracy: 0.6734 - val_loss: 0.8867 - val_accuracy: 0.6368\n",
      "Epoch 8/10\n",
      "455/455 [==============================] - 44s 96ms/step - loss: 0.8321 - accuracy: 0.6734 - val_loss: 0.8861 - val_accuracy: 0.6368\n",
      "Epoch 9/10\n",
      "455/455 [==============================] - 43s 96ms/step - loss: 0.8317 - accuracy: 0.6734 - val_loss: 0.8876 - val_accuracy: 0.6368\n",
      "Epoch 10/10\n",
      "455/455 [==============================] - 44s 96ms/step - loss: 0.8316 - accuracy: 0.6734 - val_loss: 0.8929 - val_accuracy: 0.6368\n"
     ]
    },
    {
     "data": {
      "text/plain": [
       "<keras.callbacks.History at 0x2b84c6e6220>"
      ]
     },
     "execution_count": 36,
     "metadata": {},
     "output_type": "execute_result"
    }
   ],
   "source": [
    "model_lstm.fit(X_train_embedded,y_encoded, validation_split=0.2, epochs = 10)"
   ]
  },
  {
   "cell_type": "code",
   "execution_count": 37,
   "metadata": {},
   "outputs": [
    {
     "name": "stdout",
     "output_type": "stream",
     "text": [
      "              precision    recall  f1-score   support\n",
      "\n",
      "         NFS       0.62      1.00      0.76      3314\n",
      "         UFS       0.00      0.00      0.00       623\n",
      "         CFS       0.00      0.00      0.00      1426\n",
      "\n",
      "    accuracy                           0.62      5363\n",
      "   macro avg       0.21      0.33      0.25      5363\n",
      "weighted avg       0.38      0.62      0.47      5363\n",
      "\n"
     ]
    },
    {
     "name": "stderr",
     "output_type": "stream",
     "text": [
      "C:\\Users\\bruna\\AppData\\Local\\Packages\\PythonSoftwareFoundation.Python.3.9_qbz5n2kfra8p0\\LocalCache\\local-packages\\Python39\\site-packages\\sklearn\\metrics\\_classification.py:1308: UndefinedMetricWarning: Precision and F-score are ill-defined and being set to 0.0 in labels with no predicted samples. Use `zero_division` parameter to control this behavior.\n",
      "  _warn_prf(average, modifier, msg_start, len(result))\n",
      "C:\\Users\\bruna\\AppData\\Local\\Packages\\PythonSoftwareFoundation.Python.3.9_qbz5n2kfra8p0\\LocalCache\\local-packages\\Python39\\site-packages\\sklearn\\metrics\\_classification.py:1308: UndefinedMetricWarning: Precision and F-score are ill-defined and being set to 0.0 in labels with no predicted samples. Use `zero_division` parameter to control this behavior.\n",
      "  _warn_prf(average, modifier, msg_start, len(result))\n",
      "C:\\Users\\bruna\\AppData\\Local\\Packages\\PythonSoftwareFoundation.Python.3.9_qbz5n2kfra8p0\\LocalCache\\local-packages\\Python39\\site-packages\\sklearn\\metrics\\_classification.py:1308: UndefinedMetricWarning: Precision and F-score are ill-defined and being set to 0.0 in labels with no predicted samples. Use `zero_division` parameter to control this behavior.\n",
      "  _warn_prf(average, modifier, msg_start, len(result))\n"
     ]
    }
   ],
   "source": [
    "predictions = model_lstm.predict(X_test_embedded)\n",
    "preds = one_hot_encoder.inverse_transform(predictions).reshape(-1,)\n",
    "print(classification_report(y_test, preds, target_names=[\"NFS\", \"UFS\", \"CFS\"]))\n"
   ]
  },
  {
   "cell_type": "markdown",
   "metadata": {},
   "source": [
    "## Bidirectional LSTM "
   ]
  },
  {
   "cell_type": "code",
   "execution_count": 38,
   "metadata": {},
   "outputs": [
    {
     "name": "stdout",
     "output_type": "stream",
     "text": [
      "Model: \"sequential_1\"\n",
      "_________________________________________________________________\n",
      " Layer (type)                Output Shape              Param #   \n",
      "=================================================================\n",
      " embedding_1 (Embedding)     (None, 200, 200)          2070600   \n",
      "                                                                 \n",
      " bidirectional (Bidirectiona  (None, 200)              240800    \n",
      " l)                                                              \n",
      "                                                                 \n",
      " dropout (Dropout)           (None, 200)               0         \n",
      "                                                                 \n",
      " dense_2 (Dense)             (None, 97)                19497     \n",
      "                                                                 \n",
      " dense_3 (Dense)             (None, 3)                 294       \n",
      "                                                                 \n",
      "=================================================================\n",
      "Total params: 2,331,191\n",
      "Trainable params: 260,591\n",
      "Non-trainable params: 2,070,600\n",
      "_________________________________________________________________\n"
     ]
    }
   ],
   "source": [
    "embedding_dim = 100\n",
    "model_bi = Sequential()\n",
    "model_bi.add(Embedding(vocabulary_size+1, \n",
    "                         output_dim=max_length, \n",
    "                         input_length=max_length,\n",
    "                         weights=[embedding_matrix],\n",
    "                         trainable = False\n",
    "                         ))\n",
    "model_bi.add(Bidirectional(LSTM(100)))\n",
    "model_bi.add(Dropout(0.5))\n",
    "model_bi.add(Dense(97, activation = \"relu\"))\n",
    "model_bi.add(Dense(3, activation='softmax'))\n",
    "model_bi.compile(loss='categorical_crossentropy', optimizer='adam', metrics=['accuracy'])\n",
    "model_bi.summary()"
   ]
  },
  {
   "cell_type": "code",
   "execution_count": 39,
   "metadata": {},
   "outputs": [
    {
     "name": "stdout",
     "output_type": "stream",
     "text": [
      "Epoch 1/3\n",
      "455/455 [==============================] - 61s 129ms/step - loss: 0.7591 - accuracy: 0.6890 - val_loss: 0.7543 - val_accuracy: 0.6808\n",
      "Epoch 2/3\n",
      "455/455 [==============================] - 60s 132ms/step - loss: 0.6784 - accuracy: 0.7213 - val_loss: 0.7247 - val_accuracy: 0.7039\n",
      "Epoch 3/3\n",
      "455/455 [==============================] - 60s 132ms/step - loss: 0.6286 - accuracy: 0.7459 - val_loss: 0.7201 - val_accuracy: 0.7086\n"
     ]
    },
    {
     "data": {
      "text/plain": [
       "<keras.callbacks.History at 0x2b851d24eb0>"
      ]
     },
     "execution_count": 39,
     "metadata": {},
     "output_type": "execute_result"
    }
   ],
   "source": [
    "model_bi.fit(X_train_embedded,y_encoded, validation_split=0.2, epochs = 3)"
   ]
  },
  {
   "cell_type": "code",
   "execution_count": 40,
   "metadata": {},
   "outputs": [
    {
     "name": "stdout",
     "output_type": "stream",
     "text": [
      "              precision    recall  f1-score   support\n",
      "\n",
      "         NFS       0.68      0.97      0.80      3314\n",
      "         UFS       0.48      0.11      0.18       623\n",
      "         CFS       0.70      0.26      0.38      1426\n",
      "\n",
      "    accuracy                           0.68      5363\n",
      "   macro avg       0.62      0.45      0.45      5363\n",
      "weighted avg       0.67      0.68      0.62      5363\n",
      "\n"
     ]
    }
   ],
   "source": [
    "predictions = model_bi.predict(X_test_embedded)\n",
    "preds = one_hot_encoder.inverse_transform(predictions).reshape(-1,)\n",
    "print(classification_report(y_test, preds, target_names=[\"NFS\", \"UFS\", \"CFS\"]))\n"
   ]
  },
  {
   "cell_type": "markdown",
   "metadata": {},
   "source": [
    "## Stacked Bi-LSTM"
   ]
  },
  {
   "cell_type": "code",
   "execution_count": 41,
   "metadata": {},
   "outputs": [],
   "source": [
    "clear_session()"
   ]
  },
  {
   "cell_type": "code",
   "execution_count": 42,
   "metadata": {},
   "outputs": [
    {
     "name": "stdout",
     "output_type": "stream",
     "text": [
      "Model: \"sequential\"\n",
      "_________________________________________________________________\n",
      " Layer (type)                Output Shape              Param #   \n",
      "=================================================================\n",
      " embedding (Embedding)       (None, 158, 200)          2070600   \n",
      "                                                                 \n",
      " dropout (Dropout)           (None, 158, 200)          0         \n",
      "                                                                 \n",
      " bidirectional (Bidirectiona  (None, 158, 200)         240800    \n",
      " l)                                                              \n",
      "                                                                 \n",
      " bidirectional_1 (Bidirectio  (None, 200)              240800    \n",
      " nal)                                                            \n",
      "                                                                 \n",
      " dropout_1 (Dropout)         (None, 200)               0         \n",
      "                                                                 \n",
      " dense (Dense)               (None, 97)                19497     \n",
      "                                                                 \n",
      " dense_1 (Dense)             (None, 3)                 294       \n",
      "                                                                 \n",
      "=================================================================\n",
      "Total params: 2,571,991\n",
      "Trainable params: 2,571,991\n",
      "Non-trainable params: 0\n",
      "_________________________________________________________________\n",
      "None\n"
     ]
    }
   ],
   "source": [
    "model_Sbi = Sequential()\n",
    "model_Sbi.add(Embedding(vocabulary_size+1, \n",
    "                         output_dim=max_length, \n",
    "                         input_length=max_length,\n",
    "                         weights=[embedding_matrix],\n",
    "                         trainable = False\n",
    "                         ))\n",
    "model_Sbi.add(Dropout(0.2))\n",
    "model_Sbi.add(Bidirectional(LSTM(100, return_sequences=True)))\n",
    "model_Sbi.add(Bidirectional(LSTM(100)))\n",
    "model_Sbi.add(Dropout(0.2))\n",
    "model_Sbi.add(Dense(97, activation = \"relu\"))\n",
    "model_Sbi.add(Dense(3, activation='softmax'))\n",
    "model_Sbi.compile(loss='categorical_crossentropy', optimizer='adam', metrics=['accuracy'])\n",
    "model_Sbi.summary()"
   ]
  },
  {
   "cell_type": "code",
   "execution_count": 43,
   "metadata": {},
   "outputs": [
    {
     "name": "stdout",
     "output_type": "stream",
     "text": [
      "Epoch 1/20\n",
      "455/455 [==============================] - 120s 255ms/step - loss: 0.6216 - accuracy: 0.7547 - val_loss: 0.6295 - val_accuracy: 0.7427\n",
      "Epoch 2/20\n",
      "455/455 [==============================] - 112s 246ms/step - loss: 0.4524 - accuracy: 0.8311 - val_loss: 0.6137 - val_accuracy: 0.7589\n",
      "Epoch 3/20\n",
      "455/455 [==============================] - 112s 246ms/step - loss: 0.3464 - accuracy: 0.8732 - val_loss: 0.6961 - val_accuracy: 0.7488\n",
      "Epoch 4/20\n",
      "455/455 [==============================] - 112s 246ms/step - loss: 0.2650 - accuracy: 0.9078 - val_loss: 0.7628 - val_accuracy: 0.7433\n",
      "Epoch 5/20\n",
      "455/455 [==============================] - 111s 244ms/step - loss: 0.2018 - accuracy: 0.9331 - val_loss: 0.8746 - val_accuracy: 0.7289\n",
      "Epoch 6/20\n",
      "455/455 [==============================] - 111s 244ms/step - loss: 0.1603 - accuracy: 0.9467 - val_loss: 0.8963 - val_accuracy: 0.7342\n",
      "Epoch 7/20\n",
      "455/455 [==============================] - 111s 245ms/step - loss: 0.1274 - accuracy: 0.9587 - val_loss: 1.0283 - val_accuracy: 0.7328\n",
      "Epoch 8/20\n",
      "455/455 [==============================] - 113s 247ms/step - loss: 0.1035 - accuracy: 0.9661 - val_loss: 1.0668 - val_accuracy: 0.7347\n",
      "Epoch 9/20\n",
      "455/455 [==============================] - 117s 258ms/step - loss: 0.0833 - accuracy: 0.9723 - val_loss: 1.3092 - val_accuracy: 0.7226\n",
      "Epoch 10/20\n",
      "455/455 [==============================] - 118s 258ms/step - loss: 0.0770 - accuracy: 0.9727 - val_loss: 1.2805 - val_accuracy: 0.7292\n",
      "Epoch 11/20\n",
      "455/455 [==============================] - 122s 268ms/step - loss: 0.0604 - accuracy: 0.9786 - val_loss: 1.5059 - val_accuracy: 0.7232\n",
      "Epoch 12/20\n",
      "455/455 [==============================] - 117s 258ms/step - loss: 0.0552 - accuracy: 0.9816 - val_loss: 1.5067 - val_accuracy: 0.7212\n",
      "Epoch 13/20\n",
      "455/455 [==============================] - 119s 262ms/step - loss: 0.0458 - accuracy: 0.9840 - val_loss: 1.5184 - val_accuracy: 0.7248\n",
      "Epoch 14/20\n",
      "455/455 [==============================] - 123s 271ms/step - loss: 0.0365 - accuracy: 0.9856 - val_loss: 1.8775 - val_accuracy: 0.7188\n",
      "Epoch 15/20\n",
      "455/455 [==============================] - 123s 269ms/step - loss: 0.0378 - accuracy: 0.9867 - val_loss: 1.8090 - val_accuracy: 0.7157\n",
      "Epoch 16/20\n",
      "455/455 [==============================] - 120s 263ms/step - loss: 0.0326 - accuracy: 0.9894 - val_loss: 1.7352 - val_accuracy: 0.7207\n",
      "Epoch 17/20\n",
      "455/455 [==============================] - 116s 255ms/step - loss: 0.0213 - accuracy: 0.9930 - val_loss: 1.8870 - val_accuracy: 0.7091\n",
      "Epoch 18/20\n",
      "455/455 [==============================] - 121s 267ms/step - loss: 0.0258 - accuracy: 0.9911 - val_loss: 2.0288 - val_accuracy: 0.7141\n",
      "Epoch 19/20\n",
      "455/455 [==============================] - 121s 266ms/step - loss: 0.0277 - accuracy: 0.9897 - val_loss: 1.9128 - val_accuracy: 0.7199\n",
      "Epoch 20/20\n",
      "455/455 [==============================] - 123s 271ms/step - loss: 0.0166 - accuracy: 0.9944 - val_loss: 2.2542 - val_accuracy: 0.7163\n"
     ]
    },
    {
     "data": {
      "text/plain": [
       "<keras.callbacks.History at 0x2af12ce3f40>"
      ]
     },
     "execution_count": 43,
     "metadata": {},
     "output_type": "execute_result"
    }
   ],
   "source": [
    "model_Sbi.fit(X_train_embedded,y_encoded, validation_split=0.2, epochs = 20)"
   ]
  },
  {
   "cell_type": "code",
   "execution_count": 44,
   "metadata": {},
   "outputs": [
    {
     "name": "stdout",
     "output_type": "stream",
     "text": [
      "              precision    recall  f1-score   support\n",
      "\n",
      "         NFS       0.78      0.85      0.81      3314\n",
      "         UFS       0.38      0.32      0.35       623\n",
      "         CFS       0.59      0.50      0.54      1426\n",
      "\n",
      "    accuracy                           0.70      5363\n",
      "   macro avg       0.58      0.56      0.57      5363\n",
      "weighted avg       0.68      0.70      0.69      5363\n",
      "\n"
     ]
    }
   ],
   "source": [
    "predictions = model_Sbi.predict(X_test_embedded)\n",
    "preds = one_hot_encoder.inverse_transform(predictions).reshape(-1,)\n",
    "print(classification_report(y_test, preds, target_names=[\"NFS\", \"UFS\", \"CFS\"]))\n"
   ]
  },
  {
   "cell_type": "markdown",
   "metadata": {},
   "source": [
    "## Convolutional Neural Network"
   ]
  },
  {
   "cell_type": "code",
   "execution_count": 85,
   "metadata": {},
   "outputs": [],
   "source": [
    "from tensorflow.keras.layers import GlobalMaxPooling1D\n",
    "from tensorflow.keras.layers import Conv1D\n",
    "clear_session()\n"
   ]
  },
  {
   "cell_type": "code",
   "execution_count": 48,
   "metadata": {},
   "outputs": [
    {
     "name": "stdout",
     "output_type": "stream",
     "text": [
      "Model: \"sequential_1\"\n",
      "_________________________________________________________________\n",
      " Layer (type)                Output Shape              Param #   \n",
      "=================================================================\n",
      " embedding_1 (Embedding)     (None, 158, 100)          1035300   \n",
      "                                                                 \n",
      " conv1d (Conv1D)             (None, 149, 128)          128128    \n",
      "                                                                 \n",
      " global_max_pooling1d (Globa  (None, 128)              0         \n",
      " lMaxPooling1D)                                                  \n",
      "                                                                 \n",
      " dense_2 (Dense)             (None, 32)                4128      \n",
      "                                                                 \n",
      " dense_3 (Dense)             (None, 3)                 99        \n",
      "                                                                 \n",
      "=================================================================\n",
      "Total params: 1,167,655\n",
      "Trainable params: 1,167,655\n",
      "Non-trainable params: 0\n",
      "_________________________________________________________________\n"
     ]
    }
   ],
   "source": [
    "embedding_dim = 100\n",
    "\n",
    "model = Sequential()\n",
    "model.add(Embedding(vocabulary_size+1, \n",
    "                         output_dim=max_length, \n",
    "                         input_length=max_length,\n",
    "                         weights=[embedding_matrix],\n",
    "                         trainable = False\n",
    "                         ))\n",
    "model.add(Conv1D(128, 10, activation='relu'))\n",
    "model.add(GlobalMaxPooling1D())\n",
    "model.add(Dense(32, activation='relu'))\n",
    "model.add(Dense(3, activation='softmax'))\n",
    "model.compile(optimizer='adam',\n",
    "              loss='categorical_crossentropy',\n",
    "              metrics=['accuracy'])\n",
    "model.summary()"
   ]
  },
  {
   "cell_type": "code",
   "execution_count": 49,
   "metadata": {},
   "outputs": [
    {
     "name": "stdout",
     "output_type": "stream",
     "text": [
      "Epoch 1/5\n",
      "455/455 [==============================] - 11s 23ms/step - loss: 0.6378 - accuracy: 0.7444 - val_loss: 0.6041 - val_accuracy: 0.7485\n",
      "Epoch 2/5\n",
      "455/455 [==============================] - 10s 23ms/step - loss: 0.4010 - accuracy: 0.8506 - val_loss: 0.6129 - val_accuracy: 0.7523\n",
      "Epoch 3/5\n",
      "455/455 [==============================] - 10s 23ms/step - loss: 0.1930 - accuracy: 0.9355 - val_loss: 0.7587 - val_accuracy: 0.7529\n",
      "Epoch 4/5\n",
      "455/455 [==============================] - 11s 23ms/step - loss: 0.0694 - accuracy: 0.9800 - val_loss: 0.9866 - val_accuracy: 0.7466\n",
      "Epoch 5/5\n",
      "455/455 [==============================] - 11s 23ms/step - loss: 0.0222 - accuracy: 0.9942 - val_loss: 1.1839 - val_accuracy: 0.7460\n"
     ]
    },
    {
     "data": {
      "text/plain": [
       "<keras.callbacks.History at 0x2af1e12c1c0>"
      ]
     },
     "execution_count": 49,
     "metadata": {},
     "output_type": "execute_result"
    }
   ],
   "source": [
    "model.fit(X_train_embedded,y_encoded, validation_split=0.2, epochs = 5)"
   ]
  },
  {
   "cell_type": "code",
   "execution_count": 50,
   "metadata": {},
   "outputs": [
    {
     "name": "stdout",
     "output_type": "stream",
     "text": [
      "              precision    recall  f1-score   support\n",
      "\n",
      "         NFS       0.77      0.90      0.83      3314\n",
      "         UFS       0.43      0.36      0.39       623\n",
      "         CFS       0.68      0.47      0.56      1426\n",
      "\n",
      "    accuracy                           0.72      5363\n",
      "   macro avg       0.63      0.58      0.59      5363\n",
      "weighted avg       0.71      0.72      0.71      5363\n",
      "\n"
     ]
    }
   ],
   "source": [
    "predictions = model.predict(X_test_embedded)\n",
    "preds = one_hot_encoder.inverse_transform(predictions).reshape(-1,)\n",
    "print(classification_report(y_test, preds, target_names=[\"NFS\", \"UFS\", \"CFS\"]))"
   ]
  },
  {
   "cell_type": "code",
   "execution_count": 55,
   "metadata": {},
   "outputs": [
    {
     "name": "stdout",
     "output_type": "stream",
     "text": [
      "Confusion matrix, without normalization\n"
     ]
    },
    {
     "data": {
      "image/png": "[encoded data removed]",
      "text/plain": [
       "<Figure size 432x288 with 2 Axes>"
      ]
     },
     "metadata": {
      "needs_background": "light"
     },
     "output_type": "display_data"
    }
   ],
   "source": [
    "cm = confusion_matrix(y_test, preds)\n",
    "plot_confusion_matrix(cm, classes=[\"NFS\", \"UFS\", \"CFS\"])\n"
   ]
  },
  {
   "cell_type": "markdown",
   "metadata": {},
   "source": [
    "## Convolutional Neural network + LSTM"
   ]
  },
  {
   "cell_type": "code",
   "execution_count": 63,
   "metadata": {},
   "outputs": [],
   "source": [
    "model_conv = Sequential()\n",
    "model_conv.add(Embedding(vocabulary_size+1, \n",
    "                         output_dim=max_length, \n",
    "                         input_length=max_length,\n",
    "                         weights=[embedding_matrix],\n",
    "                         trainable = False\n",
    "                         ))\n",
    "model_conv.add(Dropout(0.2))\n",
    "model_conv.add(Conv1D(128, 10, activation='relu'))\n",
    "model_conv.add(MaxPooling1D(pool_size=10))\n",
    "model_conv.add(LSTM(100))\n",
    "model_conv.add(Dense(32, activation = \"relu\"))\n",
    "model_conv.add(Dense(3, activation='softmax'))\n",
    "model_conv.compile(loss='categorical_crossentropy', optimizer='adam', metrics=['accuracy'])"
   ]
  },
  {
   "cell_type": "code",
   "execution_count": 64,
   "metadata": {},
   "outputs": [
    {
     "name": "stdout",
     "output_type": "stream",
     "text": [
      "Model: \"sequential_3\"\n",
      "_________________________________________________________________\n",
      " Layer (type)                Output Shape              Param #   \n",
      "=================================================================\n",
      " embedding_3 (Embedding)     (None, 158, 100)          1035300   \n",
      "                                                                 \n",
      " dropout_3 (Dropout)         (None, 158, 100)          0         \n",
      "                                                                 \n",
      " conv1d_2 (Conv1D)           (None, 149, 128)          128128    \n",
      "                                                                 \n",
      " max_pooling1d_1 (MaxPooling  (None, 14, 128)          0         \n",
      " 1D)                                                             \n",
      "                                                                 \n",
      " lstm_3 (LSTM)               (None, 100)               91600     \n",
      "                                                                 \n",
      " dense_6 (Dense)             (None, 32)                3232      \n",
      "                                                                 \n",
      " dense_7 (Dense)             (None, 3)                 99        \n",
      "                                                                 \n",
      "=================================================================\n",
      "Total params: 1,258,359\n",
      "Trainable params: 1,258,359\n",
      "Non-trainable params: 0\n",
      "_________________________________________________________________\n"
     ]
    }
   ],
   "source": [
    "model_conv.summary()"
   ]
  },
  {
   "cell_type": "code",
   "execution_count": 65,
   "metadata": {},
   "outputs": [
    {
     "name": "stdout",
     "output_type": "stream",
     "text": [
      "Epoch 1/10\n",
      "455/455 [==============================] - 17s 34ms/step - loss: 0.6922 - accuracy: 0.7308 - val_loss: 0.6663 - val_accuracy: 0.7408\n",
      "Epoch 2/10\n",
      "455/455 [==============================] - 15s 33ms/step - loss: 0.5114 - accuracy: 0.8056 - val_loss: 0.6466 - val_accuracy: 0.7364\n",
      "Epoch 3/10\n",
      "455/455 [==============================] - 15s 32ms/step - loss: 0.3874 - accuracy: 0.8484 - val_loss: 0.7117 - val_accuracy: 0.7380\n",
      "Epoch 4/10\n",
      "455/455 [==============================] - 14s 32ms/step - loss: 0.2597 - accuracy: 0.9058 - val_loss: 0.8569 - val_accuracy: 0.7091\n",
      "Epoch 5/10\n",
      "455/455 [==============================] - 14s 32ms/step - loss: 0.1623 - accuracy: 0.9454 - val_loss: 1.0488 - val_accuracy: 0.7339\n",
      "Epoch 6/10\n",
      "455/455 [==============================] - 14s 32ms/step - loss: 0.1017 - accuracy: 0.9673 - val_loss: 1.0691 - val_accuracy: 0.7204\n",
      "Epoch 7/10\n",
      "455/455 [==============================] - 15s 32ms/step - loss: 0.0685 - accuracy: 0.9783 - val_loss: 1.1695 - val_accuracy: 0.7012\n",
      "Epoch 8/10\n",
      "455/455 [==============================] - 15s 32ms/step - loss: 0.0550 - accuracy: 0.9832 - val_loss: 1.2240 - val_accuracy: 0.7152\n",
      "Epoch 9/10\n",
      "455/455 [==============================] - 15s 32ms/step - loss: 0.0427 - accuracy: 0.9868 - val_loss: 1.3570 - val_accuracy: 0.7102\n",
      "Epoch 10/10\n",
      "455/455 [==============================] - 15s 32ms/step - loss: 0.0340 - accuracy: 0.9909 - val_loss: 1.4178 - val_accuracy: 0.7171\n"
     ]
    },
    {
     "data": {
      "text/plain": [
       "<keras.callbacks.History at 0x2af1ebd5370>"
      ]
     },
     "execution_count": 65,
     "metadata": {},
     "output_type": "execute_result"
    }
   ],
   "source": [
    "model_conv.fit(X_train_embedded,y_encoded, validation_split=0.2, epochs = 10)"
   ]
  },
  {
   "cell_type": "code",
   "execution_count": 66,
   "metadata": {},
   "outputs": [
    {
     "name": "stdout",
     "output_type": "stream",
     "text": [
      "              precision    recall  f1-score   support\n",
      "\n",
      "         NFS       0.77      0.88      0.82      3314\n",
      "         UFS       0.37      0.37      0.37       623\n",
      "         CFS       0.65      0.44      0.52      1426\n",
      "\n",
      "    accuracy                           0.70      5363\n",
      "   macro avg       0.60      0.56      0.57      5363\n",
      "weighted avg       0.69      0.70      0.69      5363\n",
      "\n"
     ]
    }
   ],
   "source": [
    "predictions = model_conv.predict(X_test_embedded)\n",
    "preds = one_hot_encoder.inverse_transform(predictions).reshape(-1,)\n",
    "print(classification_report(y_test, preds, target_names=[\"NFS\", \"UFS\", \"CFS\"]))\n"
   ]
  },
  {
   "cell_type": "code",
   "execution_count": 67,
   "metadata": {},
   "outputs": [
    {
     "name": "stdout",
     "output_type": "stream",
     "text": [
      "Confusion matrix, without normalization\n"
     ]
    },
    {
     "data": {
      "image/png": "[encoded data removed]",
      "text/plain": [
       "<Figure size 432x288 with 2 Axes>"
      ]
     },
     "metadata": {
      "needs_background": "light"
     },
     "output_type": "display_data"
    }
   ],
   "source": [
    "cm = confusion_matrix(y_test, preds)\n",
    "plot_confusion_matrix(cm, classes=[\"NFS\", \"UFS\", \"CFS\"])"
   ]
  }
 ],
 "metadata": {
  "interpreter": {
   "hash": "6fac1c46211edb20ff6398462b8c2a023c28966a3a7910175ddefe7a86b617a9"
  },
  "kernelspec": {
   "display_name": "Python 3.9.12 64-bit (windows store)",
   "language": "python",
   "name": "python3"
  },
  "language_info": {
   "codemirror_mode": {
    "name": "ipython",
    "version": 3
   },
   "file_extension": ".py",
   "mimetype": "text/x-python",
   "name": "python",
   "nbconvert_exporter": "python",
   "pygments_lexer": "ipython3",
   "version": "3.9.12"
  },
  "orig_nbformat": 4
 },
 "nbformat": 4,
 "nbformat_minor": 2
}
