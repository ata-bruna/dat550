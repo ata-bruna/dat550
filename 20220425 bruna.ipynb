{
 "cells": [
  {
   "cell_type": "markdown",
   "metadata": {},
   "source": [
    "# Detect claims to fact check in political debates\n",
    "\n",
    "In this project you will implement various classifiers using both neural and feature based technqiues to detect which sentences in political debates should be fact checked.\n",
    "Dataset from ClaimBuster: https://zenodo.org/record/3609356 \n",
    "Evaluate your classifiers using the same metrics as http://ranger.uta.edu/~cli/pubs/2017/claimbuster-kdd17-hassan.pdf (Table 2)\n",
    "\n",
    "Classification report from sklearn provides everything"
   ]
  },
  {
   "cell_type": "code",
   "execution_count": 1,
   "metadata": {},
   "outputs": [],
   "source": [
    "# TODO:  Create advanced model(s) (suggestions are given below)\n",
    "#           -- Generate more features that a model can use. For example the context around the sentence, sentiment, named entities etc.\n",
    "#           -- Rule based classifier. For example, if sentence contains certain words, tags, statistics etc.\n",
    "#           -- Deep learning (word embeddings, transformer models etc.)\n",
    "#           -- Sub-sentence classifier. Long sentences may include several claims, so the goal is to mark the span of claim(s) within a sentence"
   ]
  },
  {
   "cell_type": "code",
   "execution_count": 2,
   "metadata": {},
   "outputs": [],
   "source": [
    "from sklearn.ensemble import RandomForestClassifier\n",
    "from sklearn.feature_extraction.text import TfidfVectorizer\n",
    "from sklearn import svm\n",
    "\n",
    "import numpy as np\n",
    "import pandas as pd\n",
    "import matplotlib.pyplot as plt\n",
    "from nltk.corpus import stopwords\n",
    "from nltk.stem.snowball import SnowballStemmer\n",
    "import collections\n",
    "import string\n",
    "\n",
    "from sklearn.cluster import KMeans\n",
    "from sklearn.metrics import *\n",
    "from sklearn.linear_model import Perceptron\n",
    "from sklearn.neighbors import KNeighborsClassifier\n",
    "from sklearn.naive_bayes import ComplementNB\n",
    "from sklearn.tree import DecisionTreeClassifier\n",
    "\n",
    "import json\n",
    "import glob\n",
    "import re\n",
    "import time "
   ]
  },
  {
   "cell_type": "markdown",
   "metadata": {},
   "source": [
    "# Loading and merging the data"
   ]
  },
  {
   "cell_type": "code",
   "execution_count": 3,
   "metadata": {},
   "outputs": [
    {
     "data": {
      "text/html": [
       "<div>\n",
       "<style scoped>\n",
       "    .dataframe tbody tr th:only-of-type {\n",
       "        vertical-align: middle;\n",
       "    }\n",
       "\n",
       "    .dataframe tbody tr th {\n",
       "        vertical-align: top;\n",
       "    }\n",
       "\n",
       "    .dataframe thead th {\n",
       "        text-align: right;\n",
       "    }\n",
       "</style>\n",
       "<table border=\"1\" class=\"dataframe\">\n",
       "  <thead>\n",
       "    <tr style=\"text-align: right;\">\n",
       "      <th></th>\n",
       "      <th>Sentence_id</th>\n",
       "      <th>Text</th>\n",
       "      <th>Speaker</th>\n",
       "      <th>Speaker_title</th>\n",
       "      <th>Speaker_party</th>\n",
       "      <th>File_id</th>\n",
       "      <th>Length</th>\n",
       "      <th>Line_number</th>\n",
       "      <th>Sentiment</th>\n",
       "      <th>Verdict</th>\n",
       "      <th>date</th>\n",
       "      <th>mos_before_election</th>\n",
       "    </tr>\n",
       "    <tr>\n",
       "      <th>index</th>\n",
       "      <th></th>\n",
       "      <th></th>\n",
       "      <th></th>\n",
       "      <th></th>\n",
       "      <th></th>\n",
       "      <th></th>\n",
       "      <th></th>\n",
       "      <th></th>\n",
       "      <th></th>\n",
       "      <th></th>\n",
       "      <th></th>\n",
       "      <th></th>\n",
       "    </tr>\n",
       "  </thead>\n",
       "  <tbody>\n",
       "    <tr>\n",
       "      <th>0</th>\n",
       "      <td>8211</td>\n",
       "      <td>Now, this is not standing still.</td>\n",
       "      <td>Richard M. Nixon</td>\n",
       "      <td>Vice President</td>\n",
       "      <td>REPUBLICAN</td>\n",
       "      <td>1960-09-26.txt</td>\n",
       "      <td>6</td>\n",
       "      <td>114</td>\n",
       "      <td>-0.417840</td>\n",
       "      <td>-1</td>\n",
       "      <td>1960-09-26</td>\n",
       "      <td>2</td>\n",
       "    </tr>\n",
       "    <tr>\n",
       "      <th>1</th>\n",
       "      <td>8515</td>\n",
       "      <td>So these are three programs which are quite mo...</td>\n",
       "      <td>John F. Kennedy</td>\n",
       "      <td>Senator</td>\n",
       "      <td>DEMOCRAT</td>\n",
       "      <td>1960-09-26.txt</td>\n",
       "      <td>9</td>\n",
       "      <td>418</td>\n",
       "      <td>0.249581</td>\n",
       "      <td>-1</td>\n",
       "      <td>1960-09-26</td>\n",
       "      <td>2</td>\n",
       "    </tr>\n",
       "    <tr>\n",
       "      <th>2</th>\n",
       "      <td>8514</td>\n",
       "      <td>The proposal advanced by you and by Mr. Javits...</td>\n",
       "      <td>John F. Kennedy</td>\n",
       "      <td>Senator</td>\n",
       "      <td>DEMOCRAT</td>\n",
       "      <td>1960-09-26.txt</td>\n",
       "      <td>42</td>\n",
       "      <td>417</td>\n",
       "      <td>-0.626563</td>\n",
       "      <td>1</td>\n",
       "      <td>1960-09-26</td>\n",
       "      <td>2</td>\n",
       "    </tr>\n",
       "    <tr>\n",
       "      <th>3</th>\n",
       "      <td>8513</td>\n",
       "      <td>It does not put a deficit on the Treasury.</td>\n",
       "      <td>John F. Kennedy</td>\n",
       "      <td>Senator</td>\n",
       "      <td>DEMOCRAT</td>\n",
       "      <td>1960-09-26.txt</td>\n",
       "      <td>9</td>\n",
       "      <td>416</td>\n",
       "      <td>-0.629486</td>\n",
       "      <td>1</td>\n",
       "      <td>1960-09-26</td>\n",
       "      <td>2</td>\n",
       "    </tr>\n",
       "    <tr>\n",
       "      <th>4</th>\n",
       "      <td>8512</td>\n",
       "      <td>The third is medical care for the aged which i...</td>\n",
       "      <td>John F. Kennedy</td>\n",
       "      <td>Senator</td>\n",
       "      <td>DEMOCRAT</td>\n",
       "      <td>1960-09-26.txt</td>\n",
       "      <td>22</td>\n",
       "      <td>415</td>\n",
       "      <td>0.000000</td>\n",
       "      <td>-1</td>\n",
       "      <td>1960-09-26</td>\n",
       "      <td>2</td>\n",
       "    </tr>\n",
       "    <tr>\n",
       "      <th>...</th>\n",
       "      <td>...</td>\n",
       "      <td>...</td>\n",
       "      <td>...</td>\n",
       "      <td>...</td>\n",
       "      <td>...</td>\n",
       "      <td>...</td>\n",
       "      <td>...</td>\n",
       "      <td>...</td>\n",
       "      <td>...</td>\n",
       "      <td>...</td>\n",
       "      <td>...</td>\n",
       "      <td>...</td>\n",
       "    </tr>\n",
       "    <tr>\n",
       "      <th>23528</th>\n",
       "      <td>34028</td>\n",
       "      <td>First of all, the media is so dishonest and so...</td>\n",
       "      <td>Donald Trump</td>\n",
       "      <td>Businessman</td>\n",
       "      <td>REPUBLICAN</td>\n",
       "      <td>2016-10-19.txt</td>\n",
       "      <td>17</td>\n",
       "      <td>907</td>\n",
       "      <td>0.032300</td>\n",
       "      <td>-1</td>\n",
       "      <td>2016-10-19</td>\n",
       "      <td>1</td>\n",
       "    </tr>\n",
       "    <tr>\n",
       "      <th>23529</th>\n",
       "      <td>34027</td>\n",
       "      <td>What I've seen -- what I've seen is so bad.</td>\n",
       "      <td>Donald Trump</td>\n",
       "      <td>Businessman</td>\n",
       "      <td>REPUBLICAN</td>\n",
       "      <td>2016-10-19.txt</td>\n",
       "      <td>9</td>\n",
       "      <td>906</td>\n",
       "      <td>-0.669600</td>\n",
       "      <td>-1</td>\n",
       "      <td>2016-10-19</td>\n",
       "      <td>1</td>\n",
       "    </tr>\n",
       "    <tr>\n",
       "      <th>23530</th>\n",
       "      <td>34026</td>\n",
       "      <td>I'll look at it at the time.</td>\n",
       "      <td>Donald Trump</td>\n",
       "      <td>Businessman</td>\n",
       "      <td>REPUBLICAN</td>\n",
       "      <td>2016-10-19.txt</td>\n",
       "      <td>7</td>\n",
       "      <td>905</td>\n",
       "      <td>0.000000</td>\n",
       "      <td>-1</td>\n",
       "      <td>2016-10-19</td>\n",
       "      <td>1</td>\n",
       "    </tr>\n",
       "    <tr>\n",
       "      <th>23531</th>\n",
       "      <td>34039</td>\n",
       "      <td>So I talk about the corrupt media.</td>\n",
       "      <td>Donald Trump</td>\n",
       "      <td>Businessman</td>\n",
       "      <td>REPUBLICAN</td>\n",
       "      <td>2016-10-19.txt</td>\n",
       "      <td>7</td>\n",
       "      <td>918</td>\n",
       "      <td>0.000000</td>\n",
       "      <td>-1</td>\n",
       "      <td>2016-10-19</td>\n",
       "      <td>1</td>\n",
       "    </tr>\n",
       "    <tr>\n",
       "      <th>23532</th>\n",
       "      <td>33341</td>\n",
       "      <td>They work hard, they do everything they can to...</td>\n",
       "      <td>Hillary Clinton</td>\n",
       "      <td>Secretary of State</td>\n",
       "      <td>DEMOCRAT</td>\n",
       "      <td>2016-10-19.txt</td>\n",
       "      <td>14</td>\n",
       "      <td>220</td>\n",
       "      <td>0.361200</td>\n",
       "      <td>-1</td>\n",
       "      <td>2016-10-19</td>\n",
       "      <td>1</td>\n",
       "    </tr>\n",
       "  </tbody>\n",
       "</table>\n",
       "<p>23533 rows × 12 columns</p>\n",
       "</div>"
      ],
      "text/plain": [
       "       Sentence_id                                               Text  \\\n",
       "index                                                                   \n",
       "0             8211                   Now, this is not standing still.   \n",
       "1             8515  So these are three programs which are quite mo...   \n",
       "2             8514  The proposal advanced by you and by Mr. Javits...   \n",
       "3             8513         It does not put a deficit on the Treasury.   \n",
       "4             8512  The third is medical care for the aged which i...   \n",
       "...            ...                                                ...   \n",
       "23528        34028  First of all, the media is so dishonest and so...   \n",
       "23529        34027        What I've seen -- what I've seen is so bad.   \n",
       "23530        34026                       I'll look at it at the time.   \n",
       "23531        34039                 So I talk about the corrupt media.   \n",
       "23532        33341  They work hard, they do everything they can to...   \n",
       "\n",
       "                Speaker       Speaker_title Speaker_party         File_id  \\\n",
       "index                                                                       \n",
       "0      Richard M. Nixon      Vice President    REPUBLICAN  1960-09-26.txt   \n",
       "1       John F. Kennedy             Senator      DEMOCRAT  1960-09-26.txt   \n",
       "2       John F. Kennedy             Senator      DEMOCRAT  1960-09-26.txt   \n",
       "3       John F. Kennedy             Senator      DEMOCRAT  1960-09-26.txt   \n",
       "4       John F. Kennedy             Senator      DEMOCRAT  1960-09-26.txt   \n",
       "...                 ...                 ...           ...             ...   \n",
       "23528      Donald Trump         Businessman    REPUBLICAN  2016-10-19.txt   \n",
       "23529      Donald Trump         Businessman    REPUBLICAN  2016-10-19.txt   \n",
       "23530      Donald Trump         Businessman    REPUBLICAN  2016-10-19.txt   \n",
       "23531      Donald Trump         Businessman    REPUBLICAN  2016-10-19.txt   \n",
       "23532   Hillary Clinton  Secretary of State      DEMOCRAT  2016-10-19.txt   \n",
       "\n",
       "       Length  Line_number  Sentiment  Verdict       date  mos_before_election  \n",
       "index                                                                           \n",
       "0           6          114  -0.417840       -1 1960-09-26                    2  \n",
       "1           9          418   0.249581       -1 1960-09-26                    2  \n",
       "2          42          417  -0.626563        1 1960-09-26                    2  \n",
       "3           9          416  -0.629486        1 1960-09-26                    2  \n",
       "4          22          415   0.000000       -1 1960-09-26                    2  \n",
       "...       ...          ...        ...      ...        ...                  ...  \n",
       "23528      17          907   0.032300       -1 2016-10-19                    1  \n",
       "23529       9          906  -0.669600       -1 2016-10-19                    1  \n",
       "23530       7          905   0.000000       -1 2016-10-19                    1  \n",
       "23531       7          918   0.000000       -1 2016-10-19                    1  \n",
       "23532      14          220   0.361200       -1 2016-10-19                    1  \n",
       "\n",
       "[23533 rows x 12 columns]"
      ]
     },
     "execution_count": 3,
     "metadata": {},
     "output_type": "execute_result"
    }
   ],
   "source": [
    "file1 = pd.read_csv(\"data/crowdsourced.csv\", encoding='utf-8')\n",
    "file2 = pd.read_csv(\"data/groundtruth.csv\", encoding='utf-8')\n",
    "df = pd.concat([file1, file2])\n",
    "\n",
    "\n",
    "df[\"date\"] = df[\"File_id\"].str.strip(to_strip=\".txt\")\n",
    "\n",
    "df[\"date\"] = pd.to_datetime(df[\"date\"])\n",
    "df.sort_values(\"date\", inplace= True)\n",
    "df[\"mos_before_election\"] = 11 - df[\"date\"].dt.month\n",
    "\n",
    "df['index'] = pd.RangeIndex(len(df))\n",
    "df.set_index('index', inplace=True)\n",
    "df\n"
   ]
  },
  {
   "cell_type": "markdown",
   "metadata": {},
   "source": [
    "# Data preprocessing"
   ]
  },
  {
   "cell_type": "code",
   "execution_count": 4,
   "metadata": {},
   "outputs": [],
   "source": [
    "def remove_punctuation(text):\n",
    "    tokens = re.sub('[^a-zA-Z]', ' ', text).lower()\n",
    "    return tokens"
   ]
  },
  {
   "cell_type": "code",
   "execution_count": 5,
   "metadata": {},
   "outputs": [],
   "source": [
    "def remove_stop_words(text):\n",
    "    stop_words = stopwords.words('english')\n",
    "    word_list = [word for word in text.split() if word not in stop_words]\n",
    "    return word_list"
   ]
  },
  {
   "cell_type": "code",
   "execution_count": 6,
   "metadata": {},
   "outputs": [],
   "source": [
    "def get_word_stemm(word_list):\n",
    "    \"\"\"Stemmers remove morphological affixes from words, leaving only the word stem.\"\"\"\n",
    "    stemmer = SnowballStemmer('english')\n",
    "    singles = [stemmer.stem(word) for word in word_list] \n",
    "    return singles"
   ]
  },
  {
   "cell_type": "code",
   "execution_count": 7,
   "metadata": {},
   "outputs": [],
   "source": [
    "def preprocess_data(docs):\n",
    "\n",
    "    text_list = [] \n",
    "    for doc in docs:  \n",
    "        # 1. Remove punctuation and set as lower case\n",
    "        text = remove_punctuation(doc)\n",
    "\n",
    "        # 2. Remove stop words and extra spaces\n",
    "        word_list = remove_stop_words(text)\n",
    "        joined_text = \" \".join(word_list)\n",
    "        text_list.append(joined_text)\n",
    "        \n",
    "        # 3. Stemming\n",
    "        # word_stem = get_word_stemm(word_list)\n",
    "        # joined_text = \" \".join(word_stem)\n",
    "        # text_list.append(joined_text)\n",
    "\n",
    "\n",
    "    return text_list\n",
    "\n"
   ]
  },
  {
   "cell_type": "code",
   "execution_count": 8,
   "metadata": {},
   "outputs": [],
   "source": [
    "data = preprocess_data(df.Text.values)"
   ]
  },
  {
   "cell_type": "code",
   "execution_count": 9,
   "metadata": {},
   "outputs": [],
   "source": [
    "# add clean text to dataframe\n",
    "df[\"Clean_text\"] = pd.Series(data)"
   ]
  },
  {
   "cell_type": "code",
   "execution_count": 10,
   "metadata": {},
   "outputs": [],
   "source": [
    "del file1, file2, data"
   ]
  },
  {
   "cell_type": "code",
   "execution_count": 11,
   "metadata": {},
   "outputs": [
    {
     "data": {
      "text/html": [
       "<div>\n",
       "<style scoped>\n",
       "    .dataframe tbody tr th:only-of-type {\n",
       "        vertical-align: middle;\n",
       "    }\n",
       "\n",
       "    .dataframe tbody tr th {\n",
       "        vertical-align: top;\n",
       "    }\n",
       "\n",
       "    .dataframe thead th {\n",
       "        text-align: right;\n",
       "    }\n",
       "</style>\n",
       "<table border=\"1\" class=\"dataframe\">\n",
       "  <thead>\n",
       "    <tr style=\"text-align: right;\">\n",
       "      <th></th>\n",
       "      <th>Sentence_id</th>\n",
       "      <th>Text</th>\n",
       "      <th>Speaker</th>\n",
       "      <th>Speaker_title</th>\n",
       "      <th>Speaker_party</th>\n",
       "      <th>File_id</th>\n",
       "      <th>Length</th>\n",
       "      <th>Line_number</th>\n",
       "      <th>Sentiment</th>\n",
       "      <th>Verdict</th>\n",
       "      <th>date</th>\n",
       "      <th>mos_before_election</th>\n",
       "      <th>Clean_text</th>\n",
       "    </tr>\n",
       "    <tr>\n",
       "      <th>index</th>\n",
       "      <th></th>\n",
       "      <th></th>\n",
       "      <th></th>\n",
       "      <th></th>\n",
       "      <th></th>\n",
       "      <th></th>\n",
       "      <th></th>\n",
       "      <th></th>\n",
       "      <th></th>\n",
       "      <th></th>\n",
       "      <th></th>\n",
       "      <th></th>\n",
       "      <th></th>\n",
       "    </tr>\n",
       "  </thead>\n",
       "  <tbody>\n",
       "    <tr>\n",
       "      <th>0</th>\n",
       "      <td>8211</td>\n",
       "      <td>Now, this is not standing still.</td>\n",
       "      <td>Richard M. Nixon</td>\n",
       "      <td>Vice President</td>\n",
       "      <td>REPUBLICAN</td>\n",
       "      <td>1960-09-26.txt</td>\n",
       "      <td>6</td>\n",
       "      <td>114</td>\n",
       "      <td>-0.417840</td>\n",
       "      <td>-1</td>\n",
       "      <td>1960-09-26</td>\n",
       "      <td>2</td>\n",
       "      <td>standing still</td>\n",
       "    </tr>\n",
       "    <tr>\n",
       "      <th>1</th>\n",
       "      <td>8515</td>\n",
       "      <td>So these are three programs which are quite mo...</td>\n",
       "      <td>John F. Kennedy</td>\n",
       "      <td>Senator</td>\n",
       "      <td>DEMOCRAT</td>\n",
       "      <td>1960-09-26.txt</td>\n",
       "      <td>9</td>\n",
       "      <td>418</td>\n",
       "      <td>0.249581</td>\n",
       "      <td>-1</td>\n",
       "      <td>1960-09-26</td>\n",
       "      <td>2</td>\n",
       "      <td>three programs quite moderate</td>\n",
       "    </tr>\n",
       "    <tr>\n",
       "      <th>2</th>\n",
       "      <td>8514</td>\n",
       "      <td>The proposal advanced by you and by Mr. Javits...</td>\n",
       "      <td>John F. Kennedy</td>\n",
       "      <td>Senator</td>\n",
       "      <td>DEMOCRAT</td>\n",
       "      <td>1960-09-26.txt</td>\n",
       "      <td>42</td>\n",
       "      <td>417</td>\n",
       "      <td>-0.626563</td>\n",
       "      <td>1</td>\n",
       "      <td>1960-09-26</td>\n",
       "      <td>2</td>\n",
       "      <td>proposal advanced mr javits would cost six hun...</td>\n",
       "    </tr>\n",
       "    <tr>\n",
       "      <th>3</th>\n",
       "      <td>8513</td>\n",
       "      <td>It does not put a deficit on the Treasury.</td>\n",
       "      <td>John F. Kennedy</td>\n",
       "      <td>Senator</td>\n",
       "      <td>DEMOCRAT</td>\n",
       "      <td>1960-09-26.txt</td>\n",
       "      <td>9</td>\n",
       "      <td>416</td>\n",
       "      <td>-0.629486</td>\n",
       "      <td>1</td>\n",
       "      <td>1960-09-26</td>\n",
       "      <td>2</td>\n",
       "      <td>put deficit treasury</td>\n",
       "    </tr>\n",
       "    <tr>\n",
       "      <th>4</th>\n",
       "      <td>8512</td>\n",
       "      <td>The third is medical care for the aged which i...</td>\n",
       "      <td>John F. Kennedy</td>\n",
       "      <td>Senator</td>\n",
       "      <td>DEMOCRAT</td>\n",
       "      <td>1960-09-26.txt</td>\n",
       "      <td>22</td>\n",
       "      <td>415</td>\n",
       "      <td>0.000000</td>\n",
       "      <td>-1</td>\n",
       "      <td>1960-09-26</td>\n",
       "      <td>2</td>\n",
       "      <td>third medical care aged tied social security f...</td>\n",
       "    </tr>\n",
       "  </tbody>\n",
       "</table>\n",
       "</div>"
      ],
      "text/plain": [
       "       Sentence_id                                               Text  \\\n",
       "index                                                                   \n",
       "0             8211                   Now, this is not standing still.   \n",
       "1             8515  So these are three programs which are quite mo...   \n",
       "2             8514  The proposal advanced by you and by Mr. Javits...   \n",
       "3             8513         It does not put a deficit on the Treasury.   \n",
       "4             8512  The third is medical care for the aged which i...   \n",
       "\n",
       "                Speaker   Speaker_title Speaker_party         File_id  Length  \\\n",
       "index                                                                           \n",
       "0      Richard M. Nixon  Vice President    REPUBLICAN  1960-09-26.txt       6   \n",
       "1       John F. Kennedy         Senator      DEMOCRAT  1960-09-26.txt       9   \n",
       "2       John F. Kennedy         Senator      DEMOCRAT  1960-09-26.txt      42   \n",
       "3       John F. Kennedy         Senator      DEMOCRAT  1960-09-26.txt       9   \n",
       "4       John F. Kennedy         Senator      DEMOCRAT  1960-09-26.txt      22   \n",
       "\n",
       "       Line_number  Sentiment  Verdict       date  mos_before_election  \\\n",
       "index                                                                    \n",
       "0              114  -0.417840       -1 1960-09-26                    2   \n",
       "1              418   0.249581       -1 1960-09-26                    2   \n",
       "2              417  -0.626563        1 1960-09-26                    2   \n",
       "3              416  -0.629486        1 1960-09-26                    2   \n",
       "4              415   0.000000       -1 1960-09-26                    2   \n",
       "\n",
       "                                              Clean_text  \n",
       "index                                                     \n",
       "0                                         standing still  \n",
       "1                          three programs quite moderate  \n",
       "2      proposal advanced mr javits would cost six hun...  \n",
       "3                                   put deficit treasury  \n",
       "4      third medical care aged tied social security f...  "
      ]
     },
     "execution_count": 11,
     "metadata": {},
     "output_type": "execute_result"
    }
   ],
   "source": [
    "df.head()"
   ]
  },
  {
   "cell_type": "markdown",
   "metadata": {},
   "source": [
    "# Train-test split\n"
   ]
  },
  {
   "cell_type": "code",
   "execution_count": 12,
   "metadata": {},
   "outputs": [],
   "source": [
    "mask = df[\"date\"].dt.year < 2012\n",
    "\n",
    "X_train = df.loc[mask, \"Clean_text\"].values\n",
    "y_train = df.loc[mask, \"Verdict\"].values\n",
    "\n",
    "X_test = df.loc[~mask, \"Clean_text\"].values\n",
    "y_test = df.loc[~mask, \"Verdict\"].values"
   ]
  },
  {
   "cell_type": "markdown",
   "metadata": {},
   "source": [
    "# TF-idf"
   ]
  },
  {
   "cell_type": "markdown",
   "metadata": {},
   "source": [
    "vectorizer = TfidfVectorizer(max_df=0.6, stop_words='english')\n",
    "X_train = vectorizer.fit_transform(X_train)\n",
    "print(\"n_samples: %d, n_features: %d\" % X_train.shape)\n",
    "X_test = vectorizer.transform(X_test)\n",
    "print(\"n_samples: %d, n_features: %d\" % X_test.shape)\n",
    "\n",
    "feature_names = vectorizer.get_feature_names_out()\n",
    "\n"
   ]
  },
  {
   "cell_type": "markdown",
   "metadata": {},
   "source": [
    "# Base line model\n",
    "\n",
    "1. SVM\n",
    "2. KNN\n",
    "3. Perceptron\n",
    "4. Naive Bayes\n",
    "5. Decision Tree \n",
    "5. Random Forest\n",
    "\n"
   ]
  },
  {
   "cell_type": "markdown",
   "metadata": {},
   "source": [
    "import time \n",
    "\n",
    "def baseline(clf):\n",
    "    print(\"_\" * 80)\n",
    "    print(\"Training: \")\n",
    "    print(clf)\n",
    "    t0 = time.time()\n",
    "    clf.fit(X_train, y_train)\n",
    "    train_time = time.time() - t0\n",
    "    print(\"train time: %0.3fs\" % train_time)\n",
    "\n",
    "    t0 = time.time()\n",
    "    pred = clf.predict(X_test)\n",
    "    test_time = time.time() - t0\n",
    "    print(\"test time:  %0.3fs\" % test_time)\n",
    "\n",
    "    score = accuracy_score(y_test, pred)\n",
    "    print(\"accuracy:   %0.3f\" % score)\n",
    "\n",
    "    print()\n",
    "    print(\"                       Classification report\")\n",
    "    report = classification_report(y_test, pred, target_names= [\"NFS\", \"UFS\", \"CFS\"])\n",
    "    print(report)\n",
    "\n",
    "    return {\n",
    "            \"score\": score,\n",
    "            \"report\": report, \n",
    "            \"train_time\": train_time, \n",
    "            \"test_time\": test_time, \n",
    "            }\n"
   ]
  },
  {
   "cell_type": "markdown",
   "metadata": {},
   "source": [
    "results = {}\n",
    "\n",
    "clfs = [\n",
    "        (\"SVM\", svm.SVC(kernel='linear')), \n",
    "        (\"KNN\", KNeighborsClassifier(n_neighbors=10)), \n",
    "        (\"Perceptron\", Perceptron(max_iter=50)),\n",
    "        (\"NB\", ComplementNB()),\n",
    "        (\"DT\", DecisionTreeClassifier()),\n",
    "        (\"RF\", RandomForestClassifier(min_samples_split=5))\n",
    "        ]   \n",
    "\n",
    "for classifier in clfs:\n",
    "    result = baseline(classifier[1])  \n",
    "    results.setdefault(classifier[0], result)\n"
   ]
  },
  {
   "cell_type": "markdown",
   "metadata": {},
   "source": [
    "results.keys()"
   ]
  },
  {
   "cell_type": "markdown",
   "metadata": {},
   "source": [
    "# Word Embedding using keras - NOT WORKING YET :D "
   ]
  },
  {
   "cell_type": "markdown",
   "metadata": {},
   "source": [
    "from tensorflow.keras.preprocessing.text import one_hot\n",
    "from tensorflow.keras.layers import Embedding\n",
    "from tensorflow.keras.preprocessing.sequence import pad_sequences\n",
    "from tensorflow.keras.models import Sequential"
   ]
  },
  {
   "cell_type": "markdown",
   "metadata": {},
   "source": [
    "# Defining vocabulary size\n",
    "vocabulary_size = list(unique_word_dict.values())[-1]"
   ]
  },
  {
   "cell_type": "markdown",
   "metadata": {},
   "source": [
    "## One hot encoding representation"
   ]
  },
  {
   "cell_type": "markdown",
   "metadata": {},
   "source": [
    "encoded_vocab = [one_hot(words, vocabulary_size) for words in df[\"Text_clean\"].values]"
   ]
  },
  {
   "cell_type": "markdown",
   "metadata": {},
   "source": [
    "## Padding sequences"
   ]
  },
  {
   "cell_type": "markdown",
   "metadata": {},
   "source": [
    "# finding max sentence length\n",
    "\n",
    "vec_lengths = []\n",
    "for i in encoded_vocab:\n",
    "    vec_lengths.append(len(i))\n",
    "\n",
    "\n",
    "max_length = np.unique(vec_lengths)[-1]\n",
    "max_length"
   ]
  },
  {
   "cell_type": "markdown",
   "metadata": {},
   "source": [
    "embedded_docs=pad_sequences(encoded_vocab,padding='pre',maxlen=max_length)\n",
    "print(embedded_docs)"
   ]
  },
  {
   "cell_type": "markdown",
   "metadata": {},
   "source": [
    "model=Sequential()\n",
    "model.add(Embedding(vocabulary_size,30,input_length=max_length))\n",
    "model.compile('adam','mse')"
   ]
  },
  {
   "cell_type": "markdown",
   "metadata": {},
   "source": [
    "model.summary()"
   ]
  },
  {
   "cell_type": "markdown",
   "metadata": {},
   "source": [
    "model.predict_classes()"
   ]
  },
  {
   "cell_type": "markdown",
   "metadata": {},
   "source": [
    "# Kurt's try - Classification with a BERT model"
   ]
  },
  {
   "cell_type": "markdown",
   "id": "06e7049d",
   "metadata": {},
   "source": [
    "https://huggingface.co/docs/tokenizers/python/latest/components.html#models <br>\n",
    "_One of the most popular subword tokenization algorithm. The Byte-Pair-Encoding works by starting with characters, while merging those that are the most frequently seen together, thus creating new tokens. It then works iteratively to build new tokens out of the most frequent pairs it sees in a corpus.BPE is able to build words it has never seen by using multiple subword tokens, and thus requires smaller vocabularies, with less chances of having “unk” (unknown) tokens._"
   ]
  },
  {
   "cell_type": "markdown",
   "id": "e51f60c6",
   "metadata": {},
   "source": [
    "James briggs, https://youtu.be/GYDFBfx8Ts8"
   ]
  },
  {
   "cell_type": "markdown",
   "metadata": {},
   "source": [
    "Before encoding, we need to figure out how long each sequence to be because the encoder method also acts like a padding or truncation method. "
   ]
  },
  {
   "cell_type": "markdown",
   "metadata": {},
   "source": [
    "FYI: raw data:"
   ]
  },
  {
   "cell_type": "code",
   "execution_count": 13,
   "metadata": {},
   "outputs": [
    {
     "data": {
      "text/plain": [
       "<seaborn.axisgrid.FacetGrid at 0x18c4a99e8e0>"
      ]
     },
     "execution_count": 13,
     "metadata": {},
     "output_type": "execute_result"
    },
    {
     "data": {
      "text/plain": [
       "<Figure size 864x720 with 0 Axes>"
      ]
     },
     "metadata": {},
     "output_type": "display_data"
    },
    {
     "data": {
      "image/png": "[encoded data removed]",
      "text/plain": [
       "<Figure size 360x360 with 1 Axes>"
      ]
     },
     "metadata": {},
     "output_type": "display_data"
    }
   ],
   "source": [
    "import seaborn as sns\n",
    "import matplotlib.pyplot as plt\n",
    "\n",
    "seqlen2 = df[\"Clean_text\"].apply(lambda x: len(x.split()))\n",
    "sns.set_style(\"darkgrid\")\n",
    "plt.figure(figsize = (12,10))\n",
    "sns.displot(seqlen2)"
   ]
  },
  {
   "cell_type": "markdown",
   "metadata": {},
   "source": [
    "Preprocessed data:"
   ]
  },
  {
   "cell_type": "code",
   "execution_count": 14,
   "id": "3467740e",
   "metadata": {},
   "outputs": [],
   "source": [
    "seqlen = pd.DataFrame(X_train, columns=[\"Clean_text\"])[\"Clean_text\"].apply(lambda x: len(x.split()))"
   ]
  },
  {
   "cell_type": "code",
   "execution_count": 15,
   "id": "182e6d28",
   "metadata": {},
   "outputs": [
    {
     "data": {
      "text/plain": [
       "<seaborn.axisgrid.FacetGrid at 0x18c4d452280>"
      ]
     },
     "execution_count": 15,
     "metadata": {},
     "output_type": "execute_result"
    },
    {
     "data": {
      "text/plain": [
       "<Figure size 864x720 with 0 Axes>"
      ]
     },
     "metadata": {},
     "output_type": "display_data"
    },
    {
     "data": {
      "image/png": "[encoded data removed]",
      "text/plain": [
       "<Figure size 360x360 with 1 Axes>"
      ]
     },
     "metadata": {},
     "output_type": "display_data"
    }
   ],
   "source": [
    "plt.figure(figsize = (12,10))\n",
    "sns.set_style(\"darkgrid\")\n",
    "sns.displot(seqlen)"
   ]
  },
  {
   "cell_type": "code",
   "execution_count": 16,
   "id": "7f748103",
   "metadata": {},
   "outputs": [],
   "source": [
    "SEQ_LEN = 30"
   ]
  },
  {
   "cell_type": "markdown",
   "metadata": {},
   "source": [
    "initialize tokenizer from a pretrained model. Since we have lowercase text, we use the uncased BERT."
   ]
  },
  {
   "cell_type": "code",
   "execution_count": 18,
   "id": "4c0c02cd",
   "metadata": {},
   "outputs": [
    {
     "name": "stderr",
     "output_type": "stream",
     "text": [
      "Downloading: 100%|██████████| 28.0/28.0 [00:00<00:00, 4.65kB/s]\n",
      "Downloading: 100%|██████████| 570/570 [00:00<?, ?B/s] \n",
      "Downloading: 100%|██████████| 226k/226k [00:00<00:00, 496kB/s] \n",
      "Downloading: 100%|██████████| 455k/455k [00:00<00:00, 1.08MB/s]\n"
     ]
    }
   ],
   "source": [
    "from transformers import AutoTokenizer\n",
    "\n",
    "checkpoint = \"bert-base-uncased\"\n",
    "tokenizer = AutoTokenizer.from_pretrained(checkpoint)"
   ]
  },
  {
   "cell_type": "markdown",
   "metadata": {},
   "source": [
    "now that we have initiated the tokenizer, we can do the encoding. add each sequence into a numpy array:"
   ]
  },
  {
   "cell_type": "code",
   "execution_count": 19,
   "id": "0701715f",
   "metadata": {},
   "outputs": [],
   "source": [
    "import numpy as np\n",
    "# initializing np arrays, length of df by the sequence length that is defined above\n",
    "\n",
    "Xids = np.zeros((len(X_train), SEQ_LEN))\n",
    "Xmask = np.zeros((len(X_train), SEQ_LEN))\n",
    "\n",
    "for i, text in enumerate(X_train):\n",
    "    tokens = tokenizer.encode_plus(text, \n",
    "        max_length = SEQ_LEN, \n",
    "        truncation = True, \n",
    "        padding = \"max_length\",\n",
    "        add_special_tokens = True, \n",
    "        return_token_type_ids = False, \n",
    "        return_attention_mask = True, \n",
    "        return_tensors = \"tf\")\n",
    "    Xids[i, :] = tokens[\"input_ids\"]\n",
    "    Xmask[i, :] = tokens[\"attention_mask\"]"
   ]
  },
  {
   "cell_type": "code",
   "execution_count": 20,
   "id": "ef9c8121",
   "metadata": {},
   "outputs": [
    {
     "data": {
      "text/plain": [
       "array([[  101.,  3061.,  2145., ...,     0.,     0.,     0.],\n",
       "       [  101.,  2093.,  3454., ...,     0.,     0.,     0.],\n",
       "       [  101.,  6378.,  3935., ...,     0.,     0.,     0.],\n",
       "       ...,\n",
       "       [  101.,  2228.,  4012., ...,     0.,     0.,     0.],\n",
       "       [  101., 19821.,  2488., ...,     0.,     0.,     0.],\n",
       "       [  101., 22395.,  2283., ...,     0.,     0.,     0.]])"
      ]
     },
     "execution_count": 20,
     "metadata": {},
     "output_type": "execute_result"
    }
   ],
   "source": [
    "Xids"
   ]
  },
  {
   "cell_type": "code",
   "execution_count": 21,
   "id": "4c47469f",
   "metadata": {},
   "outputs": [
    {
     "data": {
      "text/plain": [
       "array([[1., 1., 1., ..., 0., 0., 0.],\n",
       "       [1., 1., 1., ..., 0., 0., 0.],\n",
       "       [1., 1., 1., ..., 0., 0., 0.],\n",
       "       ...,\n",
       "       [1., 1., 1., ..., 0., 0., 0.],\n",
       "       [1., 1., 1., ..., 0., 0., 0.],\n",
       "       [1., 1., 1., ..., 0., 0., 0.]])"
      ]
     },
     "execution_count": 21,
     "metadata": {},
     "output_type": "execute_result"
    }
   ],
   "source": [
    "Xmask"
   ]
  },
  {
   "cell_type": "markdown",
   "metadata": {},
   "source": [
    "Do the same for testing data:"
   ]
  },
  {
   "cell_type": "code",
   "execution_count": 22,
   "metadata": {},
   "outputs": [],
   "source": [
    "Xids_test = np.zeros((len(X_test), SEQ_LEN))\n",
    "Xmask_test = np.zeros((len(X_test), SEQ_LEN))\n",
    "\n",
    "for i, text in enumerate(X_test):\n",
    "    tokens = tokenizer.encode_plus(text, \n",
    "        max_length = SEQ_LEN, \n",
    "        truncation = True, \n",
    "        padding = \"max_length\",\n",
    "        add_special_tokens = True, \n",
    "        return_token_type_ids = False, \n",
    "        return_attention_mask = True, \n",
    "        return_tensors = \"tf\")\n",
    "    Xids_test[i, :] = tokens[\"input_ids\"]\n",
    "    Xmask_test[i, :] = tokens[\"attention_mask\"]"
   ]
  },
  {
   "cell_type": "markdown",
   "id": "4ea40ae8",
   "metadata": {},
   "source": [
    "one-hot-encoding the labels"
   ]
  },
  {
   "cell_type": "code",
   "execution_count": 23,
   "id": "3657a9e7",
   "metadata": {},
   "outputs": [
    {
     "data": {
      "text/plain": [
       "(18170, 3)"
      ]
     },
     "execution_count": 23,
     "metadata": {},
     "output_type": "execute_result"
    }
   ],
   "source": [
    "labels = np.zeros((y_train.size, len(np.unique(y_train))))\n",
    "labels.shape"
   ]
  },
  {
   "cell_type": "code",
   "execution_count": 24,
   "id": "7f1c6c13",
   "metadata": {},
   "outputs": [
    {
     "data": {
      "text/plain": [
       "array([[0., 0., 1.],\n",
       "       [0., 0., 1.],\n",
       "       [0., 1., 0.],\n",
       "       ...,\n",
       "       [0., 0., 1.],\n",
       "       [0., 0., 1.],\n",
       "       [0., 0., 1.]])"
      ]
     },
     "execution_count": 24,
     "metadata": {},
     "output_type": "execute_result"
    }
   ],
   "source": [
    "labels[np.arange(y_train.size), y_train] = 1\n",
    "labels"
   ]
  },
  {
   "cell_type": "markdown",
   "metadata": {},
   "source": [
    "alternatively, using sk-learn:"
   ]
  },
  {
   "cell_type": "code",
   "execution_count": 25,
   "metadata": {},
   "outputs": [],
   "source": [
    "from sklearn.preprocessing import OneHotEncoder\n",
    "one_hot_encoder = OneHotEncoder(sparse=False)\n",
    "one_hot_encoder.fit(y_train.reshape(-1, 1))\n",
    "y_encoded = one_hot_encoder.transform(y_train.reshape(-1, 1))\n",
    "y_encoded = pd.DataFrame(data=y_encoded, columns=one_hot_encoder.categories_)\n"
   ]
  },
  {
   "cell_type": "markdown",
   "metadata": {},
   "source": [
    "and for the test data:"
   ]
  },
  {
   "cell_type": "code",
   "execution_count": 26,
   "metadata": {},
   "outputs": [
    {
     "data": {
      "text/plain": [
       "array([[0., 0., 1.],\n",
       "       [0., 0., 1.],\n",
       "       [0., 0., 1.],\n",
       "       ...,\n",
       "       [0., 0., 1.],\n",
       "       [0., 0., 1.],\n",
       "       [0., 0., 1.]])"
      ]
     },
     "execution_count": 26,
     "metadata": {},
     "output_type": "execute_result"
    }
   ],
   "source": [
    "labels_test = np.zeros((y_test.size, len(np.unique(y_test))))\n",
    "\n",
    "labels_test[np.arange(y_test.size), y_test] = 1\n",
    "labels_test"
   ]
  },
  {
   "cell_type": "code",
   "execution_count": 27,
   "id": "ee314d2d",
   "metadata": {},
   "outputs": [],
   "source": [
    "with open(\"xids.npy\", \"wb\") as f:\n",
    "    np.save(f, Xids)\n",
    "with open(\"xmasks.npy\", \"wb\") as f:\n",
    "    np.save(f, Xmask)\n",
    "with open(\"labels.npy\", \"wb\") as f:\n",
    "    np.save(f, labels)\n",
    "with open(\"labels2.npy\", \"wb\") as f:\n",
    "    np.save(f, y_encoded)\n",
    "\n",
    "\n",
    "# delete from memory    \n",
    "# del df, Xids, Xmask, labels, y_encoded, X_train, X_test, y_train, y_test "
   ]
  },
  {
   "cell_type": "code",
   "execution_count": 28,
   "id": "d1ccf66d",
   "metadata": {},
   "outputs": [],
   "source": [
    "with open(\"xids.npy\", \"rb\") as fp:\n",
    "    Xids = np.load(fp)\n",
    "with open(\"xmasks.npy\", \"rb\") as fp:\n",
    "    Xmask = np.load(fp)\n",
    "with open(\"labels.npy\", \"rb\") as fp:\n",
    "    labels = np.load(fp)\n",
    "with open(\"labels2.npy\", \"rb\") as fp:\n",
    "    y_encoded = np.load(fp)"
   ]
  },
  {
   "cell_type": "code",
   "execution_count": 29,
   "id": "369a0520",
   "metadata": {},
   "outputs": [],
   "source": [
    "import tensorflow as tf"
   ]
  },
  {
   "cell_type": "code",
   "execution_count": 30,
   "metadata": {},
   "outputs": [
    {
     "data": {
      "text/plain": [
       "[]"
      ]
     },
     "execution_count": 30,
     "metadata": {},
     "output_type": "execute_result"
    }
   ],
   "source": [
    "tf.config.experimental.list_physical_devices(\"GPU\")"
   ]
  },
  {
   "cell_type": "markdown",
   "metadata": {},
   "source": [
    "tensorflow dataset object: makes it a lot easier (restructure the data, shuffle and batch it in just a few lines of code) - faster in terms of performance and faster for us to code"
   ]
  },
  {
   "cell_type": "markdown",
   "metadata": {},
   "source": [
    " > restructure the data:\n",
    "\n",
    " tensorflow expect the data to be input as a tuple consisting of our input and target label. since we are using BERT, our data should be slightly different. input tuple  should be a dictionary containing an key that is input_id = Xids and attention_mask = Xmask. 1) create dataset object ="
   ]
  },
  {
   "cell_type": "code",
   "execution_count": 31,
   "id": "17cd6627",
   "metadata": {},
   "outputs": [],
   "source": [
    "dataset = tf.data.Dataset.from_tensor_slices((Xids, Xmask, labels))\n",
    "# dataset = tf.data.Dataset.from_tensor_slices((Xids, Xmask, y_encoded))"
   ]
  },
  {
   "cell_type": "code",
   "execution_count": 32,
   "metadata": {},
   "outputs": [],
   "source": [
    "dataset_test = tf.data.Dataset.from_tensor_slices((Xids_test, Xmask_test, labels_test))"
   ]
  },
  {
   "cell_type": "code",
   "execution_count": 33,
   "id": "50f8092b",
   "metadata": {},
   "outputs": [
    {
     "name": "stdout",
     "output_type": "stream",
     "text": [
      "(<tf.Tensor: shape=(30,), dtype=float64, numpy=\n",
      "array([ 101., 3061., 2145.,  102.,    0.,    0.,    0.,    0.,    0.,\n",
      "          0.,    0.,    0.,    0.,    0.,    0.,    0.,    0.,    0.,\n",
      "          0.,    0.,    0.,    0.,    0.,    0.,    0.,    0.,    0.,\n",
      "          0.,    0.,    0.])>, <tf.Tensor: shape=(30,), dtype=float64, numpy=\n",
      "array([1., 1., 1., 1., 0., 0., 0., 0., 0., 0., 0., 0., 0., 0., 0., 0., 0.,\n",
      "       0., 0., 0., 0., 0., 0., 0., 0., 0., 0., 0., 0., 0.])>, <tf.Tensor: shape=(3,), dtype=float64, numpy=array([0., 0., 1.])>)\n"
     ]
    }
   ],
   "source": [
    "for i in dataset.take(1):\n",
    "    print(i)"
   ]
  },
  {
   "cell_type": "markdown",
   "metadata": {},
   "source": [
    "the above returns three tensors. tensorflow expect that the data in is a tuple format. 0 index needs to be our input and the 1 index of that tuple will be our labels. "
   ]
  },
  {
   "cell_type": "code",
   "execution_count": 34,
   "id": "7548b1cb",
   "metadata": {},
   "outputs": [],
   "source": [
    "def map_fn(input_ids, masks, y_encoded):# labels):\n",
    "    return {\"input_ids\": input_ids, \"attention_mask\": masks}, y_encoded #labels\n",
    "\n",
    "dataset = dataset.map(map_fn)"
   ]
  },
  {
   "cell_type": "markdown",
   "metadata": {},
   "source": [
    "and for the test data:"
   ]
  },
  {
   "cell_type": "code",
   "execution_count": 35,
   "metadata": {},
   "outputs": [],
   "source": [
    "dataset_test = dataset_test.map(map_fn)"
   ]
  },
  {
   "cell_type": "code",
   "execution_count": 36,
   "id": "ee706b8d",
   "metadata": {},
   "outputs": [
    {
     "name": "stdout",
     "output_type": "stream",
     "text": [
      "({'input_ids': <tf.Tensor: shape=(30,), dtype=float64, numpy=\n",
      "array([ 101., 3061., 2145.,  102.,    0.,    0.,    0.,    0.,    0.,\n",
      "          0.,    0.,    0.,    0.,    0.,    0.,    0.,    0.,    0.,\n",
      "          0.,    0.,    0.,    0.,    0.,    0.,    0.,    0.,    0.,\n",
      "          0.,    0.,    0.])>, 'attention_mask': <tf.Tensor: shape=(30,), dtype=float64, numpy=\n",
      "array([1., 1., 1., 1., 0., 0., 0., 0., 0., 0., 0., 0., 0., 0., 0., 0., 0.,\n",
      "       0., 0., 0., 0., 0., 0., 0., 0., 0., 0., 0., 0., 0.])>}, <tf.Tensor: shape=(3,), dtype=float64, numpy=array([0., 0., 1.])>)\n"
     ]
    }
   ],
   "source": [
    "for i in dataset.take(1):\n",
    "    print(i)"
   ]
  },
  {
   "cell_type": "code",
   "execution_count": 37,
   "id": "f244ddc3",
   "metadata": {},
   "outputs": [],
   "source": [
    "# shuffling and batching data is easy:\n",
    "dataset = dataset.shuffle(100_000).batch(32)\n",
    "dataset_test = dataset_test.shuffle(100_000).batch(32)"
   ]
  },
  {
   "cell_type": "code",
   "execution_count": 38,
   "id": "4c31d5ec",
   "metadata": {},
   "outputs": [],
   "source": [
    "DS_LEN = len(list(dataset))"
   ]
  },
  {
   "cell_type": "code",
   "execution_count": 39,
   "id": "250b879a",
   "metadata": {},
   "outputs": [
    {
     "data": {
      "text/plain": [
       "568"
      ]
     },
     "execution_count": 39,
     "metadata": {},
     "output_type": "execute_result"
    }
   ],
   "source": [
    "DS_LEN"
   ]
  },
  {
   "cell_type": "markdown",
   "id": "7bbb928b",
   "metadata": {},
   "source": [
    "SPLIT = 0.9\n",
    "\n",
    "train = dataset.take(round(DS_LEN * SPLIT))\n",
    "val = dataset.skip(round(DS_LEN * SPLIT))"
   ]
  },
  {
   "cell_type": "markdown",
   "id": "8f7f54d0",
   "metadata": {},
   "source": [
    "del dataset"
   ]
  },
  {
   "cell_type": "code",
   "execution_count": 40,
   "id": "b2c6706f",
   "metadata": {},
   "outputs": [
    {
     "name": "stderr",
     "output_type": "stream",
     "text": [
      "Downloading: 100%|██████████| 511M/511M [00:16<00:00, 33.1MB/s] \n",
      "Some layers from the model checkpoint at bert-base-uncased were not used when initializing TFBertModel: ['mlm___cls', 'nsp___cls']\n",
      "- This IS expected if you are initializing TFBertModel from the checkpoint of a model trained on another task or with another architecture (e.g. initializing a BertForSequenceClassification model from a BertForPreTraining model).\n",
      "- This IS NOT expected if you are initializing TFBertModel from the checkpoint of a model that you expect to be exactly identical (initializing a BertForSequenceClassification model from a BertForSequenceClassification model).\n",
      "All the layers of TFBertModel were initialized from the model checkpoint at bert-base-uncased.\n",
      "If your task is similar to the task the model of the checkpoint was trained on, you can already use TFBertModel for predictions without further training.\n"
     ]
    }
   ],
   "source": [
    "from transformers import TFAutoModel\n",
    "\n",
    "bert = TFAutoModel.from_pretrained(checkpoint)"
   ]
  },
  {
   "cell_type": "markdown",
   "metadata": {},
   "source": [
    "we need to build a network around bert. first define input layers (there are two Xids and Xmask). name is superimportant that is matching the naming from the dict above. otherwise it will fail"
   ]
  },
  {
   "cell_type": "code",
   "execution_count": 41,
   "id": "ac63a4fa",
   "metadata": {},
   "outputs": [],
   "source": [
    "# our input layers:\n",
    "input_ids = tf.keras.layers.Input(shape = (SEQ_LEN,), name = \"input_ids\", dtype=\"int32\") # input data type important\n",
    "mask = tf.keras.layers.Input(shape = (SEQ_LEN,), name = \"attention_mask\", dtype=\"int32\")\n",
    "\n",
    "# bert consumes our two input layers\n",
    "# and return two tensors to us, latency (3d) and ola/cuda? output (2d)\n",
    "embeddings = bert(input_ids, attention_mask = mask)[0]\n",
    "\n",
    "# to keep it simple, we use a global max pooling layer. but could experiment with lstm layers, convolutional layers, or anything else\n",
    "X = tf.keras.layers.GlobalMaxPool1D()(embeddings)\n",
    "\n",
    "# could have skipped the step above and change index 0 to 1 to get the 2d layer - the global max pool layer will convert our 3d output tensor to a 2d tensor\n",
    "\n",
    "X = tf.keras.layers.BatchNormalization()(X) # normalizing the output - usually leads to better results\n",
    "# following a densly connected neural net  which are responsible for classification of our bert output\n",
    "X = tf.keras.layers.Dense(128, activation = \"relu\")(X)\n",
    "X = tf.keras.layers.Dropout(0.1)(X) #prevents overfitting, or too much overfitting\n",
    "X = tf.keras.layers.Dense(32, activation = \"relu\")(X)\n",
    "# output layer\n",
    "y = tf.keras.layers.Dense(3, activation = \"softmax\", name = \"outputs\")(X)\n",
    "\n",
    "# the above is the model architecture\n",
    "# also, we need to tell TensorFlow what our input layers are and what is our output:\n",
    "model = tf.keras.Model(inputs = [input_ids, mask], outputs = y)"
   ]
  },
  {
   "cell_type": "code",
   "execution_count": 42,
   "id": "91cfb529",
   "metadata": {},
   "outputs": [
    {
     "name": "stdout",
     "output_type": "stream",
     "text": [
      "Model: \"model\"\n",
      "__________________________________________________________________________________________________\n",
      " Layer (type)                   Output Shape         Param #     Connected to                     \n",
      "==================================================================================================\n",
      " input_ids (InputLayer)         [(None, 30)]         0           []                               \n",
      "                                                                                                  \n",
      " attention_mask (InputLayer)    [(None, 30)]         0           []                               \n",
      "                                                                                                  \n",
      " tf_bert_model (TFBertModel)    TFBaseModelOutputWi  109482240   ['input_ids[0][0]',              \n",
      "                                thPoolingAndCrossAt               'attention_mask[0][0]']         \n",
      "                                tentions(last_hidde                                               \n",
      "                                n_state=(None, 30,                                                \n",
      "                                768),                                                             \n",
      "                                 pooler_output=(Non                                               \n",
      "                                e, 768),                                                          \n",
      "                                 past_key_values=No                                               \n",
      "                                ne, hidden_states=N                                               \n",
      "                                one, attentions=Non                                               \n",
      "                                e, cross_attentions                                               \n",
      "                                =None)                                                            \n",
      "                                                                                                  \n",
      " global_max_pooling1d (GlobalMa  (None, 768)         0           ['tf_bert_model[0][0]']          \n",
      " xPooling1D)                                                                                      \n",
      "                                                                                                  \n",
      " batch_normalization (BatchNorm  (None, 768)         3072        ['global_max_pooling1d[0][0]']   \n",
      " alization)                                                                                       \n",
      "                                                                                                  \n",
      " dense (Dense)                  (None, 128)          98432       ['batch_normalization[0][0]']    \n",
      "                                                                                                  \n",
      " dropout_37 (Dropout)           (None, 128)          0           ['dense[0][0]']                  \n",
      "                                                                                                  \n",
      " dense_1 (Dense)                (None, 32)           4128        ['dropout_37[0][0]']             \n",
      "                                                                                                  \n",
      " outputs (Dense)                (None, 3)            99          ['dense_1[0][0]']                \n",
      "                                                                                                  \n",
      "==================================================================================================\n",
      "Total params: 109,587,971\n",
      "Trainable params: 109,586,435\n",
      "Non-trainable params: 1,536\n",
      "__________________________________________________________________________________________________\n"
     ]
    }
   ],
   "source": [
    "model.summary()"
   ]
  },
  {
   "cell_type": "code",
   "execution_count": 43,
   "id": "d6028a79",
   "metadata": {},
   "outputs": [],
   "source": [
    "# almost all parameters are trainable. \n",
    "# don't want to train Bert - we're freezing the bert layer:\n",
    "model.layers[2].trainable = False"
   ]
  },
  {
   "cell_type": "code",
   "execution_count": 44,
   "metadata": {},
   "outputs": [
    {
     "name": "stdout",
     "output_type": "stream",
     "text": [
      "Model: \"model\"\n",
      "__________________________________________________________________________________________________\n",
      " Layer (type)                   Output Shape         Param #     Connected to                     \n",
      "==================================================================================================\n",
      " input_ids (InputLayer)         [(None, 30)]         0           []                               \n",
      "                                                                                                  \n",
      " attention_mask (InputLayer)    [(None, 30)]         0           []                               \n",
      "                                                                                                  \n",
      " tf_bert_model (TFBertModel)    TFBaseModelOutputWi  109482240   ['input_ids[0][0]',              \n",
      "                                thPoolingAndCrossAt               'attention_mask[0][0]']         \n",
      "                                tentions(last_hidde                                               \n",
      "                                n_state=(None, 30,                                                \n",
      "                                768),                                                             \n",
      "                                 pooler_output=(Non                                               \n",
      "                                e, 768),                                                          \n",
      "                                 past_key_values=No                                               \n",
      "                                ne, hidden_states=N                                               \n",
      "                                one, attentions=Non                                               \n",
      "                                e, cross_attentions                                               \n",
      "                                =None)                                                            \n",
      "                                                                                                  \n",
      " global_max_pooling1d (GlobalMa  (None, 768)         0           ['tf_bert_model[0][0]']          \n",
      " xPooling1D)                                                                                      \n",
      "                                                                                                  \n",
      " batch_normalization (BatchNorm  (None, 768)         3072        ['global_max_pooling1d[0][0]']   \n",
      " alization)                                                                                       \n",
      "                                                                                                  \n",
      " dense (Dense)                  (None, 128)          98432       ['batch_normalization[0][0]']    \n",
      "                                                                                                  \n",
      " dropout_37 (Dropout)           (None, 128)          0           ['dense[0][0]']                  \n",
      "                                                                                                  \n",
      " dense_1 (Dense)                (None, 32)           4128        ['dropout_37[0][0]']             \n",
      "                                                                                                  \n",
      " outputs (Dense)                (None, 3)            99          ['dense_1[0][0]']                \n",
      "                                                                                                  \n",
      "==================================================================================================\n",
      "Total params: 109,587,971\n",
      "Trainable params: 104,195\n",
      "Non-trainable params: 109,483,776\n",
      "__________________________________________________________________________________________________\n"
     ]
    }
   ],
   "source": [
    "model.summary()"
   ]
  },
  {
   "cell_type": "markdown",
   "metadata": {},
   "source": [
    "we can now put together our optimizer, loss and accuracy, compile model and start training."
   ]
  },
  {
   "cell_type": "code",
   "execution_count": 45,
   "id": "7937a7a0",
   "metadata": {},
   "outputs": [],
   "source": [
    "optimizer = tf.keras.optimizers.Adam(0.05) # learning rate of 0.01 - originally\n",
    "loss = tf.keras.losses.CategoricalCrossentropy() # due to one hot encoding\n",
    "acc = tf.keras.metrics.CategoricalAccuracy(\"accuracy\") # same as above\n",
    "\n",
    "model.compile(optimizer = optimizer, loss = loss, metrics = [acc])"
   ]
  },
  {
   "cell_type": "markdown",
   "metadata": {},
   "source": [
    "now we can train our model <br>\n",
    "<font color = \"red\"> needs much more epochs!"
   ]
  },
  {
   "cell_type": "code",
   "execution_count": 46,
   "id": "8cc45558",
   "metadata": {},
   "outputs": [
    {
     "name": "stdout",
     "output_type": "stream",
     "text": [
      "Epoch 1/5\n",
      "568/568 [==============================] - 600s 1s/step - loss: 0.8706 - accuracy: 0.6641 - val_loss: 0.9090 - val_accuracy: 0.6179\n",
      "Epoch 2/5\n",
      "568/568 [==============================] - 497s 875ms/step - loss: 0.8449 - accuracy: 0.6660 - val_loss: 0.9054 - val_accuracy: 0.6179\n",
      "Epoch 3/5\n",
      "568/568 [==============================] - 500s 881ms/step - loss: 0.8455 - accuracy: 0.6660 - val_loss: 0.9050 - val_accuracy: 0.6179\n",
      "Epoch 4/5\n",
      "568/568 [==============================] - 545s 959ms/step - loss: 0.8453 - accuracy: 0.6660 - val_loss: 0.9049 - val_accuracy: 0.6179\n",
      "Epoch 5/5\n",
      "568/568 [==============================] - 572s 1s/step - loss: 0.8447 - accuracy: 0.6660 - val_loss: 0.9005 - val_accuracy: 0.6179\n"
     ]
    }
   ],
   "source": [
    "# history = model.fit(train, validation_data= val, epochs = 1)\n",
    "history = model.fit(dataset, validation_data= dataset_test, epochs = 5)"
   ]
  },
  {
   "cell_type": "markdown",
   "id": "7c47c40c",
   "metadata": {},
   "source": [
    "model.save(\"my_model\")"
   ]
  }
 ],
 "metadata": {
  "interpreter": {
   "hash": "b82ba6ee2fa6fc8e732e2ad4d23a9f0e948eca091e73c38d7a866370a3b51fd6"
  },
  "kernelspec": {
   "display_name": "Python 3.9.12 64-bit (windows store)",
   "language": "python",
   "name": "python3"
  },
  "language_info": {
   "codemirror_mode": {
    "name": "ipython",
    "version": 3
   },
   "file_extension": ".py",
   "mimetype": "text/x-python",
   "name": "python",
   "nbconvert_exporter": "python",
   "pygments_lexer": "ipython3",
   "version": "3.9.12"
  },
  "orig_nbformat": 4
 },
 "nbformat": 4,
 "nbformat_minor": 2
}
