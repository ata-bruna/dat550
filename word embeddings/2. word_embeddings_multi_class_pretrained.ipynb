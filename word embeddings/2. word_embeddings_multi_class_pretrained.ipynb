{
 "cells": [
  {
   "cell_type": "markdown",
   "metadata": {},
   "source": [
    "# Detect claims to fact check in political debates\n",
    "\n",
    "In this project you will implement various classifiers using both neural and feature based technqiues to detect which sentences in political debates should be fact checked.\n",
    "Dataset from ClaimBuster: https://zenodo.org/record/3609356 \n",
    "Evaluate your classifiers using the same metrics as http://ranger.uta.edu/~cli/pubs/2017/claimbuster-kdd17-hassan.pdf (Table 2)\n",
    "\n",
    "Classification report from sklearn provides everything"
   ]
  },
  {
   "cell_type": "code",
   "execution_count": 1,
   "metadata": {},
   "outputs": [],
   "source": [
    "import numpy as np\n",
    "import pandas as pd\n",
    "import matplotlib.pyplot as plt\n",
    "\n",
    "from sklearn.metrics import *"
   ]
  },
  {
   "cell_type": "markdown",
   "metadata": {},
   "source": [
    "# Loading the data"
   ]
  },
  {
   "cell_type": "code",
   "execution_count": 2,
   "metadata": {},
   "outputs": [
    {
     "name": "stdout",
     "output_type": "stream",
     "text": [
      "<class 'pandas.core.frame.DataFrame'>\n",
      "RangeIndex: 23533 entries, 0 to 23532\n",
      "Data columns (total 5 columns):\n",
      " #   Column      Non-Null Count  Dtype         \n",
      "---  ------      --------------  -----         \n",
      " 0   index       23533 non-null  int64         \n",
      " 1   date        23533 non-null  datetime64[ns]\n",
      " 2   Text        23533 non-null  object        \n",
      " 3   Clean_text  23533 non-null  object        \n",
      " 4   Verdict     23533 non-null  int64         \n",
      "dtypes: datetime64[ns](1), int64(2), object(2)\n",
      "memory usage: 919.4+ KB\n"
     ]
    }
   ],
   "source": [
    "df = pd.read_csv(\"../data_preprocessing/data_with_stop_words.csv\")\n",
    "df['date'] = pd.to_datetime(df['date'])\n",
    "df.dropna(inplace=True)\n",
    "df.reset_index(inplace=True)\n",
    "df.info()\n"
   ]
  },
  {
   "cell_type": "markdown",
   "metadata": {},
   "source": [
    "# Train-test split"
   ]
  },
  {
   "cell_type": "code",
   "execution_count": 3,
   "metadata": {},
   "outputs": [],
   "source": [
    "mask = df[\"date\"].dt.year < 2012\n",
    "\n",
    "X_train = df.loc[mask, \"Clean_text\"].values\n",
    "y_train = df.loc[mask, \"Verdict\"].values\n",
    "\n",
    "X_test = df.loc[~mask, \"Clean_text\"].values\n",
    "y_test = df.loc[~mask, \"Verdict\"].values"
   ]
  },
  {
   "cell_type": "markdown",
   "metadata": {},
   "source": [
    "# Data Preprocessing"
   ]
  },
  {
   "cell_type": "code",
   "execution_count": 4,
   "metadata": {},
   "outputs": [],
   "source": [
    "from tensorflow.keras.preprocessing.text import one_hot\n",
    "from tensorflow.keras.preprocessing.text import Tokenizer\n",
    "from tensorflow.keras.preprocessing.sequence import pad_sequences"
   ]
  },
  {
   "cell_type": "markdown",
   "metadata": {},
   "source": [
    "## One hot encoding representation"
   ]
  },
  {
   "cell_type": "markdown",
   "metadata": {},
   "source": [
    "The `Tokenizer` converts a text corpus into a list of integers. This class maps each word, and encodes the corpus. The map assigns an integer to every word and creates a dictionary, where the keys are the vocabulary terms themselves. Some parameters such as `num_words` set the maximum size of the vocabulary using the most comon words."
   ]
  },
  {
   "cell_type": "code",
   "execution_count": 5,
   "metadata": {},
   "outputs": [],
   "source": [
    "vocabulary_size = 5000\n",
    "oov_token = \"<OOV>\"\n",
    "tokenizer = Tokenizer(num_words = vocabulary_size)\n",
    "tokenizer.fit_on_texts(X_train)\n",
    "X_train_encoded = tokenizer.texts_to_sequences(X_train)"
   ]
  },
  {
   "cell_type": "markdown",
   "metadata": {},
   "source": [
    "Encodding Test data"
   ]
  },
  {
   "cell_type": "code",
   "execution_count": 6,
   "metadata": {},
   "outputs": [],
   "source": [
    "X_test_encoded = tokenizer.texts_to_sequences(X_test)"
   ]
  },
  {
   "cell_type": "code",
   "execution_count": 7,
   "metadata": {},
   "outputs": [],
   "source": [
    "word_index = tokenizer.word_index # same as vocabulary"
   ]
  },
  {
   "cell_type": "markdown",
   "metadata": {},
   "source": [
    "## Padding sequences"
   ]
  },
  {
   "cell_type": "code",
   "execution_count": 8,
   "metadata": {},
   "outputs": [
    {
     "name": "stdout",
     "output_type": "stream",
     "text": [
      "[[  45   16   13 ...    0    0    0]\n",
      " [  44   93   22 ...    0    0    0]\n",
      " [   1  583 2982 ...    0    0    0]\n",
      " ...\n",
      " [   3    4   27 ...    0    0    0]\n",
      " [ 389 1378    5 ...    0    0    0]\n",
      " [   3  389   46 ...    0    0    0]]\n"
     ]
    }
   ],
   "source": [
    "max_length = 100\n",
    "X_train_embedded=pad_sequences(X_train_encoded,padding='post',maxlen=max_length, truncating='post')\n",
    "print(X_train_embedded)"
   ]
  },
  {
   "cell_type": "markdown",
   "metadata": {},
   "source": [
    "### For training"
   ]
  },
  {
   "cell_type": "code",
   "execution_count": 9,
   "metadata": {},
   "outputs": [
    {
     "data": {
      "text/plain": [
       "(18170, 100)"
      ]
     },
     "execution_count": 9,
     "metadata": {},
     "output_type": "execute_result"
    }
   ],
   "source": [
    "X_train_embedded.shape"
   ]
  },
  {
   "cell_type": "markdown",
   "metadata": {},
   "source": [
    "### For testing"
   ]
  },
  {
   "cell_type": "code",
   "execution_count": 10,
   "metadata": {},
   "outputs": [
    {
     "name": "stdout",
     "output_type": "stream",
     "text": [
      "(5363, 100)\n"
     ]
    }
   ],
   "source": [
    "X_test_embedded=pad_sequences(X_test_encoded,padding='post',maxlen=max_length)\n",
    "print(X_test_embedded.shape)"
   ]
  },
  {
   "cell_type": "markdown",
   "metadata": {},
   "source": [
    "### For the labels"
   ]
  },
  {
   "cell_type": "code",
   "execution_count": 11,
   "metadata": {},
   "outputs": [
    {
     "data": {
      "text/plain": [
       "(18170, 3)"
      ]
     },
     "execution_count": 11,
     "metadata": {},
     "output_type": "execute_result"
    }
   ],
   "source": [
    "from sklearn.preprocessing import OneHotEncoder\n",
    "one_hot_encoder = OneHotEncoder(sparse=False)\n",
    "one_hot_encoder.fit(y_train.reshape(-1, 1))\n",
    "y_encoded = one_hot_encoder.transform(y_train.reshape(-1, 1))\n",
    "\n",
    "y_encoded.shape"
   ]
  },
  {
   "cell_type": "code",
   "execution_count": 12,
   "metadata": {},
   "outputs": [
    {
     "data": {
      "text/plain": [
       "(5363, 3)"
      ]
     },
     "execution_count": 12,
     "metadata": {},
     "output_type": "execute_result"
    }
   ],
   "source": [
    "y_encoded_test = one_hot_encoder.transform(y_test.reshape(-1,1))\n",
    "y_encoded_test.shape"
   ]
  },
  {
   "cell_type": "markdown",
   "metadata": {},
   "source": [
    "# Creating the model"
   ]
  },
  {
   "cell_type": "markdown",
   "metadata": {},
   "source": [
    "### Importing the pretrained weights for the embedding matrix\n",
    "\n",
    "The pretrained weights used in this report are from the  <strong> Global Vectors for Word Representation </strong> `GloVe` model. Wich can be downloaded from https://nlp.stanford.edu/projects/glove/.\n",
    "\n",
    "We chose the first option [glove.6B.zip](https://nlp.stanford.edu/data/glove.6B.zip), which contais Wikipedia 2014 + Gigaword 5 (6B tokens, 400K vocab, uncased, 50d, 100d, 200d, & 300d vectors, 822 MB download). This option contains 4 `.txt` files. We use the `glove.6B.100d.txt` as our sequences were padded to have `max_len =100`\n",
    "\n",
    "Once the zip file is downloaded, place the zip into the data folder and run the following code:\n",
    "\n",
    "```import os\n",
    "import zipfile\n",
    "with zipfile.ZipFile('../data/glove.zip', 'r') as zip_ref:\n",
    "    zip_ref.extractall('../data/glove')\n",
    "```\n"
   ]
  },
  {
   "cell_type": "code",
   "execution_count": 13,
   "metadata": {},
   "outputs": [
    {
     "name": "stdout",
     "output_type": "stream",
     "text": [
      "Found 400001 word vectors.\n"
     ]
    }
   ],
   "source": [
    "embeddings_index = {}\n",
    "f = open('../data/glove/glove.6B.100d.txt',encoding='utf-8')\n",
    "for line in f:\n",
    "    values = line.split()\n",
    "    word = values[0]\n",
    "    coefs = np.asarray(values[1:], dtype='float32')\n",
    "    embeddings_index[word] = coefs\n",
    "f.close()\n",
    "\n",
    "print('Found %s word vectors.' % len(embeddings_index))"
   ]
  },
  {
   "cell_type": "code",
   "execution_count": 14,
   "metadata": {},
   "outputs": [],
   "source": [
    "embedding_matrix = np.zeros((len(word_index) + 1, max_length))\n",
    "for word, i in word_index.items():\n",
    "    embedding_vector = embeddings_index.get(word)\n",
    "    if embedding_vector is not None:\n",
    "        # words not found in embedding index will be all-zeros.\n",
    "        embedding_matrix[i] = embedding_vector"
   ]
  },
  {
   "cell_type": "markdown",
   "metadata": {},
   "source": [
    "### Defining plotting functions\n",
    "\n",
    "- model history\n",
    "- confusuion matrix"
   ]
  },
  {
   "cell_type": "code",
   "execution_count": 15,
   "metadata": {},
   "outputs": [],
   "source": [
    "def plot_model_history(model_history):\n",
    "    # plot loss during training\n",
    "    plt.subplot(211)\n",
    "    plt.title('Loss')\n",
    "    plt.plot(model_history.history['loss'], label='train')\n",
    "    plt.plot(model_history.history['val_loss'], label='test')\n",
    "    plt.legend()\n",
    "    # plot accuracy during training\n",
    "    plt.subplot(212)\n",
    "    plt.title('Accuracy')\n",
    "    plt.plot(model_history.history['accuracy'], label='train')\n",
    "    plt.plot(model_history.history['val_accuracy'], label='test')\n",
    "    plt.legend()\n",
    "    plt.subplots_adjust(hspace=0.5)\n",
    "    plt.show()"
   ]
  },
  {
   "cell_type": "code",
   "execution_count": 16,
   "metadata": {},
   "outputs": [],
   "source": [
    "import itertools\n",
    "\n",
    "def plot_confusion_matrix(cm, classes,\n",
    "                          normalize=False,\n",
    "                          title='Confusion matrix'):\n",
    "    \"\"\"\n",
    "    Plot the confusion matrix.\n",
    "    Normalization is applied by setting `normalize=True`.\n",
    "\n",
    "    Code soure: \n",
    "    http://scikit-learn.org/stable/auto_examples/model_selection/plot_confusion_matrix.html\n",
    "    \n",
    "    \"\"\"\n",
    "    plt.imshow(cm, interpolation='nearest', cmap=plt.cm.binary)\n",
    "    plt.title(title)\n",
    "    plt.colorbar()\n",
    "    tick_marks = np.arange(len(classes))\n",
    "    plt.xticks(tick_marks, classes)\n",
    "    plt.yticks(tick_marks, classes)\n",
    "\n",
    "    if normalize:\n",
    "        cm = cm.astype('float') / cm.sum(axis=1)[:, np.newaxis]\n",
    "        print(\"Normalized confusion matrix\")\n",
    "    else:\n",
    "        print('Confusion matrix, without normalization')\n",
    "\n",
    "    thresh = cm.max() / 2.\n",
    "    for i, j in itertools.product(range(cm.shape[0]), range(cm.shape[1])):\n",
    "        plt.text(j, i, cm[i, j],\n",
    "                 horizontalalignment=\"center\",\n",
    "                 color=\"white\" if cm[i, j] > thresh else \"black\")\n",
    "\n",
    "    plt.tight_layout()\n",
    "    plt.ylabel('True label')\n",
    "    plt.xlabel('Predicted label')"
   ]
  },
  {
   "cell_type": "markdown",
   "metadata": {},
   "source": [
    "## Bidirectional LSTM "
   ]
  },
  {
   "cell_type": "code",
   "execution_count": 17,
   "metadata": {},
   "outputs": [],
   "source": [
    "from tensorflow.keras.layers import LSTM\n",
    "from tensorflow.keras.layers import Dense\n",
    "from tensorflow.keras.layers import Bidirectional\n",
    "from tensorflow.keras.layers import Dropout\n",
    "from tensorflow.keras.layers import MaxPooling1D\n",
    "from tensorflow.keras.layers import GlobalMaxPooling1D\n",
    "from tensorflow.keras.layers import Conv1D\n",
    "from tensorflow.keras.backend import clear_session\n",
    "from tensorflow.keras.layers import Embedding\n",
    "from tensorflow.keras.models import Sequential\n",
    "from tensorflow.keras.callbacks import EarlyStopping\n",
    "\n",
    "callback =  EarlyStopping(\n",
    "    monitor=\"val_loss\",\n",
    "    min_delta=0,\n",
    "    patience=None,\n",
    "    verbose=0,\n",
    "    mode=\"auto\",\n",
    "    baseline=None,\n",
    "    restore_best_weights=False,\n",
    ")"
   ]
  },
  {
   "cell_type": "code",
   "execution_count": 18,
   "metadata": {},
   "outputs": [
    {
     "name": "stdout",
     "output_type": "stream",
     "text": [
      "Model: \"sequential\"\n",
      "_________________________________________________________________\n",
      " Layer (type)                Output Shape              Param #   \n",
      "=================================================================\n",
      " embedding (Embedding)       (None, 100, 100)          1035300   \n",
      "                                                                 \n",
      " bidirectional (Bidirectiona  (None, 200)              160800    \n",
      " l)                                                              \n",
      "                                                                 \n",
      " dropout (Dropout)           (None, 200)               0         \n",
      "                                                                 \n",
      " dense (Dense)               (None, 97)                19497     \n",
      "                                                                 \n",
      " dense_1 (Dense)             (None, 3)                 294       \n",
      "                                                                 \n",
      "=================================================================\n",
      "Total params: 1,215,891\n",
      "Trainable params: 180,591\n",
      "Non-trainable params: 1,035,300\n",
      "_________________________________________________________________\n"
     ]
    }
   ],
   "source": [
    "embedding_dim = 100\n",
    "model_bi = Sequential()\n",
    "model_bi.add(Embedding(len(word_index) + 1, \n",
    "                         output_dim=max_length, \n",
    "                         input_length=max_length,\n",
    "                         weights=[embedding_matrix],\n",
    "                         trainable = False\n",
    "                         ))\n",
    "model_bi.add(Bidirectional(LSTM(100)))\n",
    "model_bi.add(Dropout(0.5))\n",
    "model_bi.add(Dense(97, activation = \"relu\"))\n",
    "model_bi.add(Dense(3, activation='softmax'))\n",
    "model_bi.compile(loss='categorical_crossentropy', optimizer='adam', metrics=['accuracy'])\n",
    "model_bi.summary()"
   ]
  },
  {
   "cell_type": "code",
   "execution_count": 19,
   "metadata": {},
   "outputs": [
    {
     "name": "stdout",
     "output_type": "stream",
     "text": [
      "Epoch 1/10\n",
      "455/455 [==============================] - 28s 55ms/step - loss: 0.6335 - accuracy: 0.7512 - val_loss: 0.6141 - val_accuracy: 0.7518\n",
      "Epoch 2/10\n",
      "455/455 [==============================] - 24s 52ms/step - loss: 0.5534 - accuracy: 0.7845 - val_loss: 0.5906 - val_accuracy: 0.7565\n",
      "Epoch 3/10\n",
      "455/455 [==============================] - 24s 52ms/step - loss: 0.5296 - accuracy: 0.7918 - val_loss: 0.5767 - val_accuracy: 0.7636\n",
      "Epoch 4/10\n",
      "455/455 [==============================] - 24s 53ms/step - loss: 0.5099 - accuracy: 0.7996 - val_loss: 0.5763 - val_accuracy: 0.7653\n",
      "Epoch 5/10\n",
      "455/455 [==============================] - 24s 53ms/step - loss: 0.4910 - accuracy: 0.8085 - val_loss: 0.5777 - val_accuracy: 0.7617\n",
      "Epoch 6/10\n",
      "455/455 [==============================] - 24s 53ms/step - loss: 0.4821 - accuracy: 0.8094 - val_loss: 0.5745 - val_accuracy: 0.7669\n",
      "Epoch 7/10\n",
      "455/455 [==============================] - 25s 54ms/step - loss: 0.4642 - accuracy: 0.8179 - val_loss: 0.5945 - val_accuracy: 0.7661\n",
      "Epoch 8/10\n",
      "455/455 [==============================] - 24s 54ms/step - loss: 0.4452 - accuracy: 0.8287 - val_loss: 0.5797 - val_accuracy: 0.7724\n",
      "Epoch 9/10\n",
      "455/455 [==============================] - 25s 54ms/step - loss: 0.4281 - accuracy: 0.8361 - val_loss: 0.5864 - val_accuracy: 0.7774\n",
      "Epoch 10/10\n",
      "455/455 [==============================] - 24s 53ms/step - loss: 0.4160 - accuracy: 0.8398 - val_loss: 0.5691 - val_accuracy: 0.7741\n"
     ]
    },
    {
     "data": {
      "text/plain": [
       "<keras.callbacks.History at 0x1d8074cab80>"
      ]
     },
     "execution_count": 19,
     "metadata": {},
     "output_type": "execute_result"
    }
   ],
   "source": [
    "model_bi.fit(X_train_embedded,y_encoded, validation_split=0.2, epochs = 10\n",
    "                #, callbacks=[callback]\n",
    "                )"
   ]
  },
  {
   "cell_type": "code",
   "execution_count": 20,
   "metadata": {},
   "outputs": [
    {
     "name": "stdout",
     "output_type": "stream",
     "text": [
      "              precision    recall  f1-score   support\n",
      "\n",
      "         NFS       0.77      0.93      0.84      3314\n",
      "         UFS       0.52      0.25      0.34       623\n",
      "         CFS       0.70      0.53      0.60      1426\n",
      "\n",
      "    accuracy                           0.74      5363\n",
      "   macro avg       0.66      0.57      0.60      5363\n",
      "weighted avg       0.72      0.74      0.72      5363\n",
      "\n"
     ]
    }
   ],
   "source": [
    "predictions = model_bi.predict(X_test_embedded)\n",
    "preds = one_hot_encoder.inverse_transform(predictions).reshape(-1,)\n",
    "print(classification_report(y_test, preds, target_names=[\"NFS\", \"UFS\", \"CFS\"]))\n"
   ]
  },
  {
   "cell_type": "code",
   "execution_count": 21,
   "metadata": {},
   "outputs": [
    {
     "name": "stdout",
     "output_type": "stream",
     "text": [
      "Confusion matrix, without normalization\n"
     ]
    },
    {
     "data": {
      "image/png": "[encoded data removed]",
      "text/plain": [
       "<Figure size 432x288 with 2 Axes>"
      ]
     },
     "metadata": {
      "needs_background": "light"
     },
     "output_type": "display_data"
    }
   ],
   "source": [
    "cm = confusion_matrix(y_test, preds)\n",
    "plot_confusion_matrix(cm, classes=[\"NFS\", \"UFS\", \"CFS\"], title='Confusion matrix, bi-LSTM')"
   ]
  },
  {
   "cell_type": "markdown",
   "metadata": {},
   "source": [
    "## Stacked Bi-LSTM"
   ]
  },
  {
   "cell_type": "code",
   "execution_count": 22,
   "metadata": {},
   "outputs": [],
   "source": [
    "clear_session()"
   ]
  },
  {
   "cell_type": "code",
   "execution_count": 23,
   "metadata": {},
   "outputs": [
    {
     "name": "stdout",
     "output_type": "stream",
     "text": [
      "Model: \"sequential\"\n",
      "_________________________________________________________________\n",
      " Layer (type)                Output Shape              Param #   \n",
      "=================================================================\n",
      " embedding (Embedding)       (None, 100, 100)          1035300   \n",
      "                                                                 \n",
      " dropout (Dropout)           (None, 100, 100)          0         \n",
      "                                                                 \n",
      " bidirectional (Bidirectiona  (None, 100, 200)         160800    \n",
      " l)                                                              \n",
      "                                                                 \n",
      " bidirectional_1 (Bidirectio  (None, 200)              240800    \n",
      " nal)                                                            \n",
      "                                                                 \n",
      " dropout_1 (Dropout)         (None, 200)               0         \n",
      "                                                                 \n",
      " dense (Dense)               (None, 97)                19497     \n",
      "                                                                 \n",
      " dense_1 (Dense)             (None, 3)                 294       \n",
      "                                                                 \n",
      "=================================================================\n",
      "Total params: 1,456,691\n",
      "Trainable params: 421,391\n",
      "Non-trainable params: 1,035,300\n",
      "_________________________________________________________________\n"
     ]
    }
   ],
   "source": [
    "model_Sbi = Sequential()\n",
    "model_Sbi.add(Embedding(len(word_index) + 1, \n",
    "                         output_dim=max_length, \n",
    "                         input_length=max_length,\n",
    "                         weights=[embedding_matrix],\n",
    "                         trainable = False\n",
    "                         ))\n",
    "model_Sbi.add(Dropout(0.2))\n",
    "model_Sbi.add(Bidirectional(LSTM(100, return_sequences=True)))\n",
    "model_Sbi.add(Bidirectional(LSTM(100)))\n",
    "model_Sbi.add(Dropout(0.2))\n",
    "model_Sbi.add(Dense(97, activation = \"relu\"))\n",
    "model_Sbi.add(Dense(3, activation='softmax'))\n",
    "model_Sbi.compile(loss='categorical_crossentropy', optimizer='adam', metrics=['accuracy'])\n",
    "model_Sbi.summary()"
   ]
  },
  {
   "cell_type": "code",
   "execution_count": 24,
   "metadata": {},
   "outputs": [
    {
     "name": "stdout",
     "output_type": "stream",
     "text": [
      "Epoch 1/10\n",
      "455/455 [==============================] - 63s 129ms/step - loss: 0.6267 - accuracy: 0.7468 - val_loss: 0.6112 - val_accuracy: 0.7578\n",
      "Epoch 2/10\n",
      "455/455 [==============================] - 57s 125ms/step - loss: 0.5574 - accuracy: 0.7790 - val_loss: 0.5862 - val_accuracy: 0.7600\n",
      "Epoch 3/10\n",
      "455/455 [==============================] - 58s 127ms/step - loss: 0.5303 - accuracy: 0.7914 - val_loss: 0.5954 - val_accuracy: 0.7614\n",
      "Epoch 4/10\n",
      "455/455 [==============================] - 59s 129ms/step - loss: 0.5171 - accuracy: 0.8006 - val_loss: 0.5670 - val_accuracy: 0.7722\n",
      "Epoch 5/10\n",
      "455/455 [==============================] - 57s 125ms/step - loss: 0.4985 - accuracy: 0.8065 - val_loss: 0.5582 - val_accuracy: 0.7705\n",
      "Epoch 6/10\n",
      "455/455 [==============================] - 57s 125ms/step - loss: 0.4802 - accuracy: 0.8120 - val_loss: 0.5697 - val_accuracy: 0.7603\n",
      "Epoch 7/10\n",
      "455/455 [==============================] - 57s 125ms/step - loss: 0.4675 - accuracy: 0.8185 - val_loss: 0.5536 - val_accuracy: 0.7727\n",
      "Epoch 8/10\n",
      "455/455 [==============================] - 56s 124ms/step - loss: 0.4460 - accuracy: 0.8242 - val_loss: 0.5662 - val_accuracy: 0.7757\n",
      "Epoch 9/10\n",
      "455/455 [==============================] - 57s 126ms/step - loss: 0.4261 - accuracy: 0.8319 - val_loss: 0.5706 - val_accuracy: 0.7686\n",
      "Epoch 10/10\n",
      "455/455 [==============================] - 60s 131ms/step - loss: 0.3993 - accuracy: 0.8439 - val_loss: 0.6132 - val_accuracy: 0.7777\n"
     ]
    },
    {
     "data": {
      "text/plain": [
       "<keras.callbacks.History at 0x1d87cf07730>"
      ]
     },
     "execution_count": 24,
     "metadata": {},
     "output_type": "execute_result"
    }
   ],
   "source": [
    "model_Sbi.fit(X_train_embedded,y_encoded, validation_split=0.2, epochs = 10\n",
    "                #, callbacks=[callback]\n",
    "                )"
   ]
  },
  {
   "cell_type": "code",
   "execution_count": 25,
   "metadata": {},
   "outputs": [
    {
     "name": "stdout",
     "output_type": "stream",
     "text": [
      "              precision    recall  f1-score   support\n",
      "\n",
      "         NFS       0.76      0.94      0.84      3314\n",
      "         UFS       0.52      0.27      0.36       623\n",
      "         CFS       0.72      0.47      0.57      1426\n",
      "\n",
      "    accuracy                           0.74      5363\n",
      "   macro avg       0.67      0.56      0.59      5363\n",
      "weighted avg       0.72      0.74      0.71      5363\n",
      "\n"
     ]
    }
   ],
   "source": [
    "predictions = model_Sbi.predict(X_test_embedded)\n",
    "preds = one_hot_encoder.inverse_transform(predictions).reshape(-1,)\n",
    "print(classification_report(y_test, preds, target_names=[\"NFS\", \"UFS\", \"CFS\"]))\n"
   ]
  },
  {
   "cell_type": "code",
   "execution_count": 26,
   "metadata": {},
   "outputs": [
    {
     "name": "stdout",
     "output_type": "stream",
     "text": [
      "Confusion matrix, without normalization\n"
     ]
    },
    {
     "data": {
      "image/png": "[encoded data removed]",
      "text/plain": [
       "<Figure size 432x288 with 2 Axes>"
      ]
     },
     "metadata": {
      "needs_background": "light"
     },
     "output_type": "display_data"
    }
   ],
   "source": [
    "cm = confusion_matrix(y_test, preds)\n",
    "plot_confusion_matrix(cm, classes=[\"NFS\", \"UFS\", \"CFS\"], title='Confusion matrix, Stacked bi-LSTM')"
   ]
  },
  {
   "cell_type": "markdown",
   "metadata": {},
   "source": [
    "## Convolutional Neural Network"
   ]
  },
  {
   "cell_type": "code",
   "execution_count": 27,
   "metadata": {},
   "outputs": [],
   "source": [
    "from tensorflow.keras.layers import GlobalMaxPooling1D\n",
    "from tensorflow.keras.layers import Conv1D\n",
    "clear_session()\n"
   ]
  },
  {
   "cell_type": "code",
   "execution_count": 28,
   "metadata": {},
   "outputs": [
    {
     "name": "stdout",
     "output_type": "stream",
     "text": [
      "Model: \"sequential\"\n",
      "_________________________________________________________________\n",
      " Layer (type)                Output Shape              Param #   \n",
      "=================================================================\n",
      " embedding (Embedding)       (None, 100, 100)          1035300   \n",
      "                                                                 \n",
      " conv1d (Conv1D)             (None, 91, 128)           128128    \n",
      "                                                                 \n",
      " global_max_pooling1d (Globa  (None, 128)              0         \n",
      " lMaxPooling1D)                                                  \n",
      "                                                                 \n",
      " dense (Dense)               (None, 32)                4128      \n",
      "                                                                 \n",
      " dense_1 (Dense)             (None, 3)                 99        \n",
      "                                                                 \n",
      "=================================================================\n",
      "Total params: 1,167,655\n",
      "Trainable params: 132,355\n",
      "Non-trainable params: 1,035,300\n",
      "_________________________________________________________________\n"
     ]
    }
   ],
   "source": [
    "embedding_dim = 100\n",
    "\n",
    "model = Sequential()\n",
    "model.add(Embedding(len(word_index) + 1, \n",
    "                         output_dim=max_length, \n",
    "                         input_length=max_length,\n",
    "                         weights=[embedding_matrix],\n",
    "                         trainable = False\n",
    "                         ))\n",
    "model.add(Conv1D(128, 10, activation='relu'))\n",
    "model.add(GlobalMaxPooling1D())\n",
    "model.add(Dense(32, activation='relu'))\n",
    "model.add(Dense(3, activation='softmax'))\n",
    "model.compile(optimizer='adam',\n",
    "              loss='categorical_crossentropy',\n",
    "              metrics=['accuracy'])\n",
    "model.summary()"
   ]
  },
  {
   "cell_type": "code",
   "execution_count": 29,
   "metadata": {},
   "outputs": [
    {
     "name": "stdout",
     "output_type": "stream",
     "text": [
      "Epoch 1/10\n",
      "455/455 [==============================] - 5s 11ms/step - loss: 0.6096 - accuracy: 0.7554 - val_loss: 0.6248 - val_accuracy: 0.7441\n",
      "Epoch 2/10\n",
      "455/455 [==============================] - 5s 11ms/step - loss: 0.4932 - accuracy: 0.8089 - val_loss: 0.6329 - val_accuracy: 0.7532\n",
      "Epoch 3/10\n",
      "455/455 [==============================] - 5s 11ms/step - loss: 0.4137 - accuracy: 0.8441 - val_loss: 0.6298 - val_accuracy: 0.7444\n",
      "Epoch 4/10\n",
      "455/455 [==============================] - 5s 11ms/step - loss: 0.3112 - accuracy: 0.8867 - val_loss: 0.6566 - val_accuracy: 0.7485\n",
      "Epoch 5/10\n",
      "455/455 [==============================] - 5s 11ms/step - loss: 0.2131 - accuracy: 0.9265 - val_loss: 0.8236 - val_accuracy: 0.7441\n",
      "Epoch 6/10\n",
      "455/455 [==============================] - 5s 11ms/step - loss: 0.1313 - accuracy: 0.9573 - val_loss: 1.0925 - val_accuracy: 0.7380\n",
      "Epoch 7/10\n",
      "455/455 [==============================] - 5s 11ms/step - loss: 0.0923 - accuracy: 0.9705 - val_loss: 0.9426 - val_accuracy: 0.7309\n",
      "Epoch 8/10\n",
      "455/455 [==============================] - 5s 11ms/step - loss: 0.0693 - accuracy: 0.9777 - val_loss: 1.1472 - val_accuracy: 0.7507\n",
      "Epoch 9/10\n",
      "455/455 [==============================] - 5s 11ms/step - loss: 0.0534 - accuracy: 0.9835 - val_loss: 1.2777 - val_accuracy: 0.7298\n",
      "Epoch 10/10\n",
      "455/455 [==============================] - 5s 11ms/step - loss: 0.0374 - accuracy: 0.9895 - val_loss: 1.3520 - val_accuracy: 0.7400\n"
     ]
    },
    {
     "data": {
      "text/plain": [
       "<keras.callbacks.History at 0x1d88d241670>"
      ]
     },
     "execution_count": 29,
     "metadata": {},
     "output_type": "execute_result"
    }
   ],
   "source": [
    "model.fit(X_train_embedded,y_encoded, validation_split=0.2, epochs = 10\n",
    "                #, callbacks=[callback]\n",
    "                )"
   ]
  },
  {
   "cell_type": "code",
   "execution_count": 30,
   "metadata": {},
   "outputs": [
    {
     "name": "stdout",
     "output_type": "stream",
     "text": [
      "              precision    recall  f1-score   support\n",
      "\n",
      "         NFS       0.77      0.88      0.82      3314\n",
      "         UFS       0.41      0.32      0.36       623\n",
      "         CFS       0.66      0.50      0.57      1426\n",
      "\n",
      "    accuracy                           0.72      5363\n",
      "   macro avg       0.61      0.57      0.58      5363\n",
      "weighted avg       0.70      0.72      0.70      5363\n",
      "\n"
     ]
    }
   ],
   "source": [
    "predictions = model.predict(X_test_embedded)\n",
    "preds = one_hot_encoder.inverse_transform(predictions).reshape(-1,)\n",
    "print(classification_report(y_test, preds, target_names=[\"NFS\", \"UFS\", \"CFS\"]))"
   ]
  },
  {
   "cell_type": "code",
   "execution_count": 31,
   "metadata": {},
   "outputs": [
    {
     "name": "stdout",
     "output_type": "stream",
     "text": [
      "Confusion matrix, without normalization\n"
     ]
    },
    {
     "data": {
      "image/png": "[encoded data removed]",
      "text/plain": [
       "<Figure size 432x288 with 2 Axes>"
      ]
     },
     "metadata": {
      "needs_background": "light"
     },
     "output_type": "display_data"
    }
   ],
   "source": [
    "cm = confusion_matrix(y_test, preds)\n",
    "plot_confusion_matrix(cm, classes=[\"NFS\", \"UFS\", \"CFS\"], title='Confusion matrix CNN')"
   ]
  },
  {
   "cell_type": "markdown",
   "metadata": {},
   "source": [
    "## Convolutional Neural network + LSTM"
   ]
  },
  {
   "cell_type": "code",
   "execution_count": 32,
   "metadata": {},
   "outputs": [],
   "source": [
    "model_conv = Sequential()\n",
    "model_conv.add(Embedding(len(word_index) + 1, \n",
    "                         output_dim=max_length, \n",
    "                         input_length=max_length,\n",
    "                         weights=[embedding_matrix],\n",
    "                         trainable = False\n",
    "                         ))\n",
    "model_conv.add(Dropout(0.2))\n",
    "model_conv.add(Conv1D(128, 10, activation='relu'))\n",
    "model_conv.add(MaxPooling1D(pool_size=10))\n",
    "model_conv.add(LSTM(100))\n",
    "model_conv.add(Dense(32, activation = \"relu\"))\n",
    "model_conv.add(Dense(3, activation='softmax'))\n",
    "model_conv.compile(loss='categorical_crossentropy', optimizer='adam', metrics=['accuracy'])"
   ]
  },
  {
   "cell_type": "code",
   "execution_count": 33,
   "metadata": {},
   "outputs": [
    {
     "name": "stdout",
     "output_type": "stream",
     "text": [
      "Model: \"sequential_1\"\n",
      "_________________________________________________________________\n",
      " Layer (type)                Output Shape              Param #   \n",
      "=================================================================\n",
      " embedding_1 (Embedding)     (None, 100, 100)          1035300   \n",
      "                                                                 \n",
      " dropout (Dropout)           (None, 100, 100)          0         \n",
      "                                                                 \n",
      " conv1d_1 (Conv1D)           (None, 91, 128)           128128    \n",
      "                                                                 \n",
      " max_pooling1d (MaxPooling1D  (None, 9, 128)           0         \n",
      " )                                                               \n",
      "                                                                 \n",
      " lstm (LSTM)                 (None, 100)               91600     \n",
      "                                                                 \n",
      " dense_2 (Dense)             (None, 32)                3232      \n",
      "                                                                 \n",
      " dense_3 (Dense)             (None, 3)                 99        \n",
      "                                                                 \n",
      "=================================================================\n",
      "Total params: 1,258,359\n",
      "Trainable params: 223,059\n",
      "Non-trainable params: 1,035,300\n",
      "_________________________________________________________________\n"
     ]
    }
   ],
   "source": [
    "model_conv.summary()"
   ]
  },
  {
   "cell_type": "code",
   "execution_count": 34,
   "metadata": {},
   "outputs": [
    {
     "name": "stdout",
     "output_type": "stream",
     "text": [
      "Epoch 1/10\n",
      "455/455 [==============================] - 9s 17ms/step - loss: 0.6754 - accuracy: 0.7369 - val_loss: 0.7322 - val_accuracy: 0.7248\n",
      "Epoch 2/10\n",
      "455/455 [==============================] - 8s 17ms/step - loss: 0.5722 - accuracy: 0.7746 - val_loss: 0.6313 - val_accuracy: 0.7460\n",
      "Epoch 3/10\n",
      "455/455 [==============================] - 8s 17ms/step - loss: 0.5260 - accuracy: 0.7966 - val_loss: 0.6384 - val_accuracy: 0.7512\n",
      "Epoch 4/10\n",
      "455/455 [==============================] - 8s 17ms/step - loss: 0.4841 - accuracy: 0.8127 - val_loss: 0.6431 - val_accuracy: 0.7413\n",
      "Epoch 5/10\n",
      "455/455 [==============================] - 8s 17ms/step - loss: 0.4409 - accuracy: 0.8288 - val_loss: 0.6124 - val_accuracy: 0.7595\n",
      "Epoch 6/10\n",
      "455/455 [==============================] - 8s 17ms/step - loss: 0.3913 - accuracy: 0.8558 - val_loss: 0.7727 - val_accuracy: 0.7444\n",
      "Epoch 7/10\n",
      "455/455 [==============================] - 8s 17ms/step - loss: 0.3503 - accuracy: 0.8681 - val_loss: 0.6418 - val_accuracy: 0.7482\n",
      "Epoch 8/10\n",
      "455/455 [==============================] - 8s 17ms/step - loss: 0.3122 - accuracy: 0.8847 - val_loss: 0.6689 - val_accuracy: 0.7499\n",
      "Epoch 9/10\n",
      "455/455 [==============================] - 8s 17ms/step - loss: 0.2730 - accuracy: 0.9004 - val_loss: 0.7265 - val_accuracy: 0.7482\n",
      "Epoch 10/10\n",
      "455/455 [==============================] - 8s 17ms/step - loss: 0.2463 - accuracy: 0.9099 - val_loss: 0.7420 - val_accuracy: 0.7358\n"
     ]
    },
    {
     "data": {
      "text/plain": [
       "<keras.callbacks.History at 0x1d88d51b550>"
      ]
     },
     "execution_count": 34,
     "metadata": {},
     "output_type": "execute_result"
    }
   ],
   "source": [
    "model_conv.fit(X_train_embedded,y_encoded, validation_split=0.2, epochs = 10\n",
    "                #, callbacks=[callback]\n",
    "                )"
   ]
  },
  {
   "cell_type": "code",
   "execution_count": 35,
   "metadata": {},
   "outputs": [
    {
     "name": "stdout",
     "output_type": "stream",
     "text": [
      "              precision    recall  f1-score   support\n",
      "\n",
      "         NFS       0.80      0.85      0.82      3314\n",
      "         UFS       0.42      0.33      0.37       623\n",
      "         CFS       0.62      0.57      0.59      1426\n",
      "\n",
      "    accuracy                           0.72      5363\n",
      "   macro avg       0.61      0.59      0.60      5363\n",
      "weighted avg       0.70      0.72      0.71      5363\n",
      "\n"
     ]
    }
   ],
   "source": [
    "predictions = model_conv.predict(X_test_embedded)\n",
    "preds = one_hot_encoder.inverse_transform(predictions).reshape(-1,)\n",
    "print(classification_report(y_test, preds, target_names=[\"NFS\", \"UFS\", \"CFS\"]))\n"
   ]
  },
  {
   "cell_type": "code",
   "execution_count": 36,
   "metadata": {},
   "outputs": [
    {
     "name": "stdout",
     "output_type": "stream",
     "text": [
      "Confusion matrix, without normalization\n"
     ]
    },
    {
     "data": {
      "image/png": "[encoded data removed]",
      "text/plain": [
       "<Figure size 432x288 with 2 Axes>"
      ]
     },
     "metadata": {
      "needs_background": "light"
     },
     "output_type": "display_data"
    }
   ],
   "source": [
    "cm = confusion_matrix(y_test, preds)\n",
    "plot_confusion_matrix(cm, classes=[\"NFS\", \"UFS\", \"CFS\"], title='Confusion matrix CNN+LSTM')"
   ]
  }
 ],
 "metadata": {
  "interpreter": {
   "hash": "6fac1c46211edb20ff6398462b8c2a023c28966a3a7910175ddefe7a86b617a9"
  },
  "kernelspec": {
   "display_name": "Python 3.9.12 64-bit (windows store)",
   "language": "python",
   "name": "python3"
  },
  "language_info": {
   "codemirror_mode": {
    "name": "ipython",
    "version": 3
   },
   "file_extension": ".py",
   "mimetype": "text/x-python",
   "name": "python",
   "nbconvert_exporter": "python",
   "pygments_lexer": "ipython3",
   "version": "3.9.12"
  },
  "orig_nbformat": 4
 },
 "nbformat": 4,
 "nbformat_minor": 2
}
