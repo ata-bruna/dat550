{
 "cells": [
  {
   "cell_type": "markdown",
   "metadata": {},
   "source": [
    "# Detect claims to fact check in political debates\n",
    "\n",
    "In this project you will implement various classifiers using both neural and feature based technqiues to detect which sentences in political debates should be fact checked.\n",
    "Dataset from ClaimBuster: https://zenodo.org/record/3609356 \n",
    "Evaluate your classifiers using the same metrics as http://ranger.uta.edu/~cli/pubs/2017/claimbuster-kdd17-hassan.pdf (Table 2)\n",
    "\n",
    "Classification report from sklearn provides everything"
   ]
  },
  {
   "cell_type": "code",
   "execution_count": 1,
   "metadata": {},
   "outputs": [],
   "source": [
    "import numpy as np\n",
    "import pandas as pd\n",
    "import matplotlib.pyplot as plt\n",
    "\n",
    "from sklearn.metrics import *"
   ]
  },
  {
   "cell_type": "markdown",
   "metadata": {},
   "source": [
    "# Loading the data"
   ]
  },
  {
   "cell_type": "code",
   "execution_count": 2,
   "metadata": {},
   "outputs": [
    {
     "name": "stdout",
     "output_type": "stream",
     "text": [
      "<class 'pandas.core.frame.DataFrame'>\n",
      "RangeIndex: 23533 entries, 0 to 23532\n",
      "Data columns (total 5 columns):\n",
      " #   Column      Non-Null Count  Dtype         \n",
      "---  ------      --------------  -----         \n",
      " 0   index       23533 non-null  int64         \n",
      " 1   date        23533 non-null  datetime64[ns]\n",
      " 2   Text        23533 non-null  object        \n",
      " 3   Clean_text  23533 non-null  object        \n",
      " 4   Verdict     23533 non-null  int64         \n",
      "dtypes: datetime64[ns](1), int64(2), object(2)\n",
      "memory usage: 919.4+ KB\n"
     ]
    }
   ],
   "source": [
    "df = pd.read_csv(\"../data_preprocessing/data_with_stop_words.csv\")\n",
    "df['date'] = pd.to_datetime(df['date'])\n",
    "df.dropna(inplace=True)\n",
    "df.reset_index(inplace=True)\n",
    "df.info()\n"
   ]
  },
  {
   "cell_type": "markdown",
   "metadata": {},
   "source": [
    "# Train-test split"
   ]
  },
  {
   "cell_type": "code",
   "execution_count": 3,
   "metadata": {},
   "outputs": [],
   "source": [
    "mask = df[\"date\"].dt.year < 2012\n",
    "\n",
    "X_train = df.loc[mask, \"Clean_text\"].values\n",
    "y_train = df.loc[mask, \"Verdict\"].values\n",
    "\n",
    "X_test = df.loc[~mask, \"Clean_text\"].values\n",
    "y_test = df.loc[~mask, \"Verdict\"].values"
   ]
  },
  {
   "cell_type": "markdown",
   "metadata": {},
   "source": [
    "# Data Preprocessing"
   ]
  },
  {
   "cell_type": "code",
   "execution_count": 4,
   "metadata": {},
   "outputs": [],
   "source": [
    "from tensorflow.keras.preprocessing.text import one_hot\n",
    "from tensorflow.keras.preprocessing.text import Tokenizer\n",
    "from tensorflow.keras.preprocessing.sequence import pad_sequences"
   ]
  },
  {
   "cell_type": "markdown",
   "metadata": {},
   "source": [
    "## One hot encoding representation"
   ]
  },
  {
   "cell_type": "markdown",
   "metadata": {},
   "source": [
    "The `Tokenizer` converts a text corpus into a list of integers. This class maps each word, and encodes the corpus. The map assigns an integer to every word and creates a dictionary, where the keys are the vocabulary terms themselves. Some parameters such as `num_words` set the maximum size of the vocabulary using the most comon words."
   ]
  },
  {
   "cell_type": "code",
   "execution_count": 5,
   "metadata": {},
   "outputs": [],
   "source": [
    "vocabulary_size = 5000\n",
    "oov_token = \"<OOV>\"\n",
    "tokenizer = Tokenizer(num_words = vocabulary_size)\n",
    "tokenizer.fit_on_texts(X_train)\n",
    "X_train_encoded = tokenizer.texts_to_sequences(X_train)"
   ]
  },
  {
   "cell_type": "markdown",
   "metadata": {},
   "source": [
    "Encodding Test data"
   ]
  },
  {
   "cell_type": "code",
   "execution_count": 6,
   "metadata": {},
   "outputs": [],
   "source": [
    "X_test_encoded = tokenizer.texts_to_sequences(X_test)"
   ]
  },
  {
   "cell_type": "code",
   "execution_count": 7,
   "metadata": {},
   "outputs": [],
   "source": [
    "word_index = tokenizer.word_index # same as vocabulary"
   ]
  },
  {
   "cell_type": "markdown",
   "metadata": {},
   "source": [
    "## Padding sequences"
   ]
  },
  {
   "cell_type": "code",
   "execution_count": 8,
   "metadata": {},
   "outputs": [
    {
     "name": "stdout",
     "output_type": "stream",
     "text": [
      "[[  45   16   13 ...    0    0    0]\n",
      " [  44   93   22 ...    0    0    0]\n",
      " [   1  583 2982 ...    0    0    0]\n",
      " ...\n",
      " [   3    4   27 ...    0    0    0]\n",
      " [ 389 1378    5 ...    0    0    0]\n",
      " [   3  389   46 ...    0    0    0]]\n"
     ]
    }
   ],
   "source": [
    "max_length = 100\n",
    "X_train_embedded=pad_sequences(X_train_encoded,padding='post',maxlen=max_length, truncating='post')\n",
    "print(X_train_embedded)"
   ]
  },
  {
   "cell_type": "markdown",
   "metadata": {},
   "source": [
    "### For training"
   ]
  },
  {
   "cell_type": "code",
   "execution_count": 9,
   "metadata": {},
   "outputs": [
    {
     "data": {
      "text/plain": [
       "(18170, 100)"
      ]
     },
     "execution_count": 9,
     "metadata": {},
     "output_type": "execute_result"
    }
   ],
   "source": [
    "X_train_embedded.shape"
   ]
  },
  {
   "cell_type": "markdown",
   "metadata": {},
   "source": [
    "### For testing"
   ]
  },
  {
   "cell_type": "code",
   "execution_count": 10,
   "metadata": {},
   "outputs": [
    {
     "name": "stdout",
     "output_type": "stream",
     "text": [
      "(5363, 100)\n"
     ]
    }
   ],
   "source": [
    "X_test_embedded=pad_sequences(X_test_encoded,padding='post',maxlen=max_length)\n",
    "print(X_test_embedded.shape)"
   ]
  },
  {
   "cell_type": "markdown",
   "metadata": {},
   "source": [
    "### For the labels"
   ]
  },
  {
   "cell_type": "code",
   "execution_count": 11,
   "metadata": {},
   "outputs": [
    {
     "data": {
      "text/plain": [
       "(18170, 3)"
      ]
     },
     "execution_count": 11,
     "metadata": {},
     "output_type": "execute_result"
    }
   ],
   "source": [
    "from sklearn.preprocessing import OneHotEncoder\n",
    "one_hot_encoder = OneHotEncoder(sparse=False)\n",
    "one_hot_encoder.fit(y_train.reshape(-1, 1))\n",
    "y_encoded = one_hot_encoder.transform(y_train.reshape(-1, 1))\n",
    "\n",
    "y_encoded.shape"
   ]
  },
  {
   "cell_type": "code",
   "execution_count": 12,
   "metadata": {},
   "outputs": [
    {
     "data": {
      "text/plain": [
       "(5363, 3)"
      ]
     },
     "execution_count": 12,
     "metadata": {},
     "output_type": "execute_result"
    }
   ],
   "source": [
    "y_encoded_test = one_hot_encoder.transform(y_test.reshape(-1,1))\n",
    "y_encoded_test.shape"
   ]
  },
  {
   "cell_type": "markdown",
   "metadata": {},
   "source": [
    "# Creating the model"
   ]
  },
  {
   "cell_type": "markdown",
   "metadata": {},
   "source": [
    "### Importing the pretrained weights for the embedding matrix\n",
    "\n",
    "The pretrained weights used in this report are from the  <strong> Global Vectors for Word Representation </strong> `GloVe` model. Wich can be downloaded from https://nlp.stanford.edu/projects/glove/.\n",
    "\n",
    "We chose the first option [glove.6B.zip](https://nlp.stanford.edu/data/glove.6B.zip), which contais Wikipedia 2014 + Gigaword 5 (6B tokens, 400K vocab, uncased, 50d, 100d, 200d, & 300d vectors, 822 MB download). This option contains 4 `.txt` files. We use the `glove.6B.100d.txt` as our sequences were padded to have `max_len =100`\n",
    "\n",
    "Once the zip file is downloaded, place the zip into the data folder and run the following code:\n",
    "\n",
    "```import os\n",
    "import zipfile\n",
    "with zipfile.ZipFile('../data/glove.zip', 'r') as zip_ref:\n",
    "    zip_ref.extractall('../data/glove')\n",
    "```\n"
   ]
  },
  {
   "cell_type": "code",
   "execution_count": 13,
   "metadata": {},
   "outputs": [],
   "source": [
    "# import os\n",
    "# import zipfile\n",
    "# with zipfile.ZipFile('../data/glove.zip', 'r') as zip_ref:\n",
    "#     zip_ref.extractall('../data/glove')"
   ]
  },
  {
   "cell_type": "code",
   "execution_count": 14,
   "metadata": {},
   "outputs": [
    {
     "name": "stdout",
     "output_type": "stream",
     "text": [
      "Found 400001 word vectors.\n"
     ]
    }
   ],
   "source": [
    "embeddings_index = {}\n",
    "f = open('../data/glove/glove.6B.100d.txt',encoding='utf-8')\n",
    "for line in f:\n",
    "    values = line.split()\n",
    "    word = values[0]\n",
    "    coefs = np.asarray(values[1:], dtype='float32')\n",
    "    embeddings_index[word] = coefs\n",
    "f.close()\n",
    "\n",
    "print('Found %s word vectors.' % len(embeddings_index))"
   ]
  },
  {
   "cell_type": "code",
   "execution_count": 15,
   "metadata": {},
   "outputs": [],
   "source": [
    "embedding_matrix = np.zeros((len(word_index) + 1, max_length))\n",
    "for word, i in word_index.items():\n",
    "    embedding_vector = embeddings_index.get(word)\n",
    "    if embedding_vector is not None:\n",
    "        # words not found in embedding index will be all-zeros.\n",
    "        embedding_matrix[i] = embedding_vector"
   ]
  },
  {
   "cell_type": "markdown",
   "metadata": {},
   "source": [
    "### Defining plotting functions\n",
    "\n",
    "- confusion matrix"
   ]
  },
  {
   "cell_type": "code",
   "execution_count": 16,
   "metadata": {},
   "outputs": [],
   "source": [
    "def plot_model_history(model_history):\n",
    "    # plot loss during training\n",
    "    plt.subplot(211)\n",
    "    plt.title('Loss')\n",
    "    plt.plot(model_history.history['loss'], label='train')\n",
    "    plt.plot(model_history.history['val_loss'], label='test')\n",
    "    plt.legend()\n",
    "    # plot accuracy during training\n",
    "    plt.subplot(212)\n",
    "    plt.title('Accuracy')\n",
    "    plt.plot(model_history.history['accuracy'], label='train')\n",
    "    plt.plot(model_history.history['val_accuracy'], label='test')\n",
    "    plt.legend()\n",
    "    plt.subplots_adjust(hspace=0.5)\n",
    "    plt.show()"
   ]
  },
  {
   "cell_type": "code",
   "execution_count": 17,
   "metadata": {},
   "outputs": [],
   "source": [
    "import itertools\n",
    "\n",
    "def plot_confusion_matrix(cm, classes,\n",
    "                          normalize=False,\n",
    "                          title='Confusion matrix'):\n",
    "    \"\"\"\n",
    "    Plot the confusion matrix.\n",
    "    Normalization is applied by setting `normalize=True`.\n",
    "\n",
    "    Code soure: \n",
    "    http://scikit-learn.org/stable/auto_examples/model_selection/plot_confusion_matrix.html\n",
    "    \n",
    "    \"\"\"\n",
    "    plt.imshow(cm, interpolation='nearest', cmap=plt.cm.binary)\n",
    "    plt.title(title)\n",
    "    plt.colorbar()\n",
    "    tick_marks = np.arange(len(classes))\n",
    "    plt.xticks(tick_marks, classes)\n",
    "    plt.yticks(tick_marks, classes)\n",
    "\n",
    "    if normalize:\n",
    "        cm = cm.astype('float') / cm.sum(axis=1)[:, np.newaxis]\n",
    "        print(\"Normalized confusion matrix\")\n",
    "    else:\n",
    "        print('Confusion matrix, without normalization')\n",
    "\n",
    "    thresh = cm.max() / 2.\n",
    "    for i, j in itertools.product(range(cm.shape[0]), range(cm.shape[1])):\n",
    "        plt.text(j, i, cm[i, j],\n",
    "                 horizontalalignment=\"center\",\n",
    "                 color=\"white\" if cm[i, j] > thresh else \"black\")\n",
    "\n",
    "    plt.tight_layout()\n",
    "    plt.ylabel('True label')\n",
    "    plt.xlabel('Predicted label')"
   ]
  },
  {
   "cell_type": "markdown",
   "metadata": {},
   "source": [
    "## Bidirectional LSTM "
   ]
  },
  {
   "cell_type": "code",
   "execution_count": 18,
   "metadata": {},
   "outputs": [],
   "source": [
    "from tensorflow.keras.layers import LSTM\n",
    "from tensorflow.keras.layers import Dense\n",
    "from tensorflow.keras.layers import Bidirectional\n",
    "from tensorflow.keras.layers import Dropout\n",
    "from tensorflow.keras.layers import MaxPooling1D\n",
    "from tensorflow.keras.layers import GlobalMaxPooling1D\n",
    "from tensorflow.keras.layers import Conv1D\n",
    "from tensorflow.keras.backend import clear_session\n",
    "from tensorflow.keras.layers import Embedding\n",
    "from tensorflow.keras.models import Sequential\n",
    "from tensorflow.keras.callbacks import EarlyStopping\n",
    "\n",
    "callback =  EarlyStopping(\n",
    "    monitor=\"val_loss\",\n",
    "    min_delta=0,\n",
    "    patience=None,\n",
    "    verbose=0,\n",
    "    mode=\"auto\",\n",
    "    baseline=None,\n",
    "    restore_best_weights=False,\n",
    ")"
   ]
  },
  {
   "cell_type": "code",
   "execution_count": 19,
   "metadata": {},
   "outputs": [
    {
     "name": "stdout",
     "output_type": "stream",
     "text": [
      "Model: \"sequential\"\n",
      "_________________________________________________________________\n",
      " Layer (type)                Output Shape              Param #   \n",
      "=================================================================\n",
      " embedding (Embedding)       (None, 100, 100)          1035300   \n",
      "                                                                 \n",
      " bidirectional (Bidirectiona  (None, 200)              160800    \n",
      " l)                                                              \n",
      "                                                                 \n",
      " dropout (Dropout)           (None, 200)               0         \n",
      "                                                                 \n",
      " dense (Dense)               (None, 97)                19497     \n",
      "                                                                 \n",
      " dense_1 (Dense)             (None, 3)                 294       \n",
      "                                                                 \n",
      "=================================================================\n",
      "Total params: 1,215,891\n",
      "Trainable params: 180,591\n",
      "Non-trainable params: 1,035,300\n",
      "_________________________________________________________________\n"
     ]
    }
   ],
   "source": [
    "embedding_dim = 100\n",
    "model_bi = Sequential()\n",
    "model_bi.add(Embedding(len(word_index) + 1, \n",
    "                         output_dim=max_length, \n",
    "                         input_length=max_length,\n",
    "                         weights=[embedding_matrix],\n",
    "                         trainable = False\n",
    "                         ))\n",
    "model_bi.add(Bidirectional(LSTM(100)))\n",
    "model_bi.add(Dropout(0.5))\n",
    "model_bi.add(Dense(97, activation = \"relu\"))\n",
    "model_bi.add(Dense(3, activation='softmax'))\n",
    "model_bi.compile(loss='categorical_crossentropy', optimizer='adam', metrics=['accuracy'])\n",
    "model_bi.summary()"
   ]
  },
  {
   "cell_type": "code",
   "execution_count": 20,
   "metadata": {},
   "outputs": [
    {
     "name": "stdout",
     "output_type": "stream",
     "text": [
      "Epoch 1/10\n",
      "455/455 [==============================] - 31s 63ms/step - loss: 0.6315 - accuracy: 0.7524 - val_loss: 0.6167 - val_accuracy: 0.7510\n",
      "Epoch 2/10\n",
      "455/455 [==============================] - 27s 60ms/step - loss: 0.5550 - accuracy: 0.7853 - val_loss: 0.5917 - val_accuracy: 0.7562\n",
      "Epoch 3/10\n",
      "455/455 [==============================] - 28s 61ms/step - loss: 0.5315 - accuracy: 0.7912 - val_loss: 0.5984 - val_accuracy: 0.7567\n",
      "Epoch 4/10\n",
      "455/455 [==============================] - 30s 66ms/step - loss: 0.5130 - accuracy: 0.7988 - val_loss: 0.6388 - val_accuracy: 0.7501\n",
      "Epoch 5/10\n",
      "455/455 [==============================] - 25s 54ms/step - loss: 0.5033 - accuracy: 0.8023 - val_loss: 0.5667 - val_accuracy: 0.7669\n",
      "Epoch 6/10\n",
      "455/455 [==============================] - 26s 57ms/step - loss: 0.4872 - accuracy: 0.8096 - val_loss: 0.6060 - val_accuracy: 0.7620\n",
      "Epoch 7/10\n",
      "455/455 [==============================] - 28s 61ms/step - loss: 0.4696 - accuracy: 0.8163 - val_loss: 0.5752 - val_accuracy: 0.7735\n",
      "Epoch 8/10\n",
      "455/455 [==============================] - 28s 62ms/step - loss: 0.4539 - accuracy: 0.8217 - val_loss: 0.5824 - val_accuracy: 0.7697\n",
      "Epoch 9/10\n",
      "455/455 [==============================] - 27s 60ms/step - loss: 0.4405 - accuracy: 0.8262 - val_loss: 0.5663 - val_accuracy: 0.7724\n",
      "Epoch 10/10\n",
      "455/455 [==============================] - 28s 61ms/step - loss: 0.4190 - accuracy: 0.8352 - val_loss: 0.5811 - val_accuracy: 0.7672\n"
     ]
    },
    {
     "data": {
      "text/plain": [
       "<keras.callbacks.History at 0x23c10e24c70>"
      ]
     },
     "execution_count": 20,
     "metadata": {},
     "output_type": "execute_result"
    }
   ],
   "source": [
    "model_bi.fit(X_train_embedded,y_encoded, validation_split=0.2, epochs = 10\n",
    "                #, callbacks=[callback]\n",
    "                )"
   ]
  },
  {
   "cell_type": "code",
   "execution_count": 21,
   "metadata": {},
   "outputs": [
    {
     "name": "stdout",
     "output_type": "stream",
     "text": [
      "              precision    recall  f1-score   support\n",
      "\n",
      "         NFS       0.77      0.93      0.84      3314\n",
      "         UFS       0.47      0.37      0.41       623\n",
      "         CFS       0.74      0.46      0.57      1426\n",
      "\n",
      "    accuracy                           0.74      5363\n",
      "   macro avg       0.66      0.59      0.61      5363\n",
      "weighted avg       0.73      0.74      0.72      5363\n",
      "\n"
     ]
    }
   ],
   "source": [
    "predictions = model_bi.predict(X_test_embedded)\n",
    "preds = one_hot_encoder.inverse_transform(predictions).reshape(-1,)\n",
    "print(classification_report(y_test, preds, target_names=[\"NFS\", \"UFS\", \"CFS\"]))\n"
   ]
  },
  {
   "cell_type": "code",
   "execution_count": 22,
   "metadata": {},
   "outputs": [
    {
     "name": "stdout",
     "output_type": "stream",
     "text": [
      "Confusion matrix, without normalization\n"
     ]
    },
    {
     "data": {
      "image/png": "[encoded data removed]",
      "text/plain": [
       "<Figure size 432x288 with 2 Axes>"
      ]
     },
     "metadata": {
      "needs_background": "light"
     },
     "output_type": "display_data"
    }
   ],
   "source": [
    "cm = confusion_matrix(y_test, preds)\n",
    "plot_confusion_matrix(cm, classes=[\"NFS\", \"UFS\", \"CFS\"], title='Confusion matrix, bi-LSTM')"
   ]
  },
  {
   "cell_type": "markdown",
   "metadata": {},
   "source": [
    "## Stacked Bi-LSTM"
   ]
  },
  {
   "cell_type": "code",
   "execution_count": 23,
   "metadata": {},
   "outputs": [],
   "source": [
    "clear_session()"
   ]
  },
  {
   "cell_type": "code",
   "execution_count": 24,
   "metadata": {},
   "outputs": [
    {
     "name": "stdout",
     "output_type": "stream",
     "text": [
      "Model: \"sequential\"\n",
      "_________________________________________________________________\n",
      " Layer (type)                Output Shape              Param #   \n",
      "=================================================================\n",
      " embedding (Embedding)       (None, 100, 100)          1035300   \n",
      "                                                                 \n",
      " dropout (Dropout)           (None, 100, 100)          0         \n",
      "                                                                 \n",
      " bidirectional (Bidirectiona  (None, 100, 200)         160800    \n",
      " l)                                                              \n",
      "                                                                 \n",
      " bidirectional_1 (Bidirectio  (None, 200)              240800    \n",
      " nal)                                                            \n",
      "                                                                 \n",
      " dropout_1 (Dropout)         (None, 200)               0         \n",
      "                                                                 \n",
      " dense (Dense)               (None, 97)                19497     \n",
      "                                                                 \n",
      " dense_1 (Dense)             (None, 3)                 294       \n",
      "                                                                 \n",
      "=================================================================\n",
      "Total params: 1,456,691\n",
      "Trainable params: 421,391\n",
      "Non-trainable params: 1,035,300\n",
      "_________________________________________________________________\n"
     ]
    }
   ],
   "source": [
    "model_Sbi = Sequential()\n",
    "model_Sbi.add(Embedding(len(word_index) + 1, \n",
    "                         output_dim=max_length, \n",
    "                         input_length=max_length,\n",
    "                         weights=[embedding_matrix],\n",
    "                         trainable = False\n",
    "                         ))\n",
    "model_Sbi.add(Dropout(0.2))\n",
    "model_Sbi.add(Bidirectional(LSTM(100, return_sequences=True)))\n",
    "model_Sbi.add(Bidirectional(LSTM(100)))\n",
    "model_Sbi.add(Dropout(0.2))\n",
    "model_Sbi.add(Dense(97, activation = \"relu\"))\n",
    "model_Sbi.add(Dense(3, activation='softmax'))\n",
    "model_Sbi.compile(loss='categorical_crossentropy', optimizer='adam', metrics=['accuracy'])\n",
    "model_Sbi.summary()"
   ]
  },
  {
   "cell_type": "code",
   "execution_count": 25,
   "metadata": {},
   "outputs": [
    {
     "name": "stdout",
     "output_type": "stream",
     "text": [
      "Epoch 1/10\n",
      "455/455 [==============================] - 71s 147ms/step - loss: 0.6267 - accuracy: 0.7517 - val_loss: 0.6941 - val_accuracy: 0.7364\n",
      "Epoch 2/10\n",
      "455/455 [==============================] - 52s 115ms/step - loss: 0.5659 - accuracy: 0.7770 - val_loss: 0.6602 - val_accuracy: 0.7543\n",
      "Epoch 3/10\n",
      "455/455 [==============================] - 53s 116ms/step - loss: 0.5423 - accuracy: 0.7882 - val_loss: 0.5737 - val_accuracy: 0.7603\n",
      "Epoch 4/10\n",
      "455/455 [==============================] - 54s 119ms/step - loss: 0.5174 - accuracy: 0.7962 - val_loss: 0.5660 - val_accuracy: 0.7661\n",
      "Epoch 5/10\n",
      "455/455 [==============================] - 55s 120ms/step - loss: 0.5012 - accuracy: 0.8036 - val_loss: 0.5884 - val_accuracy: 0.7609\n",
      "Epoch 6/10\n",
      "455/455 [==============================] - 55s 120ms/step - loss: 0.4806 - accuracy: 0.8143 - val_loss: 0.5795 - val_accuracy: 0.7716\n",
      "Epoch 7/10\n",
      "455/455 [==============================] - 56s 124ms/step - loss: 0.4649 - accuracy: 0.8171 - val_loss: 0.5699 - val_accuracy: 0.7746\n",
      "Epoch 8/10\n",
      "455/455 [==============================] - 58s 128ms/step - loss: 0.4452 - accuracy: 0.8262 - val_loss: 0.5672 - val_accuracy: 0.7730\n",
      "Epoch 9/10\n",
      "455/455 [==============================] - 59s 129ms/step - loss: 0.4234 - accuracy: 0.8320 - val_loss: 0.5776 - val_accuracy: 0.7730\n",
      "Epoch 10/10\n",
      "455/455 [==============================] - 58s 128ms/step - loss: 0.4057 - accuracy: 0.8418 - val_loss: 0.5911 - val_accuracy: 0.7799\n"
     ]
    },
    {
     "data": {
      "text/plain": [
       "<keras.callbacks.History at 0x23c1aaf91c0>"
      ]
     },
     "execution_count": 25,
     "metadata": {},
     "output_type": "execute_result"
    }
   ],
   "source": [
    "model_Sbi.fit(X_train_embedded,y_encoded, validation_split=0.2, epochs = 10\n",
    "                #, callbacks=[callback]\n",
    "                )"
   ]
  },
  {
   "cell_type": "code",
   "execution_count": 26,
   "metadata": {},
   "outputs": [
    {
     "name": "stdout",
     "output_type": "stream",
     "text": [
      "              precision    recall  f1-score   support\n",
      "\n",
      "         NFS       0.78      0.92      0.84      3314\n",
      "         UFS       0.51      0.33      0.40       623\n",
      "         CFS       0.71      0.51      0.59      1426\n",
      "\n",
      "    accuracy                           0.74      5363\n",
      "   macro avg       0.67      0.59      0.61      5363\n",
      "weighted avg       0.73      0.74      0.73      5363\n",
      "\n"
     ]
    }
   ],
   "source": [
    "predictions = model_Sbi.predict(X_test_embedded)\n",
    "preds = one_hot_encoder.inverse_transform(predictions).reshape(-1,)\n",
    "print(classification_report(y_test, preds, target_names=[\"NFS\", \"UFS\", \"CFS\"]))\n"
   ]
  },
  {
   "cell_type": "code",
   "execution_count": 27,
   "metadata": {},
   "outputs": [
    {
     "name": "stdout",
     "output_type": "stream",
     "text": [
      "Confusion matrix, without normalization\n"
     ]
    },
    {
     "data": {
      "image/png": "[encoded data removed]",
      "text/plain": [
       "<Figure size 432x288 with 2 Axes>"
      ]
     },
     "metadata": {
      "needs_background": "light"
     },
     "output_type": "display_data"
    }
   ],
   "source": [
    "cm = confusion_matrix(y_test, preds)\n",
    "plot_confusion_matrix(cm, classes=[\"NFS\", \"UFS\", \"CFS\"], title='Confusion matrix, Stacked bi-LSTM')"
   ]
  },
  {
   "cell_type": "markdown",
   "metadata": {},
   "source": [
    "## Convolutional Neural Network"
   ]
  },
  {
   "cell_type": "code",
   "execution_count": 28,
   "metadata": {},
   "outputs": [],
   "source": [
    "from tensorflow.keras.layers import GlobalMaxPooling1D\n",
    "from tensorflow.keras.layers import Conv1D\n",
    "clear_session()\n"
   ]
  },
  {
   "cell_type": "code",
   "execution_count": 29,
   "metadata": {},
   "outputs": [
    {
     "name": "stdout",
     "output_type": "stream",
     "text": [
      "Model: \"sequential\"\n",
      "_________________________________________________________________\n",
      " Layer (type)                Output Shape              Param #   \n",
      "=================================================================\n",
      " embedding (Embedding)       (None, 100, 100)          1035300   \n",
      "                                                                 \n",
      " conv1d (Conv1D)             (None, 91, 128)           128128    \n",
      "                                                                 \n",
      " global_max_pooling1d (Globa  (None, 128)              0         \n",
      " lMaxPooling1D)                                                  \n",
      "                                                                 \n",
      " dense (Dense)               (None, 32)                4128      \n",
      "                                                                 \n",
      " dense_1 (Dense)             (None, 3)                 99        \n",
      "                                                                 \n",
      "=================================================================\n",
      "Total params: 1,167,655\n",
      "Trainable params: 132,355\n",
      "Non-trainable params: 1,035,300\n",
      "_________________________________________________________________\n"
     ]
    }
   ],
   "source": [
    "embedding_dim = 100\n",
    "\n",
    "model = Sequential()\n",
    "model.add(Embedding(len(word_index) + 1, \n",
    "                         output_dim=max_length, \n",
    "                         input_length=max_length,\n",
    "                         weights=[embedding_matrix],\n",
    "                         trainable = False\n",
    "                         ))\n",
    "model.add(Conv1D(128, 10, activation='relu'))\n",
    "model.add(GlobalMaxPooling1D())\n",
    "model.add(Dense(32, activation='relu'))\n",
    "model.add(Dense(3, activation='softmax'))\n",
    "model.compile(optimizer='adam',\n",
    "              loss='categorical_crossentropy',\n",
    "              metrics=['accuracy'])\n",
    "model.summary()"
   ]
  },
  {
   "cell_type": "code",
   "execution_count": 30,
   "metadata": {},
   "outputs": [
    {
     "name": "stdout",
     "output_type": "stream",
     "text": [
      "Epoch 1/10\n",
      "455/455 [==============================] - 5s 11ms/step - loss: 0.6130 - accuracy: 0.7567 - val_loss: 0.5964 - val_accuracy: 0.7488\n",
      "Epoch 2/10\n",
      "455/455 [==============================] - 5s 11ms/step - loss: 0.4938 - accuracy: 0.8059 - val_loss: 0.6123 - val_accuracy: 0.7515\n",
      "Epoch 3/10\n",
      "455/455 [==============================] - 5s 11ms/step - loss: 0.4090 - accuracy: 0.8413 - val_loss: 0.5975 - val_accuracy: 0.7534\n",
      "Epoch 4/10\n",
      "455/455 [==============================] - 5s 10ms/step - loss: 0.3262 - accuracy: 0.8751 - val_loss: 0.6804 - val_accuracy: 0.7512\n",
      "Epoch 5/10\n",
      "455/455 [==============================] - 5s 11ms/step - loss: 0.2181 - accuracy: 0.9225 - val_loss: 0.7505 - val_accuracy: 0.7389\n",
      "Epoch 6/10\n",
      "455/455 [==============================] - 5s 11ms/step - loss: 0.1360 - accuracy: 0.9549 - val_loss: 0.9213 - val_accuracy: 0.7485\n",
      "Epoch 7/10\n",
      "455/455 [==============================] - 5s 11ms/step - loss: 0.0850 - accuracy: 0.9751 - val_loss: 0.9466 - val_accuracy: 0.7386\n",
      "Epoch 8/10\n",
      "455/455 [==============================] - 5s 11ms/step - loss: 0.0621 - accuracy: 0.9803 - val_loss: 1.0911 - val_accuracy: 0.7375\n",
      "Epoch 9/10\n",
      "455/455 [==============================] - 5s 11ms/step - loss: 0.0325 - accuracy: 0.9916 - val_loss: 2.0715 - val_accuracy: 0.7196\n",
      "Epoch 10/10\n",
      "455/455 [==============================] - 5s 11ms/step - loss: 0.1197 - accuracy: 0.9600 - val_loss: 1.2714 - val_accuracy: 0.7449\n"
     ]
    },
    {
     "data": {
      "text/plain": [
       "<keras.callbacks.History at 0x23c1a7f4fd0>"
      ]
     },
     "execution_count": 30,
     "metadata": {},
     "output_type": "execute_result"
    }
   ],
   "source": [
    "model.fit(X_train_embedded,y_encoded, validation_split=0.2, epochs = 10\n",
    "                #, callbacks=[callback]\n",
    "                )"
   ]
  },
  {
   "cell_type": "code",
   "execution_count": 31,
   "metadata": {},
   "outputs": [
    {
     "name": "stdout",
     "output_type": "stream",
     "text": [
      "              precision    recall  f1-score   support\n",
      "\n",
      "         NFS       0.76      0.90      0.83      3314\n",
      "         UFS       0.39      0.36      0.37       623\n",
      "         CFS       0.69      0.43      0.53      1426\n",
      "\n",
      "    accuracy                           0.71      5363\n",
      "   macro avg       0.62      0.56      0.58      5363\n",
      "weighted avg       0.70      0.71      0.69      5363\n",
      "\n"
     ]
    }
   ],
   "source": [
    "predictions = model.predict(X_test_embedded)\n",
    "preds = one_hot_encoder.inverse_transform(predictions).reshape(-1,)\n",
    "print(classification_report(y_test, preds, target_names=[\"NFS\", \"UFS\", \"CFS\"]))"
   ]
  },
  {
   "cell_type": "code",
   "execution_count": 32,
   "metadata": {},
   "outputs": [
    {
     "name": "stdout",
     "output_type": "stream",
     "text": [
      "Confusion matrix, without normalization\n"
     ]
    },
    {
     "data": {
      "image/png": "[encoded data removed]",
      "text/plain": [
       "<Figure size 432x288 with 2 Axes>"
      ]
     },
     "metadata": {
      "needs_background": "light"
     },
     "output_type": "display_data"
    }
   ],
   "source": [
    "cm = confusion_matrix(y_test, preds)\n",
    "plot_confusion_matrix(cm, classes=[\"NFS\", \"UFS\", \"CFS\"], title='Confusion matrix CNN')"
   ]
  },
  {
   "cell_type": "markdown",
   "metadata": {},
   "source": [
    "## Convolutional Neural network + LSTM"
   ]
  },
  {
   "cell_type": "code",
   "execution_count": 33,
   "metadata": {},
   "outputs": [],
   "source": [
    "model_conv = Sequential()\n",
    "model_conv.add(Embedding(len(word_index) + 1, \n",
    "                         output_dim=max_length, \n",
    "                         input_length=max_length,\n",
    "                         weights=[embedding_matrix],\n",
    "                         trainable = False\n",
    "                         ))\n",
    "model_conv.add(Dropout(0.2))\n",
    "model_conv.add(Conv1D(128, 10, activation='relu'))\n",
    "model_conv.add(MaxPooling1D(pool_size=10))\n",
    "model_conv.add(LSTM(100))\n",
    "model_conv.add(Dense(32, activation = \"relu\"))\n",
    "model_conv.add(Dense(3, activation='softmax'))\n",
    "model_conv.compile(loss='categorical_crossentropy', optimizer='adam', metrics=['accuracy'])"
   ]
  },
  {
   "cell_type": "code",
   "execution_count": 34,
   "metadata": {},
   "outputs": [
    {
     "name": "stdout",
     "output_type": "stream",
     "text": [
      "Model: \"sequential_1\"\n",
      "_________________________________________________________________\n",
      " Layer (type)                Output Shape              Param #   \n",
      "=================================================================\n",
      " embedding_1 (Embedding)     (None, 100, 100)          1035300   \n",
      "                                                                 \n",
      " dropout (Dropout)           (None, 100, 100)          0         \n",
      "                                                                 \n",
      " conv1d_1 (Conv1D)           (None, 91, 128)           128128    \n",
      "                                                                 \n",
      " max_pooling1d (MaxPooling1D  (None, 9, 128)           0         \n",
      " )                                                               \n",
      "                                                                 \n",
      " lstm (LSTM)                 (None, 100)               91600     \n",
      "                                                                 \n",
      " dense_2 (Dense)             (None, 32)                3232      \n",
      "                                                                 \n",
      " dense_3 (Dense)             (None, 3)                 99        \n",
      "                                                                 \n",
      "=================================================================\n",
      "Total params: 1,258,359\n",
      "Trainable params: 223,059\n",
      "Non-trainable params: 1,035,300\n",
      "_________________________________________________________________\n"
     ]
    }
   ],
   "source": [
    "model_conv.summary()"
   ]
  },
  {
   "cell_type": "code",
   "execution_count": 35,
   "metadata": {},
   "outputs": [
    {
     "name": "stdout",
     "output_type": "stream",
     "text": [
      "Epoch 1/10\n",
      "455/455 [==============================] - 9s 17ms/step - loss: 0.6825 - accuracy: 0.7323 - val_loss: 0.6475 - val_accuracy: 0.7474\n",
      "Epoch 2/10\n",
      "455/455 [==============================] - 7s 16ms/step - loss: 0.5750 - accuracy: 0.7735 - val_loss: 0.6203 - val_accuracy: 0.7455\n",
      "Epoch 3/10\n",
      "455/455 [==============================] - 8s 17ms/step - loss: 0.5292 - accuracy: 0.7940 - val_loss: 0.5892 - val_accuracy: 0.7614\n",
      "Epoch 4/10\n",
      "455/455 [==============================] - 8s 17ms/step - loss: 0.4923 - accuracy: 0.8074 - val_loss: 0.5994 - val_accuracy: 0.7606\n",
      "Epoch 5/10\n",
      "455/455 [==============================] - 7s 16ms/step - loss: 0.4406 - accuracy: 0.8301 - val_loss: 0.6378 - val_accuracy: 0.7587\n",
      "Epoch 6/10\n",
      "455/455 [==============================] - 7s 16ms/step - loss: 0.4063 - accuracy: 0.8467 - val_loss: 0.6125 - val_accuracy: 0.7576\n",
      "Epoch 7/10\n",
      "455/455 [==============================] - 7s 16ms/step - loss: 0.3606 - accuracy: 0.8658 - val_loss: 0.7616 - val_accuracy: 0.7507\n",
      "Epoch 8/10\n",
      "455/455 [==============================] - 7s 16ms/step - loss: 0.3245 - accuracy: 0.8816 - val_loss: 0.6984 - val_accuracy: 0.7367\n",
      "Epoch 9/10\n",
      "455/455 [==============================] - 7s 16ms/step - loss: 0.2851 - accuracy: 0.8946 - val_loss: 0.7179 - val_accuracy: 0.7413\n",
      "Epoch 10/10\n",
      "455/455 [==============================] - 7s 16ms/step - loss: 0.2577 - accuracy: 0.9067 - val_loss: 0.9240 - val_accuracy: 0.7562\n"
     ]
    },
    {
     "data": {
      "text/plain": [
       "<keras.callbacks.History at 0x23c299e2550>"
      ]
     },
     "execution_count": 35,
     "metadata": {},
     "output_type": "execute_result"
    }
   ],
   "source": [
    "model_conv.fit(X_train_embedded,y_encoded, validation_split=0.2, epochs = 10\n",
    "                #, callbacks=[callback]\n",
    "                )"
   ]
  },
  {
   "cell_type": "code",
   "execution_count": 36,
   "metadata": {},
   "outputs": [
    {
     "name": "stdout",
     "output_type": "stream",
     "text": [
      "              precision    recall  f1-score   support\n",
      "\n",
      "         NFS       0.73      0.95      0.83      3314\n",
      "         UFS       0.46      0.21      0.29       623\n",
      "         CFS       0.72      0.40      0.52      1426\n",
      "\n",
      "    accuracy                           0.72      5363\n",
      "   macro avg       0.64      0.52      0.54      5363\n",
      "weighted avg       0.70      0.72      0.68      5363\n",
      "\n"
     ]
    }
   ],
   "source": [
    "predictions = model_conv.predict(X_test_embedded)\n",
    "preds = one_hot_encoder.inverse_transform(predictions).reshape(-1,)\n",
    "print(classification_report(y_test, preds, target_names=[\"NFS\", \"UFS\", \"CFS\"]))\n"
   ]
  },
  {
   "cell_type": "code",
   "execution_count": 37,
   "metadata": {},
   "outputs": [
    {
     "name": "stdout",
     "output_type": "stream",
     "text": [
      "Confusion matrix, without normalization\n"
     ]
    },
    {
     "data": {
      "image/png": "[encoded data removed]",
      "text/plain": [
       "<Figure size 432x288 with 2 Axes>"
      ]
     },
     "metadata": {
      "needs_background": "light"
     },
     "output_type": "display_data"
    }
   ],
   "source": [
    "cm = confusion_matrix(y_test, preds)\n",
    "plot_confusion_matrix(cm, classes=[\"NFS\", \"UFS\", \"CFS\"], title='Confusion matrix CNN+LSTM')"
   ]
  },
  {
   "cell_type": "markdown",
   "metadata": {},
   "source": [
    "## Hyper parameter tunning - Bidirectional LSTM"
   ]
  },
  {
   "cell_type": "code",
   "execution_count": 51,
   "metadata": {},
   "outputs": [],
   "source": [
    "def build_model(unit,drop_out,dense):\n",
    "    embedding_dim = 100\n",
    "    model_bi = Sequential()\n",
    "    model_bi.add(Embedding(len(word_index) + 1, \n",
    "                            output_dim=max_length, \n",
    "                            input_length=max_length,\n",
    "                            weights=[embedding_matrix],\n",
    "                            trainable = False\n",
    "                            ))\n",
    "    model_bi.add(Bidirectional(LSTM(unit)))\n",
    "    model_bi.add(Dropout(drop_out))\n",
    "    model_bi.add(Dense(dense, activation = \"relu\"))\n",
    "    model_bi.add(Dense(3, activation='softmax'))\n",
    "    model_bi.compile(loss='categorical_crossentropy', optimizer='adam', metrics=['accuracy'])\n",
    "    return model_bi"
   ]
  },
  {
   "cell_type": "code",
   "execution_count": 50,
   "metadata": {},
   "outputs": [],
   "source": [
    "clear_session()"
   ]
  },
  {
   "cell_type": "code",
   "execution_count": 53,
   "metadata": {},
   "outputs": [
    {
     "name": "stdout",
     "output_type": "stream",
     "text": [
      "unit: 300, drop_out: 0.6, dense: 32, f1: 0.6779642791962793\n",
      "unit: 300, drop_out: 0.6, dense: 100, f1: 0.686774385278598\n",
      "unit: 300, drop_out: 0.6, dense: 250, f1: 0.7022333044878466\n",
      "unit: 300, drop_out: 0.65, dense: 32, f1: 0.6882708451271887\n",
      "unit: 300, drop_out: 0.65, dense: 100, f1: 0.6967097479266691\n",
      "unit: 300, drop_out: 0.65, dense: 250, f1: 0.7183413248093649\n",
      "unit: 300, drop_out: 0.7, dense: 32, f1: 0.7188720883120961\n",
      "unit: 300, drop_out: 0.7, dense: 100, f1: 0.7255109453578212\n",
      "unit: 300, drop_out: 0.7, dense: 250, f1: 0.7119875640995232\n",
      "unit: 350, drop_out: 0.6, dense: 32, f1: 0.7178446710994056\n",
      "unit: 350, drop_out: 0.6, dense: 100, f1: 0.714997032779185\n",
      "unit: 350, drop_out: 0.6, dense: 250, f1: 0.6882557288432918\n",
      "unit: 350, drop_out: 0.65, dense: 32, f1: 0.7190820826254531\n",
      "unit: 350, drop_out: 0.65, dense: 100, f1: 0.7267048366494475\n",
      "unit: 350, drop_out: 0.65, dense: 250, f1: 0.71070432429615\n",
      "unit: 350, drop_out: 0.7, dense: 32, f1: 0.7209737056031045\n",
      "unit: 350, drop_out: 0.7, dense: 100, f1: 0.7129543091508803\n",
      "unit: 350, drop_out: 0.7, dense: 250, f1: 0.7139420707384843\n"
     ]
    }
   ],
   "source": [
    "unit = [300, 350]\n",
    "drop_out = [0.6, 0.65, 0.7]\n",
    "dense = [32, 100, 250]\n",
    "scores = {}\n",
    "i = 0\n",
    "for u in unit:\n",
    "    for drop in drop_out:\n",
    "        for den in dense:\n",
    "            model = build_model(u, drop, den)\n",
    "            model.fit(X_train_embedded,y_encoded, validation_split=0.2, epochs = 5, verbose=0)\n",
    "            y_predict = model.predict(X_test_embedded)\n",
    "            y_preds = one_hot_encoder.inverse_transform(y_predict).reshape(-1,)\n",
    "            if i == 0:\n",
    "                F1 = f1_score(y_test, y_preds, average='weighted')\n",
    "\n",
    "                scores.update({ \n",
    "                            'f1':  F1,\n",
    "                            'unit': u,\n",
    "                            'drop_out': drop,\n",
    "                            'dense': den})\n",
    "            else:\n",
    "                \n",
    "                F1 = f1_score(y_test, y_preds, average='weighted')\n",
    "\n",
    "                if F1 > scores['f1']: \n",
    "\n",
    "                    scores.update({ \n",
    "                                'f1':  F1,\n",
    "                                'unit': u,\n",
    "                                'drop_out': drop,\n",
    "                                'dense': den})\n",
    "            i+=1\n",
    "            print(f'unit: {u}, drop_out: {drop}, dense: {den}, f1: {F1}')\n",
    "            clear_session()\n"
   ]
  },
  {
   "cell_type": "code",
   "execution_count": 54,
   "metadata": {},
   "outputs": [
    {
     "data": {
      "text/plain": [
       "{'f1': 0.7267048366494475, 'unit': 350, 'drop_out': 0.65, 'dense': 100}"
      ]
     },
     "execution_count": 54,
     "metadata": {},
     "output_type": "execute_result"
    }
   ],
   "source": [
    "scores"
   ]
  },
  {
   "cell_type": "code",
   "execution_count": null,
   "metadata": {},
   "outputs": [],
   "source": [
    "embedding_dim = 100\n",
    "model_bi = Sequential()\n",
    "model_bi.add(Embedding(len(word_index) + 1, \n",
    "                         output_dim=max_length, \n",
    "                         input_length=max_length,\n",
    "                         weights=[embedding_matrix],\n",
    "                         trainable = False\n",
    "                         ))\n",
    "model_bi.add(Bidirectional(LSTM(350)))\n",
    "model_bi.add(Dropout(0.65))\n",
    "model_bi.add(Dense(100, activation = \"relu\"))\n",
    "model_bi.add(Dense(3, activation='softmax'))\n",
    "model_bi.compile(loss='categorical_crossentropy', optimizer='adam', metrics=['accuracy'])\n",
    "model_bi.summary()\n",
    "model_bi.fit(X_train_embedded,y_encoded, validation_split=0.2, epochs = 10\n",
    "                #, callbacks=[callback]\n",
    "                )\n"
   ]
  },
  {
   "cell_type": "code",
   "execution_count": 57,
   "metadata": {},
   "outputs": [
    {
     "name": "stdout",
     "output_type": "stream",
     "text": [
      "              precision    recall  f1-score   support\n",
      "\n",
      "         NFS       0.80      0.91      0.85      3314\n",
      "         UFS       0.51      0.34      0.41       623\n",
      "         CFS       0.70      0.57      0.63      1426\n",
      "\n",
      "    accuracy                           0.75      5363\n",
      "   macro avg       0.67      0.61      0.63      5363\n",
      "weighted avg       0.74      0.75      0.74      5363\n",
      "\n"
     ]
    }
   ],
   "source": [
    "predictions = model_bi.predict(X_test_embedded)\n",
    "preds = one_hot_encoder.inverse_transform(predictions).reshape(-1,)\n",
    "print(classification_report(y_test, preds, target_names=[\"NFS\", \"UFS\", \"CFS\"]))"
   ]
  },
  {
   "cell_type": "code",
   "execution_count": 58,
   "metadata": {},
   "outputs": [
    {
     "name": "stdout",
     "output_type": "stream",
     "text": [
      "Confusion matrix, without normalization\n"
     ]
    },
    {
     "data": {
      "image/png": "[encoded data removed]",
      "text/plain": [
       "<Figure size 432x288 with 2 Axes>"
      ]
     },
     "metadata": {
      "needs_background": "light"
     },
     "output_type": "display_data"
    }
   ],
   "source": [
    "cm = confusion_matrix(y_test, preds)\n",
    "plot_confusion_matrix(cm, classes=[\"NFS\", \"UFS\", \"CFS\"], title='Confusion matrix, bi-LSTM')"
   ]
  },
  {
   "cell_type": "markdown",
   "metadata": {},
   "source": [
    "We can see that fine tuning the Bi-LSTM model resulted in higher performance of the classifier. The proportion of samples correctly classified for the CFS class also increased in comparison with the original case."
   ]
  },
  {
   "cell_type": "markdown",
   "metadata": {},
   "source": [
    "### ROC curve"
   ]
  },
  {
   "cell_type": "markdown",
   "metadata": {},
   "source": [
    "The ROC curve implementation waas retrived from https://www.dlology.com/blog/simple-guide-on-how-to-generate-roc-plot-for-keras-classifier/"
   ]
  },
  {
   "cell_type": "code",
   "execution_count": 61,
   "metadata": {},
   "outputs": [
    {
     "name": "stderr",
     "output_type": "stream",
     "text": [
      "C:\\Users\\bruna\\AppData\\Local\\Temp/ipykernel_15908/2509742168.py:33: DeprecationWarning: scipy.interp is deprecated and will be removed in SciPy 2.0.0, use numpy.interp instead\n",
      "  mean_tpr += interp(all_fpr, fpr[i], tpr[i])\n"
     ]
    },
    {
     "data": {
      "image/png": "[encoded data removed]",
      "text/plain": [
       "<Figure size 576x576 with 1 Axes>"
      ]
     },
     "metadata": {
      "needs_background": "light"
     },
     "output_type": "display_data"
    }
   ],
   "source": [
    "from scipy import interp\n",
    "import matplotlib.pyplot as plt\n",
    "from itertools import cycle\n",
    "from sklearn.metrics import roc_curve, auc\n",
    "\n",
    "\n",
    "\n",
    "# Plot linewidth.\n",
    "lw = 2\n",
    "\n",
    "n_classes = 3\n",
    "\n",
    "#Plotting\n",
    "\n",
    "# Compute ROC curve and ROC area for each class\n",
    "fpr = dict()\n",
    "tpr = dict()\n",
    "roc_auc = dict()\n",
    "for i in range(n_classes):\n",
    "    fpr[i], tpr[i], _ = roc_curve(y_encoded_test[:, i], predictions[:, i])\n",
    "    roc_auc[i] = auc(fpr[i], tpr[i])\n",
    "\n",
    "# Compute micro-average ROC curve and ROC area\n",
    "fpr[\"micro\"], tpr[\"micro\"], _ = roc_curve(y_encoded_test.ravel(), predictions.ravel())\n",
    "roc_auc[\"micro\"] = auc(fpr[\"micro\"], tpr[\"micro\"])\n",
    "\n",
    "# Compute macro-average ROC curve and ROC area\n",
    "\n",
    "# First aggregate all false positive rates\n",
    "all_fpr = np.unique(np.concatenate([fpr[i] for i in range(n_classes)]))\n",
    "\n",
    "# Then interpolate all ROC curves at this points\n",
    "mean_tpr = np.zeros_like(all_fpr)\n",
    "for i in range(n_classes):\n",
    "    mean_tpr += interp(all_fpr, fpr[i], tpr[i])\n",
    "\n",
    "# Finally average it and compute AUC\n",
    "mean_tpr /= n_classes\n",
    "\n",
    "fpr[\"macro\"] = all_fpr\n",
    "tpr[\"macro\"] = mean_tpr\n",
    "roc_auc[\"macro\"] = auc(fpr[\"macro\"], tpr[\"macro\"])\n",
    "\n",
    "# Plot all ROC curves\n",
    "plt.figure(figsize=(8,8))\n",
    "plt.plot(fpr[\"micro\"], tpr[\"micro\"],\n",
    "         label='micro-average ROC curve (area = {0:0.2f})'\n",
    "               ''.format(roc_auc[\"micro\"]),\n",
    "         color='deeppink', linestyle=':', linewidth=4)\n",
    "\n",
    "plt.plot(fpr[\"macro\"], tpr[\"macro\"],\n",
    "         label='macro-average ROC curve (area = {0:0.2f})'\n",
    "               ''.format(roc_auc[\"macro\"]),\n",
    "         color='navy', linestyle=':', linewidth=4)\n",
    "\n",
    "colors = cycle(['aqua', 'darkorange', 'cornflowerblue'])\n",
    "for i, color in zip(range(n_classes), colors):\n",
    "    plt.plot(fpr[i], tpr[i], color=color, lw=lw,\n",
    "             label='ROC curve of class {0} (area = {1:0.2f})'\n",
    "             ''.format(i, roc_auc[i]))\n",
    "\n",
    "plt.plot([0, 1], [0, 1], 'k--', lw=lw)\n",
    "plt.xlim([0.0, 1.0])\n",
    "plt.ylim([0.0, 1.05])\n",
    "plt.xlabel('False Positive Rate')\n",
    "plt.ylabel('True Positive Rate')\n",
    "plt.title('ROC multi-class')\n",
    "plt.legend(loc=\"lower right\")\n",
    "plt.show()\n"
   ]
  },
  {
   "cell_type": "code",
   "execution_count": null,
   "metadata": {},
   "outputs": [],
   "source": []
  }
 ],
 "metadata": {
  "interpreter": {
   "hash": "6fac1c46211edb20ff6398462b8c2a023c28966a3a7910175ddefe7a86b617a9"
  },
  "kernelspec": {
   "display_name": "Python 3.9.12 64-bit (windows store)",
   "language": "python",
   "name": "python3"
  },
  "language_info": {
   "codemirror_mode": {
    "name": "ipython",
    "version": 3
   },
   "file_extension": ".py",
   "mimetype": "text/x-python",
   "name": "python",
   "nbconvert_exporter": "python",
   "pygments_lexer": "ipython3",
   "version": "3.9.12"
  },
  "orig_nbformat": 4
 },
 "nbformat": 4,
 "nbformat_minor": 2
}
