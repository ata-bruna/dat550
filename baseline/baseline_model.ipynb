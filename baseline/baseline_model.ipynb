{
 "cells": [
  {
   "cell_type": "markdown",
   "metadata": {},
   "source": [
    "# Detect claims to fact check in political debates\n",
    "\n",
    "In this project you will implement various classifiers using both neural and feature based technqiues to detect which sentences in political debates should be fact checked.\n",
    "Dataset from ClaimBuster: https://zenodo.org/record/3609356 \n",
    "Evaluate your classifiers using the same metrics as http://ranger.uta.edu/~cli/pubs/2017/claimbuster-kdd17-hassan.pdf (Table 2)\n",
    "\n",
    "Classification report from sklearn provides everything"
   ]
  },
  {
   "cell_type": "code",
   "execution_count": 1,
   "metadata": {},
   "outputs": [],
   "source": [
    "from sklearn.ensemble import RandomForestClassifier\n",
    "from sklearn.feature_extraction.text import TfidfVectorizer\n",
    "from sklearn import svm\n",
    "import numpy as np\n",
    "import pandas as pd\n",
    "import matplotlib.pyplot as plt\n",
    "from sklearn.metrics import *\n",
    "from sklearn.linear_model import Perceptron\n",
    "from sklearn.neighbors import KNeighborsClassifier\n",
    "from sklearn.naive_bayes import ComplementNB\n",
    "from sklearn.tree import DecisionTreeClassifier\n",
    "import time "
   ]
  },
  {
   "cell_type": "markdown",
   "metadata": {},
   "source": [
    "# Load the data"
   ]
  },
  {
   "cell_type": "code",
   "execution_count": 2,
   "metadata": {},
   "outputs": [
    {
     "name": "stdout",
     "output_type": "stream",
     "text": [
      "<class 'pandas.core.frame.DataFrame'>\n",
      "RangeIndex: 23462 entries, 0 to 23461\n",
      "Data columns (total 5 columns):\n",
      " #   Column      Non-Null Count  Dtype         \n",
      "---  ------      --------------  -----         \n",
      " 0   index       23462 non-null  int64         \n",
      " 1   date        23462 non-null  datetime64[ns]\n",
      " 2   Text        23462 non-null  object        \n",
      " 3   Clean_text  23462 non-null  object        \n",
      " 4   Verdict     23462 non-null  int64         \n",
      "dtypes: datetime64[ns](1), int64(2), object(2)\n",
      "memory usage: 916.6+ KB\n"
     ]
    }
   ],
   "source": [
    "df = pd.read_csv(\"../data_preprocessing/data.csv\")\n",
    "df['date'] = pd.to_datetime(df['date'])\n",
    "df.dropna(inplace=True)\n",
    "df.reset_index(inplace=True)\n",
    "df.info()"
   ]
  },
  {
   "cell_type": "markdown",
   "metadata": {},
   "source": [
    "# Train-test split\n"
   ]
  },
  {
   "cell_type": "code",
   "execution_count": 3,
   "metadata": {},
   "outputs": [],
   "source": [
    "mask = df[\"date\"].dt.year < 2012\n",
    "\n",
    "X_train = df.loc[mask, \"Clean_text\"].values\n",
    "y_train = df.loc[mask, \"Verdict\"].values\n",
    "\n",
    "X_test = df.loc[~mask, \"Clean_text\"].values\n",
    "y_test = df.loc[~mask, \"Verdict\"].values"
   ]
  },
  {
   "cell_type": "markdown",
   "metadata": {},
   "source": [
    "# TF-idf"
   ]
  },
  {
   "cell_type": "code",
   "execution_count": 4,
   "metadata": {},
   "outputs": [
    {
     "name": "stdout",
     "output_type": "stream",
     "text": [
      "n_samples: 18118, n_features: 6251\n",
      "n_samples: 5344, n_features: 6251\n"
     ]
    }
   ],
   "source": [
    "vectorizer = TfidfVectorizer(max_df=0.6, stop_words='english')\n",
    "X_train = vectorizer.fit_transform(X_train)\n",
    "print(\"n_samples: %d, n_features: %d\" % X_train.shape)\n",
    "X_test = vectorizer.transform(X_test)\n",
    "print(\"n_samples: %d, n_features: %d\" % X_test.shape)\n",
    "\n",
    "feature_names = vectorizer.get_feature_names_out()\n",
    "\n"
   ]
  },
  {
   "cell_type": "markdown",
   "metadata": {},
   "source": [
    "# Base line model\n",
    "\n",
    "1. SVM\n",
    "2. KNN\n",
    "3. Perceptron\n",
    "4. Naive Bayes\n",
    "5. Decision Tree \n",
    "5. Random Forest"
   ]
  },
  {
   "cell_type": "code",
   "execution_count": 5,
   "metadata": {},
   "outputs": [],
   "source": [
    "import time \n",
    "\n",
    "def baseline(clf):\n",
    "    print(\"_\" * 80)\n",
    "    print(\"Training: \")\n",
    "    print(clf)\n",
    "    t0 = time.time()\n",
    "    clf.fit(X_train, y_train)\n",
    "    train_time = time.time() - t0\n",
    "    print(\"train time: %0.3fs\" % train_time)\n",
    "\n",
    "    t0 = time.time()\n",
    "    pred = clf.predict(X_test)\n",
    "    test_time = time.time() - t0\n",
    "    print(\"test time:  %0.3fs\" % test_time)\n",
    "\n",
    "    score = accuracy_score(y_test, pred)\n",
    "    print(\"accuracy:   %0.3f\" % score)\n",
    "\n",
    "    print()\n",
    "    print(\"                       Classification report\")\n",
    "    report = classification_report(y_test, pred, target_names= [\"NFS\", \"UFS\", \"CFS\"])\n",
    "    print(report)\n",
    "\n",
    "    return {\n",
    "            \"score\": score,\n",
    "            \"report\": report, \n",
    "            \"train_time\": train_time, \n",
    "            \"test_time\": test_time, \n",
    "            }\n"
   ]
  },
  {
   "cell_type": "code",
   "execution_count": 6,
   "metadata": {},
   "outputs": [
    {
     "name": "stdout",
     "output_type": "stream",
     "text": [
      "________________________________________________________________________________\n",
      "Training: \n",
      "SVC(kernel='linear')\n",
      "train time: 11.923s\n",
      "test time:  1.982s\n",
      "accuracy:   0.697\n",
      "\n",
      "                       Classification report\n",
      "              precision    recall  f1-score   support\n",
      "\n",
      "         NFS       0.71      0.93      0.81      3296\n",
      "         UFS       0.49      0.13      0.21       623\n",
      "         CFS       0.67      0.40      0.50      1425\n",
      "\n",
      "    accuracy                           0.70      5344\n",
      "   macro avg       0.63      0.49      0.51      5344\n",
      "weighted avg       0.67      0.70      0.66      5344\n",
      "\n",
      "________________________________________________________________________________\n",
      "Training: \n",
      "KNeighborsClassifier(n_neighbors=20)\n",
      "train time: 0.002s\n",
      "test time:  2.589s\n",
      "accuracy:   0.620\n",
      "\n",
      "                       Classification report\n",
      "              precision    recall  f1-score   support\n",
      "\n",
      "         NFS       0.62      1.00      0.76      3296\n",
      "         UFS       0.65      0.02      0.03       623\n",
      "         CFS       0.68      0.01      0.02      1425\n",
      "\n",
      "    accuracy                           0.62      5344\n",
      "   macro avg       0.65      0.34      0.27      5344\n",
      "weighted avg       0.64      0.62      0.48      5344\n",
      "\n",
      "________________________________________________________________________________\n",
      "Training: \n",
      "Perceptron(max_iter=100)\n",
      "train time: 0.056s\n",
      "test time:  0.000s\n",
      "accuracy:   0.653\n",
      "\n",
      "                       Classification report\n",
      "              precision    recall  f1-score   support\n",
      "\n",
      "         NFS       0.74      0.82      0.78      3296\n",
      "         UFS       0.30      0.26      0.28       623\n",
      "         CFS       0.55      0.45      0.49      1425\n",
      "\n",
      "    accuracy                           0.65      5344\n",
      "   macro avg       0.53      0.51      0.52      5344\n",
      "weighted avg       0.64      0.65      0.64      5344\n",
      "\n",
      "________________________________________________________________________________\n",
      "Training: \n",
      "ComplementNB()\n",
      "train time: 0.003s\n",
      "test time:  0.000s\n",
      "accuracy:   0.652\n",
      "\n",
      "                       Classification report\n",
      "              precision    recall  f1-score   support\n",
      "\n",
      "         NFS       0.76      0.77      0.77      3296\n",
      "         UFS       0.33      0.25      0.28       623\n",
      "         CFS       0.51      0.56      0.54      1425\n",
      "\n",
      "    accuracy                           0.65      5344\n",
      "   macro avg       0.54      0.53      0.53      5344\n",
      "weighted avg       0.65      0.65      0.65      5344\n",
      "\n",
      "________________________________________________________________________________\n",
      "Training: \n",
      "DecisionTreeClassifier()\n",
      "train time: 2.520s\n",
      "test time:  0.014s\n",
      "accuracy:   0.648\n",
      "\n",
      "                       Classification report\n",
      "              precision    recall  f1-score   support\n",
      "\n",
      "         NFS       0.72      0.84      0.77      3296\n",
      "         UFS       0.28      0.19      0.23       623\n",
      "         CFS       0.53      0.41      0.47      1425\n",
      "\n",
      "    accuracy                           0.65      5344\n",
      "   macro avg       0.51      0.48      0.49      5344\n",
      "weighted avg       0.62      0.65      0.63      5344\n",
      "\n",
      "________________________________________________________________________________\n",
      "Training: \n",
      "RandomForestClassifier(min_samples_split=5)\n",
      "train time: 9.255s\n",
      "test time:  0.442s\n",
      "accuracy:   0.686\n",
      "\n",
      "                       Classification report\n",
      "              precision    recall  f1-score   support\n",
      "\n",
      "         NFS       0.69      0.94      0.80      3296\n",
      "         UFS       0.41      0.13      0.20       623\n",
      "         CFS       0.71      0.33      0.45      1425\n",
      "\n",
      "    accuracy                           0.69      5344\n",
      "   macro avg       0.61      0.47      0.48      5344\n",
      "weighted avg       0.67      0.69      0.64      5344\n",
      "\n"
     ]
    }
   ],
   "source": [
    "results = {}\n",
    "\n",
    "clfs = [\n",
    "        (\"SVM\", svm.SVC(kernel='linear')), \n",
    "        (\"KNN\", KNeighborsClassifier(n_neighbors=20)), \n",
    "        (\"Perceptron\", Perceptron(max_iter=100)),\n",
    "        (\"NB\", ComplementNB()),\n",
    "        (\"DT\", DecisionTreeClassifier()),\n",
    "        (\"RF\", RandomForestClassifier(min_samples_split=5))\n",
    "        ]   \n",
    "\n",
    "for classifier in clfs:\n",
    "    result = baseline(classifier[1])  \n",
    "    results.setdefault(classifier[0], result)\n"
   ]
  },
  {
   "cell_type": "code",
   "execution_count": 7,
   "metadata": {},
   "outputs": [
    {
     "data": {
      "text/plain": [
       "dict_keys(['SVM', 'KNN', 'Perceptron', 'NB', 'DT', 'RF'])"
      ]
     },
     "execution_count": 7,
     "metadata": {},
     "output_type": "execute_result"
    }
   ],
   "source": [
    "results.keys()"
   ]
  },
  {
   "cell_type": "code",
   "execution_count": 8,
   "metadata": {},
   "outputs": [],
   "source": [
    "import itertools\n",
    "\n",
    "def plot_confusion_matrix(cm, classes,\n",
    "                          normalize=False,\n",
    "                          title='Confusion matrix',\n",
    "                          cmap=plt.cm.binary):\n",
    "    \"\"\"\n",
    "    See full source and example: \n",
    "    http://scikit-learn.org/stable/auto_examples/model_selection/plot_confusion_matrix.html\n",
    "    \n",
    "    This function prints and plots the confusion matrix.\n",
    "    Normalization can be applied by setting `normalize=True`.\n",
    "    \"\"\"\n",
    "    plt.imshow(cm, interpolation='nearest', cmap=cmap)\n",
    "    plt.title(title)\n",
    "    plt.colorbar()\n",
    "    tick_marks = np.arange(len(classes))\n",
    "    plt.xticks(tick_marks, classes, rotation=45)\n",
    "    plt.yticks(tick_marks, classes)\n",
    "\n",
    "    if normalize:\n",
    "        cm = cm.astype('float') / cm.sum(axis=1)[:, np.newaxis]\n",
    "        print(\"Normalized confusion matrix\")\n",
    "    else:\n",
    "        print('Confusion matrix, without normalization')\n",
    "\n",
    "    thresh = cm.max() / 2.\n",
    "    for i, j in itertools.product(range(cm.shape[0]), range(cm.shape[1])):\n",
    "        plt.text(j, i, cm[i, j],\n",
    "                 horizontalalignment=\"center\",\n",
    "                 color=\"white\" if cm[i, j] > thresh else \"black\")\n",
    "\n",
    "    plt.tight_layout()\n",
    "    plt.ylabel('True label')\n",
    "    plt.xlabel('Predicted label')"
   ]
  },
  {
   "cell_type": "code",
   "execution_count": 9,
   "metadata": {},
   "outputs": [
    {
     "name": "stdout",
     "output_type": "stream",
     "text": [
      "accuracy:   0.697\n",
      "Confusion matrix, without normalization\n"
     ]
    },
    {
     "data": {
      "image/png": "[encoded data removed]",
      "text/plain": [
       "<Figure size 432x288 with 2 Axes>"
      ]
     },
     "metadata": {
      "needs_background": "light"
     },
     "output_type": "display_data"
    }
   ],
   "source": [
    "clf = svm.SVC(kernel='linear')\n",
    "\n",
    "clf.fit(X_train, y_train)\n",
    "pred = clf.predict(X_test)\n",
    "score = accuracy_score(y_test, pred)\n",
    "print(\"accuracy:   %0.3f\" % score)\n",
    "cm = confusion_matrix(y_test, pred)\n",
    "plot_confusion_matrix(cm, classes=[\"NFS\", \"UFS\", \"CFS\"])"
   ]
  },
  {
   "cell_type": "code",
   "execution_count": null,
   "metadata": {},
   "outputs": [],
   "source": []
  }
 ],
 "metadata": {
  "interpreter": {
   "hash": "b82ba6ee2fa6fc8e732e2ad4d23a9f0e948eca091e73c38d7a866370a3b51fd6"
  },
  "kernelspec": {
   "display_name": "Python 3.9.12 64-bit (windows store)",
   "language": "python",
   "name": "python3"
  },
  "language_info": {
   "codemirror_mode": {
    "name": "ipython",
    "version": 3
   },
   "file_extension": ".py",
   "mimetype": "text/x-python",
   "name": "python",
   "nbconvert_exporter": "python",
   "pygments_lexer": "ipython3",
   "version": "3.9.12"
  },
  "orig_nbformat": 4
 },
 "nbformat": 4,
 "nbformat_minor": 2
}
